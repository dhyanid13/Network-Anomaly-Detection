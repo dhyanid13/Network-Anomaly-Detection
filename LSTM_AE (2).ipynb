{
  "nbformat": 4,
  "nbformat_minor": 0,
  "metadata": {
    "colab": {
      "name": "LSTM-AE.ipynb",
      "provenance": [],
      "collapsed_sections": []
    },
    "kernelspec": {
      "name": "python3",
      "display_name": "Python 3"
    },
    "language_info": {
      "name": "python"
    },
    "accelerator": "GPU"
  },
  "cells": [
    {
      "cell_type": "code",
      "metadata": {
        "colab": {
          "base_uri": "https://localhost:8080/"
        },
        "id": "UPf-RXPB7ro2",
        "outputId": "e45c20fc-0e76-4e89-ffe1-bfdc3ac8f6d8"
      },
      "source": [
        "from google.colab import drive\n",
        "drive.mount('/content/drive')"
      ],
      "execution_count": null,
      "outputs": [
        {
          "output_type": "stream",
          "name": "stdout",
          "text": [
            "Mounted at /content/drive\n"
          ]
        }
      ]
    },
    {
      "cell_type": "code",
      "metadata": {
        "id": "QARvejJK7uwR"
      },
      "source": [
        "\n",
        "import matplotlib.pyplot as plt\n",
        "import seaborn as sns\n",
        "import time\n",
        "from tensorflow.keras.models import Sequential\n",
        "from tensorflow.keras.layers import Dense, Dropout, Flatten, Conv2D, MaxPooling2D ,LSTM ,RepeatVector,TimeDistributed\n",
        "import numpy as np # linear algebra\n",
        "import pandas as pd # data processing, CSV file I/O (e.g. pd.read_csv)\n",
        "\n",
        "import os"
      ],
      "execution_count": null,
      "outputs": []
    },
    {
      "cell_type": "code",
      "metadata": {
        "colab": {
          "base_uri": "https://localhost:8080/",
          "height": 481
        },
        "id": "e_0MeoFf8gE8",
        "outputId": "9b17cbd8-3418-4d81-b50d-56a5971a9405"
      },
      "source": [
        "df=pd.read_csv('/content/drive/MyDrive/DATA/Normal_data.csv')\n",
        "df.head(5)"
      ],
      "execution_count": null,
      "outputs": [
        {
          "output_type": "execute_result",
          "data": {
            "text/html": [
              "<div>\n",
              "<style scoped>\n",
              "    .dataframe tbody tr th:only-of-type {\n",
              "        vertical-align: middle;\n",
              "    }\n",
              "\n",
              "    .dataframe tbody tr th {\n",
              "        vertical-align: top;\n",
              "    }\n",
              "\n",
              "    .dataframe thead th {\n",
              "        text-align: right;\n",
              "    }\n",
              "</style>\n",
              "<table border=\"1\" class=\"dataframe\">\n",
              "  <thead>\n",
              "    <tr style=\"text-align: right;\">\n",
              "      <th></th>\n",
              "      <th>Flow ID</th>\n",
              "      <th>Src IP</th>\n",
              "      <th>Src Port</th>\n",
              "      <th>Dst IP</th>\n",
              "      <th>Dst Port</th>\n",
              "      <th>Protocol</th>\n",
              "      <th>Timestamp</th>\n",
              "      <th>Flow Duration</th>\n",
              "      <th>Tot Fwd Pkts</th>\n",
              "      <th>Tot Bwd Pkts</th>\n",
              "      <th>TotLen Fwd Pkts</th>\n",
              "      <th>TotLen Bwd Pkts</th>\n",
              "      <th>Fwd Pkt Len Max</th>\n",
              "      <th>Fwd Pkt Len Min</th>\n",
              "      <th>Fwd Pkt Len Mean</th>\n",
              "      <th>Fwd Pkt Len Std</th>\n",
              "      <th>Bwd Pkt Len Max</th>\n",
              "      <th>Bwd Pkt Len Min</th>\n",
              "      <th>Bwd Pkt Len Mean</th>\n",
              "      <th>Bwd Pkt Len Std</th>\n",
              "      <th>Flow Byts/s</th>\n",
              "      <th>Flow Pkts/s</th>\n",
              "      <th>Flow IAT Mean</th>\n",
              "      <th>Flow IAT Std</th>\n",
              "      <th>Flow IAT Max</th>\n",
              "      <th>Flow IAT Min</th>\n",
              "      <th>Fwd IAT Tot</th>\n",
              "      <th>Fwd IAT Mean</th>\n",
              "      <th>Fwd IAT Std</th>\n",
              "      <th>Fwd IAT Max</th>\n",
              "      <th>Fwd IAT Min</th>\n",
              "      <th>Bwd IAT Tot</th>\n",
              "      <th>Bwd IAT Mean</th>\n",
              "      <th>Bwd IAT Std</th>\n",
              "      <th>Bwd IAT Max</th>\n",
              "      <th>Bwd IAT Min</th>\n",
              "      <th>Fwd PSH Flags</th>\n",
              "      <th>Bwd PSH Flags</th>\n",
              "      <th>Fwd URG Flags</th>\n",
              "      <th>Bwd URG Flags</th>\n",
              "      <th>...</th>\n",
              "      <th>Pkt Len Min</th>\n",
              "      <th>Pkt Len Max</th>\n",
              "      <th>Pkt Len Mean</th>\n",
              "      <th>Pkt Len Std</th>\n",
              "      <th>Pkt Len Var</th>\n",
              "      <th>FIN Flag Cnt</th>\n",
              "      <th>SYN Flag Cnt</th>\n",
              "      <th>RST Flag Cnt</th>\n",
              "      <th>PSH Flag Cnt</th>\n",
              "      <th>ACK Flag Cnt</th>\n",
              "      <th>URG Flag Cnt</th>\n",
              "      <th>CWE Flag Count</th>\n",
              "      <th>ECE Flag Cnt</th>\n",
              "      <th>Down/Up Ratio</th>\n",
              "      <th>Pkt Size Avg</th>\n",
              "      <th>Fwd Seg Size Avg</th>\n",
              "      <th>Bwd Seg Size Avg</th>\n",
              "      <th>Fwd Byts/b Avg</th>\n",
              "      <th>Fwd Pkts/b Avg</th>\n",
              "      <th>Fwd Blk Rate Avg</th>\n",
              "      <th>Bwd Byts/b Avg</th>\n",
              "      <th>Bwd Pkts/b Avg</th>\n",
              "      <th>Bwd Blk Rate Avg</th>\n",
              "      <th>Subflow Fwd Pkts</th>\n",
              "      <th>Subflow Fwd Byts</th>\n",
              "      <th>Subflow Bwd Pkts</th>\n",
              "      <th>Subflow Bwd Byts</th>\n",
              "      <th>Init Fwd Win Byts</th>\n",
              "      <th>Init Bwd Win Byts</th>\n",
              "      <th>Fwd Act Data Pkts</th>\n",
              "      <th>Fwd Seg Size Min</th>\n",
              "      <th>Active Mean</th>\n",
              "      <th>Active Std</th>\n",
              "      <th>Active Max</th>\n",
              "      <th>Active Min</th>\n",
              "      <th>Idle Mean</th>\n",
              "      <th>Idle Std</th>\n",
              "      <th>Idle Max</th>\n",
              "      <th>Idle Min</th>\n",
              "      <th>Label</th>\n",
              "    </tr>\n",
              "  </thead>\n",
              "  <tbody>\n",
              "    <tr>\n",
              "      <th>0</th>\n",
              "      <td>185.127.17.56-192.168.20.133-443-53648-6</td>\n",
              "      <td>185.127.17.56</td>\n",
              "      <td>443</td>\n",
              "      <td>192.168.20.133</td>\n",
              "      <td>53648</td>\n",
              "      <td>6</td>\n",
              "      <td>5/2/2020 13:58</td>\n",
              "      <td>245230</td>\n",
              "      <td>44</td>\n",
              "      <td>40</td>\n",
              "      <td>124937.0</td>\n",
              "      <td>1071.0</td>\n",
              "      <td>9100</td>\n",
              "      <td>0</td>\n",
              "      <td>2839.477273</td>\n",
              "      <td>1839.508257</td>\n",
              "      <td>517</td>\n",
              "      <td>0</td>\n",
              "      <td>26.775000</td>\n",
              "      <td>109.188026</td>\n",
              "      <td>513835.99070</td>\n",
              "      <td>342.535579</td>\n",
              "      <td>2954.578313</td>\n",
              "      <td>7953.221927</td>\n",
              "      <td>64066.0</td>\n",
              "      <td>-44.0</td>\n",
              "      <td>238564.0</td>\n",
              "      <td>5548.000000</td>\n",
              "      <td>10446.29576</td>\n",
              "      <td>64066.0</td>\n",
              "      <td>2.0</td>\n",
              "      <td>245230.0</td>\n",
              "      <td>6287.948718</td>\n",
              "      <td>12986.46879</td>\n",
              "      <td>79070.0</td>\n",
              "      <td>29.0</td>\n",
              "      <td>0</td>\n",
              "      <td>0</td>\n",
              "      <td>0</td>\n",
              "      <td>0</td>\n",
              "      <td>...</td>\n",
              "      <td>0</td>\n",
              "      <td>9100</td>\n",
              "      <td>1482.447059</td>\n",
              "      <td>1933.268313</td>\n",
              "      <td>3.737526e+06</td>\n",
              "      <td>0</td>\n",
              "      <td>1</td>\n",
              "      <td>0</td>\n",
              "      <td>0</td>\n",
              "      <td>1</td>\n",
              "      <td>0</td>\n",
              "      <td>0</td>\n",
              "      <td>0</td>\n",
              "      <td>0</td>\n",
              "      <td>1500.095238</td>\n",
              "      <td>2839.477273</td>\n",
              "      <td>26.775000</td>\n",
              "      <td>0</td>\n",
              "      <td>0</td>\n",
              "      <td>0</td>\n",
              "      <td>0</td>\n",
              "      <td>0</td>\n",
              "      <td>0</td>\n",
              "      <td>44</td>\n",
              "      <td>124937</td>\n",
              "      <td>40</td>\n",
              "      <td>1071</td>\n",
              "      <td>-1</td>\n",
              "      <td>65535</td>\n",
              "      <td>41</td>\n",
              "      <td>0</td>\n",
              "      <td>0.0</td>\n",
              "      <td>0.0</td>\n",
              "      <td>0.0</td>\n",
              "      <td>0.0</td>\n",
              "      <td>0.0</td>\n",
              "      <td>0.0</td>\n",
              "      <td>0.0</td>\n",
              "      <td>0.0</td>\n",
              "      <td>Normal</td>\n",
              "    </tr>\n",
              "    <tr>\n",
              "      <th>1</th>\n",
              "      <td>185.127.17.56-192.168.20.133-443-53650-6</td>\n",
              "      <td>192.168.20.133</td>\n",
              "      <td>53650</td>\n",
              "      <td>185.127.17.56</td>\n",
              "      <td>443</td>\n",
              "      <td>6</td>\n",
              "      <td>5/2/2020 13:58</td>\n",
              "      <td>1605449</td>\n",
              "      <td>107</td>\n",
              "      <td>149</td>\n",
              "      <td>1071.0</td>\n",
              "      <td>439537.0</td>\n",
              "      <td>517</td>\n",
              "      <td>0</td>\n",
              "      <td>10.009346</td>\n",
              "      <td>67.496680</td>\n",
              "      <td>27300</td>\n",
              "      <td>0</td>\n",
              "      <td>2949.912752</td>\n",
              "      <td>3012.589539</td>\n",
              "      <td>274445.34210</td>\n",
              "      <td>159.456949</td>\n",
              "      <td>6295.878431</td>\n",
              "      <td>56408.330520</td>\n",
              "      <td>859760.0</td>\n",
              "      <td>-102.0</td>\n",
              "      <td>1332121.0</td>\n",
              "      <td>12567.179250</td>\n",
              "      <td>83434.14155</td>\n",
              "      <td>861138.0</td>\n",
              "      <td>2.0</td>\n",
              "      <td>1603130.0</td>\n",
              "      <td>10831.959460</td>\n",
              "      <td>73926.65245</td>\n",
              "      <td>861129.0</td>\n",
              "      <td>1.0</td>\n",
              "      <td>0</td>\n",
              "      <td>0</td>\n",
              "      <td>0</td>\n",
              "      <td>0</td>\n",
              "      <td>...</td>\n",
              "      <td>0</td>\n",
              "      <td>27300</td>\n",
              "      <td>1714.428016</td>\n",
              "      <td>2713.465917</td>\n",
              "      <td>7.362897e+06</td>\n",
              "      <td>0</td>\n",
              "      <td>1</td>\n",
              "      <td>0</td>\n",
              "      <td>0</td>\n",
              "      <td>0</td>\n",
              "      <td>0</td>\n",
              "      <td>0</td>\n",
              "      <td>0</td>\n",
              "      <td>1</td>\n",
              "      <td>1721.125000</td>\n",
              "      <td>10.009346</td>\n",
              "      <td>2949.912752</td>\n",
              "      <td>0</td>\n",
              "      <td>0</td>\n",
              "      <td>0</td>\n",
              "      <td>0</td>\n",
              "      <td>0</td>\n",
              "      <td>0</td>\n",
              "      <td>107</td>\n",
              "      <td>1071</td>\n",
              "      <td>149</td>\n",
              "      <td>439537</td>\n",
              "      <td>-1</td>\n",
              "      <td>64240</td>\n",
              "      <td>4</td>\n",
              "      <td>0</td>\n",
              "      <td>0.0</td>\n",
              "      <td>0.0</td>\n",
              "      <td>0.0</td>\n",
              "      <td>0.0</td>\n",
              "      <td>0.0</td>\n",
              "      <td>0.0</td>\n",
              "      <td>0.0</td>\n",
              "      <td>0.0</td>\n",
              "      <td>Normal</td>\n",
              "    </tr>\n",
              "    <tr>\n",
              "      <th>2</th>\n",
              "      <td>192.168.20.133-192.168.20.2-35108-53-6</td>\n",
              "      <td>192.168.20.133</td>\n",
              "      <td>35108</td>\n",
              "      <td>192.168.20.2</td>\n",
              "      <td>53</td>\n",
              "      <td>6</td>\n",
              "      <td>5/2/2020 13:58</td>\n",
              "      <td>53078</td>\n",
              "      <td>5</td>\n",
              "      <td>5</td>\n",
              "      <td>66.0</td>\n",
              "      <td>758.0</td>\n",
              "      <td>66</td>\n",
              "      <td>0</td>\n",
              "      <td>13.200000</td>\n",
              "      <td>29.516097</td>\n",
              "      <td>638</td>\n",
              "      <td>0</td>\n",
              "      <td>151.600000</td>\n",
              "      <td>276.826299</td>\n",
              "      <td>15524.32269</td>\n",
              "      <td>188.401974</td>\n",
              "      <td>5897.555556</td>\n",
              "      <td>15184.845200</td>\n",
              "      <td>46232.0</td>\n",
              "      <td>19.0</td>\n",
              "      <td>50302.0</td>\n",
              "      <td>12575.500000</td>\n",
              "      <td>22521.87727</td>\n",
              "      <td>46251.0</td>\n",
              "      <td>67.0</td>\n",
              "      <td>52962.0</td>\n",
              "      <td>13240.500000</td>\n",
              "      <td>22052.04405</td>\n",
              "      <td>46258.0</td>\n",
              "      <td>405.0</td>\n",
              "      <td>0</td>\n",
              "      <td>0</td>\n",
              "      <td>0</td>\n",
              "      <td>0</td>\n",
              "      <td>...</td>\n",
              "      <td>0</td>\n",
              "      <td>638</td>\n",
              "      <td>74.909091</td>\n",
              "      <td>190.807471</td>\n",
              "      <td>3.640749e+04</td>\n",
              "      <td>0</td>\n",
              "      <td>1</td>\n",
              "      <td>0</td>\n",
              "      <td>0</td>\n",
              "      <td>0</td>\n",
              "      <td>0</td>\n",
              "      <td>0</td>\n",
              "      <td>0</td>\n",
              "      <td>1</td>\n",
              "      <td>82.400000</td>\n",
              "      <td>13.200000</td>\n",
              "      <td>151.600000</td>\n",
              "      <td>0</td>\n",
              "      <td>0</td>\n",
              "      <td>0</td>\n",
              "      <td>0</td>\n",
              "      <td>0</td>\n",
              "      <td>0</td>\n",
              "      <td>5</td>\n",
              "      <td>66</td>\n",
              "      <td>5</td>\n",
              "      <td>758</td>\n",
              "      <td>-1</td>\n",
              "      <td>64240</td>\n",
              "      <td>1</td>\n",
              "      <td>0</td>\n",
              "      <td>0.0</td>\n",
              "      <td>0.0</td>\n",
              "      <td>0.0</td>\n",
              "      <td>0.0</td>\n",
              "      <td>0.0</td>\n",
              "      <td>0.0</td>\n",
              "      <td>0.0</td>\n",
              "      <td>0.0</td>\n",
              "      <td>Normal</td>\n",
              "    </tr>\n",
              "    <tr>\n",
              "      <th>3</th>\n",
              "      <td>192.168.20.133-192.168.20.2-35108-53-6</td>\n",
              "      <td>192.168.20.2</td>\n",
              "      <td>53</td>\n",
              "      <td>192.168.20.133</td>\n",
              "      <td>35108</td>\n",
              "      <td>6</td>\n",
              "      <td>5/2/2020 13:58</td>\n",
              "      <td>6975</td>\n",
              "      <td>1</td>\n",
              "      <td>1</td>\n",
              "      <td>0.0</td>\n",
              "      <td>0.0</td>\n",
              "      <td>0</td>\n",
              "      <td>0</td>\n",
              "      <td>0.000000</td>\n",
              "      <td>0.000000</td>\n",
              "      <td>0</td>\n",
              "      <td>0</td>\n",
              "      <td>0.000000</td>\n",
              "      <td>0.000000</td>\n",
              "      <td>0.00000</td>\n",
              "      <td>286.738351</td>\n",
              "      <td>6975.000000</td>\n",
              "      <td>0.000000</td>\n",
              "      <td>6975.0</td>\n",
              "      <td>6975.0</td>\n",
              "      <td>0.0</td>\n",
              "      <td>0.000000</td>\n",
              "      <td>0.00000</td>\n",
              "      <td>0.0</td>\n",
              "      <td>0.0</td>\n",
              "      <td>0.0</td>\n",
              "      <td>0.000000</td>\n",
              "      <td>0.00000</td>\n",
              "      <td>0.0</td>\n",
              "      <td>0.0</td>\n",
              "      <td>0</td>\n",
              "      <td>0</td>\n",
              "      <td>0</td>\n",
              "      <td>0</td>\n",
              "      <td>...</td>\n",
              "      <td>0</td>\n",
              "      <td>0</td>\n",
              "      <td>0.000000</td>\n",
              "      <td>0.000000</td>\n",
              "      <td>0.000000e+00</td>\n",
              "      <td>0</td>\n",
              "      <td>0</td>\n",
              "      <td>0</td>\n",
              "      <td>0</td>\n",
              "      <td>1</td>\n",
              "      <td>0</td>\n",
              "      <td>0</td>\n",
              "      <td>0</td>\n",
              "      <td>1</td>\n",
              "      <td>0.000000</td>\n",
              "      <td>0.000000</td>\n",
              "      <td>0.000000</td>\n",
              "      <td>0</td>\n",
              "      <td>0</td>\n",
              "      <td>0</td>\n",
              "      <td>0</td>\n",
              "      <td>0</td>\n",
              "      <td>0</td>\n",
              "      <td>1</td>\n",
              "      <td>0</td>\n",
              "      <td>1</td>\n",
              "      <td>0</td>\n",
              "      <td>-1</td>\n",
              "      <td>64239</td>\n",
              "      <td>0</td>\n",
              "      <td>0</td>\n",
              "      <td>0.0</td>\n",
              "      <td>0.0</td>\n",
              "      <td>0.0</td>\n",
              "      <td>0.0</td>\n",
              "      <td>0.0</td>\n",
              "      <td>0.0</td>\n",
              "      <td>0.0</td>\n",
              "      <td>0.0</td>\n",
              "      <td>Normal</td>\n",
              "    </tr>\n",
              "    <tr>\n",
              "      <th>4</th>\n",
              "      <td>154.59.122.74-192.168.20.133-443-60900-6</td>\n",
              "      <td>192.168.20.133</td>\n",
              "      <td>60900</td>\n",
              "      <td>154.59.122.74</td>\n",
              "      <td>443</td>\n",
              "      <td>6</td>\n",
              "      <td>5/2/2020 13:58</td>\n",
              "      <td>190141</td>\n",
              "      <td>13</td>\n",
              "      <td>16</td>\n",
              "      <td>780.0</td>\n",
              "      <td>11085.0</td>\n",
              "      <td>427</td>\n",
              "      <td>0</td>\n",
              "      <td>60.000000</td>\n",
              "      <td>130.042942</td>\n",
              "      <td>2596</td>\n",
              "      <td>0</td>\n",
              "      <td>692.812500</td>\n",
              "      <td>794.157350</td>\n",
              "      <td>62401.06027</td>\n",
              "      <td>152.518394</td>\n",
              "      <td>6790.750000</td>\n",
              "      <td>12933.295910</td>\n",
              "      <td>38521.0</td>\n",
              "      <td>-54.0</td>\n",
              "      <td>86882.0</td>\n",
              "      <td>7240.166667</td>\n",
              "      <td>13050.84163</td>\n",
              "      <td>38805.0</td>\n",
              "      <td>1.0</td>\n",
              "      <td>190141.0</td>\n",
              "      <td>12676.066670</td>\n",
              "      <td>15949.09279</td>\n",
              "      <td>38521.0</td>\n",
              "      <td>1.0</td>\n",
              "      <td>0</td>\n",
              "      <td>0</td>\n",
              "      <td>0</td>\n",
              "      <td>0</td>\n",
              "      <td>...</td>\n",
              "      <td>0</td>\n",
              "      <td>2596</td>\n",
              "      <td>395.500000</td>\n",
              "      <td>661.691706</td>\n",
              "      <td>4.378359e+05</td>\n",
              "      <td>0</td>\n",
              "      <td>1</td>\n",
              "      <td>0</td>\n",
              "      <td>0</td>\n",
              "      <td>0</td>\n",
              "      <td>0</td>\n",
              "      <td>0</td>\n",
              "      <td>0</td>\n",
              "      <td>1</td>\n",
              "      <td>409.137931</td>\n",
              "      <td>60.000000</td>\n",
              "      <td>692.812500</td>\n",
              "      <td>0</td>\n",
              "      <td>0</td>\n",
              "      <td>0</td>\n",
              "      <td>0</td>\n",
              "      <td>0</td>\n",
              "      <td>0</td>\n",
              "      <td>13</td>\n",
              "      <td>780</td>\n",
              "      <td>16</td>\n",
              "      <td>11085</td>\n",
              "      <td>-1</td>\n",
              "      <td>64240</td>\n",
              "      <td>3</td>\n",
              "      <td>0</td>\n",
              "      <td>0.0</td>\n",
              "      <td>0.0</td>\n",
              "      <td>0.0</td>\n",
              "      <td>0.0</td>\n",
              "      <td>0.0</td>\n",
              "      <td>0.0</td>\n",
              "      <td>0.0</td>\n",
              "      <td>0.0</td>\n",
              "      <td>Normal</td>\n",
              "    </tr>\n",
              "  </tbody>\n",
              "</table>\n",
              "<p>5 rows × 84 columns</p>\n",
              "</div>"
            ],
            "text/plain": [
              "                                    Flow ID          Src IP  ...  Idle Min   Label\n",
              "0  185.127.17.56-192.168.20.133-443-53648-6   185.127.17.56  ...       0.0  Normal\n",
              "1  185.127.17.56-192.168.20.133-443-53650-6  192.168.20.133  ...       0.0  Normal\n",
              "2    192.168.20.133-192.168.20.2-35108-53-6  192.168.20.133  ...       0.0  Normal\n",
              "3    192.168.20.133-192.168.20.2-35108-53-6    192.168.20.2  ...       0.0  Normal\n",
              "4  154.59.122.74-192.168.20.133-443-60900-6  192.168.20.133  ...       0.0  Normal\n",
              "\n",
              "[5 rows x 84 columns]"
            ]
          },
          "metadata": {},
          "execution_count": 5
        }
      ]
    },
    {
      "cell_type": "code",
      "metadata": {
        "colab": {
          "base_uri": "https://localhost:8080/"
        },
        "id": "FIWekWGK8rix",
        "outputId": "3a4ae8cf-2e9b-4935-f377-dc6006a983b1"
      },
      "source": [
        "df.isna().sum()"
      ],
      "execution_count": null,
      "outputs": [
        {
          "output_type": "execute_result",
          "data": {
            "text/plain": [
              "Flow ID      0\n",
              "Src IP       0\n",
              "Src Port     0\n",
              "Dst IP       0\n",
              "Dst Port     0\n",
              "            ..\n",
              "Idle Mean    0\n",
              "Idle Std     0\n",
              "Idle Max     0\n",
              "Idle Min     0\n",
              "Label        0\n",
              "Length: 84, dtype: int64"
            ]
          },
          "metadata": {},
          "execution_count": 6
        }
      ]
    },
    {
      "cell_type": "code",
      "metadata": {
        "colab": {
          "base_uri": "https://localhost:8080/"
        },
        "id": "jF4wW7tq8uyw",
        "outputId": "10c8ada2-8f96-4eb5-88a3-070d3b842d4b"
      },
      "source": [
        "print(\"Type:\\n\",type(df))\n",
        "print(\"Information about the dataframe:\\n\",df.info)\n",
        "print(\"Shape of the dataframe :\\n\",df.shape)\n",
        "df.drop_duplicates()\n",
        "print(df.shape)\n",
        "print(\"Columns of the dataframe:\\n\",df.columns)"
      ],
      "execution_count": null,
      "outputs": [
        {
          "output_type": "stream",
          "name": "stdout",
          "text": [
            "Type:\n",
            " <class 'pandas.core.frame.DataFrame'>\n",
            "Information about the dataframe:\n",
            " <bound method DataFrame.info of                                         Flow ID  ...   Label\n",
            "0      185.127.17.56-192.168.20.133-443-53648-6  ...  Normal\n",
            "1      185.127.17.56-192.168.20.133-443-53650-6  ...  Normal\n",
            "2        192.168.20.133-192.168.20.2-35108-53-6  ...  Normal\n",
            "3        192.168.20.133-192.168.20.2-35108-53-6  ...  Normal\n",
            "4      154.59.122.74-192.168.20.133-443-60900-6  ...  Normal\n",
            "...                                         ...  ...     ...\n",
            "68419  185.127.17.56-192.168.20.133-443-36100-6  ...  Normal\n",
            "68420   192.168.20.133-192.168.20.2-53032-53-17  ...  Normal\n",
            "68421   192.168.20.133-192.168.20.2-39285-53-17  ...  Normal\n",
            "68422   192.168.20.133-192.168.20.2-49895-53-17  ...  Normal\n",
            "68423   192.168.20.133-192.168.20.2-33786-53-17  ...  Normal\n",
            "\n",
            "[68424 rows x 84 columns]>\n",
            "Shape of the dataframe :\n",
            " (68424, 84)\n",
            "(68424, 84)\n",
            "Columns of the dataframe:\n",
            " Index(['Flow ID', 'Src IP', 'Src Port', 'Dst IP', 'Dst Port', 'Protocol',\n",
            "       'Timestamp', 'Flow Duration', 'Tot Fwd Pkts', 'Tot Bwd Pkts',\n",
            "       'TotLen Fwd Pkts', 'TotLen Bwd Pkts', 'Fwd Pkt Len Max',\n",
            "       'Fwd Pkt Len Min', 'Fwd Pkt Len Mean', 'Fwd Pkt Len Std',\n",
            "       'Bwd Pkt Len Max', 'Bwd Pkt Len Min', 'Bwd Pkt Len Mean',\n",
            "       'Bwd Pkt Len Std', 'Flow Byts/s', 'Flow Pkts/s', 'Flow IAT Mean',\n",
            "       'Flow IAT Std', 'Flow IAT Max', 'Flow IAT Min', 'Fwd IAT Tot',\n",
            "       'Fwd IAT Mean', 'Fwd IAT Std', 'Fwd IAT Max', 'Fwd IAT Min',\n",
            "       'Bwd IAT Tot', 'Bwd IAT Mean', 'Bwd IAT Std', 'Bwd IAT Max',\n",
            "       'Bwd IAT Min', 'Fwd PSH Flags', 'Bwd PSH Flags', 'Fwd URG Flags',\n",
            "       'Bwd URG Flags', 'Fwd Header Len', 'Bwd Header Len', 'Fwd Pkts/s',\n",
            "       'Bwd Pkts/s', 'Pkt Len Min', 'Pkt Len Max', 'Pkt Len Mean',\n",
            "       'Pkt Len Std', 'Pkt Len Var', 'FIN Flag Cnt', 'SYN Flag Cnt',\n",
            "       'RST Flag Cnt', 'PSH Flag Cnt', 'ACK Flag Cnt', 'URG Flag Cnt',\n",
            "       'CWE Flag Count', 'ECE Flag Cnt', 'Down/Up Ratio', 'Pkt Size Avg',\n",
            "       'Fwd Seg Size Avg', 'Bwd Seg Size Avg', 'Fwd Byts/b Avg',\n",
            "       'Fwd Pkts/b Avg', 'Fwd Blk Rate Avg', 'Bwd Byts/b Avg',\n",
            "       'Bwd Pkts/b Avg', 'Bwd Blk Rate Avg', 'Subflow Fwd Pkts',\n",
            "       'Subflow Fwd Byts', 'Subflow Bwd Pkts', 'Subflow Bwd Byts',\n",
            "       'Init Fwd Win Byts', 'Init Bwd Win Byts', 'Fwd Act Data Pkts',\n",
            "       'Fwd Seg Size Min', 'Active Mean', 'Active Std', 'Active Max',\n",
            "       'Active Min', 'Idle Mean', 'Idle Std', 'Idle Max', 'Idle Min', 'Label'],\n",
            "      dtype='object')\n"
          ]
        }
      ]
    },
    {
      "cell_type": "code",
      "metadata": {
        "colab": {
          "base_uri": "https://localhost:8080/"
        },
        "id": "6hQweKNd8xo8",
        "outputId": "9f900c4a-3dde-492d-b593-ccf2fa75e151"
      },
      "source": [
        "df.dtypes"
      ],
      "execution_count": null,
      "outputs": [
        {
          "output_type": "execute_result",
          "data": {
            "text/plain": [
              "Flow ID       object\n",
              "Src IP        object\n",
              "Src Port       int64\n",
              "Dst IP        object\n",
              "Dst Port       int64\n",
              "              ...   \n",
              "Idle Mean    float64\n",
              "Idle Std     float64\n",
              "Idle Max     float64\n",
              "Idle Min     float64\n",
              "Label         object\n",
              "Length: 84, dtype: object"
            ]
          },
          "metadata": {},
          "execution_count": 8
        }
      ]
    },
    {
      "cell_type": "code",
      "metadata": {
        "colab": {
          "base_uri": "https://localhost:8080/"
        },
        "id": "eOKfB3rh81EP",
        "outputId": "469e2fd2-9ee3-47a8-900a-e33768df6de3"
      },
      "source": [
        "num_cols = df._get_numeric_data().columns\n",
        "\n",
        "cate_cols = list(set(df.columns)-set(num_cols))\n",
        "\n",
        "cate_cols"
      ],
      "execution_count": null,
      "outputs": [
        {
          "output_type": "execute_result",
          "data": {
            "text/plain": [
              "['Timestamp', 'Dst IP', 'Flow ID', 'Label', 'Src IP']"
            ]
          },
          "metadata": {},
          "execution_count": 9
        }
      ]
    },
    {
      "cell_type": "code",
      "metadata": {
        "colab": {
          "base_uri": "https://localhost:8080/"
        },
        "id": "Yc2SINNL82fS",
        "outputId": "ec669452-3881-4bcc-dfa8-575da1eb4d92"
      },
      "source": [
        "df.drop(['Flow ID', 'Src IP' ,'Dst IP' ,'Timestamp','Src Port','Dst Port','Protocol'], inplace=True,axis = 1)\n",
        "df.shape\n"
      ],
      "execution_count": null,
      "outputs": [
        {
          "output_type": "execute_result",
          "data": {
            "text/plain": [
              "(68424, 77)"
            ]
          },
          "metadata": {},
          "execution_count": 10
        }
      ]
    },
    {
      "cell_type": "code",
      "metadata": {
        "colab": {
          "base_uri": "https://localhost:8080/",
          "height": 785
        },
        "id": "xRvWeC5S83t6",
        "outputId": "dac043d8-e9ae-4533-d40d-495dae8fa265"
      },
      "source": [
        "\n",
        "df = df.dropna('columns')# drop columns with NaN\n",
        "\n",
        "#df = df[[col for col in df if df[col].nunique() > 1]]# keep columns where there are more than 1 unique values\n",
        "\n",
        "corr = df.corr()\n",
        "\n",
        "plt.figure(figsize=(15,12))\n",
        "\n",
        "sns.heatmap(corr)\n",
        "\n",
        "plt.show()"
      ],
      "execution_count": null,
      "outputs": [
        {
          "output_type": "display_data",
          "data": {
            "image/png": "[encoded data removed]",
            "text/plain": [
              "<Figure size 1080x864 with 2 Axes>"
            ]
          },
          "metadata": {
            "needs_background": "light"
          }
        }
      ]
    },
    {
      "cell_type": "code",
      "metadata": {
        "colab": {
          "base_uri": "https://localhost:8080/",
          "height": 279
        },
        "id": "ppsg99mS85Lu",
        "outputId": "27452dab-6d53-41b5-f96d-63da907f6a33"
      },
      "source": [
        "\n",
        "ax = sns.countplot(x=\"Label\", data=df)"
      ],
      "execution_count": null,
      "outputs": [
        {
          "output_type": "display_data",
          "data": {
            "image/png": "[encoded data removed]",
            "text/plain": [
              "<Figure size 432x288 with 1 Axes>"
            ]
          },
          "metadata": {
            "needs_background": "light"
          }
        }
      ]
    },
    {
      "cell_type": "code",
      "metadata": {
        "id": "btD8EILa87V6"
      },
      "source": [
        "#Encoding categorical data i.e Label\n",
        "pmap = {'Normal':0,'Probe ':1,'DDoS':1,'DoS':1,'BFA':1,'Web-Attack':1,'BOTNET':1,'U2R':1,'DDoS':1}\n",
        "df['Label'] = df['Label'].map(pmap)\n"
      ],
      "execution_count": null,
      "outputs": []
    },
    {
      "cell_type": "code",
      "metadata": {
        "colab": {
          "base_uri": "https://localhost:8080/"
        },
        "id": "8DUD6t578-4B",
        "outputId": "87b7fde3-e292-44cb-db66-cd22070b0143"
      },
      "source": [
        "print(\"Shape after removal of socket information and columns having unique value <=1 :\\n\",df.shape)\n",
        "df.columns"
      ],
      "execution_count": null,
      "outputs": [
        {
          "output_type": "stream",
          "name": "stdout",
          "text": [
            "Shape after removal of socket information and columns having unique value <=1 :\n",
            " (68424, 77)\n"
          ]
        },
        {
          "output_type": "execute_result",
          "data": {
            "text/plain": [
              "Index(['Flow Duration', 'Tot Fwd Pkts', 'Tot Bwd Pkts', 'TotLen Fwd Pkts',\n",
              "       'TotLen Bwd Pkts', 'Fwd Pkt Len Max', 'Fwd Pkt Len Min',\n",
              "       'Fwd Pkt Len Mean', 'Fwd Pkt Len Std', 'Bwd Pkt Len Max',\n",
              "       'Bwd Pkt Len Min', 'Bwd Pkt Len Mean', 'Bwd Pkt Len Std', 'Flow Byts/s',\n",
              "       'Flow Pkts/s', 'Flow IAT Mean', 'Flow IAT Std', 'Flow IAT Max',\n",
              "       'Flow IAT Min', 'Fwd IAT Tot', 'Fwd IAT Mean', 'Fwd IAT Std',\n",
              "       'Fwd IAT Max', 'Fwd IAT Min', 'Bwd IAT Tot', 'Bwd IAT Mean',\n",
              "       'Bwd IAT Std', 'Bwd IAT Max', 'Bwd IAT Min', 'Fwd PSH Flags',\n",
              "       'Bwd PSH Flags', 'Fwd URG Flags', 'Bwd URG Flags', 'Fwd Header Len',\n",
              "       'Bwd Header Len', 'Fwd Pkts/s', 'Bwd Pkts/s', 'Pkt Len Min',\n",
              "       'Pkt Len Max', 'Pkt Len Mean', 'Pkt Len Std', 'Pkt Len Var',\n",
              "       'FIN Flag Cnt', 'SYN Flag Cnt', 'RST Flag Cnt', 'PSH Flag Cnt',\n",
              "       'ACK Flag Cnt', 'URG Flag Cnt', 'CWE Flag Count', 'ECE Flag Cnt',\n",
              "       'Down/Up Ratio', 'Pkt Size Avg', 'Fwd Seg Size Avg', 'Bwd Seg Size Avg',\n",
              "       'Fwd Byts/b Avg', 'Fwd Pkts/b Avg', 'Fwd Blk Rate Avg',\n",
              "       'Bwd Byts/b Avg', 'Bwd Pkts/b Avg', 'Bwd Blk Rate Avg',\n",
              "       'Subflow Fwd Pkts', 'Subflow Fwd Byts', 'Subflow Bwd Pkts',\n",
              "       'Subflow Bwd Byts', 'Init Fwd Win Byts', 'Init Bwd Win Byts',\n",
              "       'Fwd Act Data Pkts', 'Fwd Seg Size Min', 'Active Mean', 'Active Std',\n",
              "       'Active Max', 'Active Min', 'Idle Mean', 'Idle Std', 'Idle Max',\n",
              "       'Idle Min', 'Label'],\n",
              "      dtype='object')"
            ]
          },
          "metadata": {},
          "execution_count": 14
        }
      ]
    },
    {
      "cell_type": "code",
      "metadata": {
        "colab": {
          "base_uri": "https://localhost:8080/"
        },
        "id": "wSgqMaLM9BHG",
        "outputId": "2dd36aa8-4176-41a9-df5d-f87c6534aee2"
      },
      "source": [
        "df['Label'].value_counts()"
      ],
      "execution_count": null,
      "outputs": [
        {
          "output_type": "execute_result",
          "data": {
            "text/plain": [
              "0    68424\n",
              "Name: Label, dtype: int64"
            ]
          },
          "metadata": {},
          "execution_count": 15
        }
      ]
    },
    {
      "cell_type": "code",
      "metadata": {
        "id": "p-BCZxA_9Ed5"
      },
      "source": [
        "def clean_dataset(df):\n",
        "    assert isinstance(df, pd.DataFrame), \"df needs to be a pd.DataFrame\"\n",
        "    df.dropna(inplace=True)\n",
        "    indices_to_keep = ~df.isin([np.nan, np.inf, -np.inf]).any(1)\n",
        "    return df[indices_to_keep].astype(np.float64)"
      ],
      "execution_count": null,
      "outputs": []
    },
    {
      "cell_type": "code",
      "metadata": {
        "id": "73p-E-N49Gla"
      },
      "source": [
        "df=clean_dataset(df)"
      ],
      "execution_count": null,
      "outputs": []
    },
    {
      "cell_type": "code",
      "metadata": {
        "id": "PZ2zdcqq9H-s"
      },
      "source": [
        "from sklearn.model_selection import train_test_split\n",
        "from sklearn.preprocessing import MinMaxScaler\n",
        "from sklearn.metrics import confusion_matrix, accuracy_score"
      ],
      "execution_count": null,
      "outputs": []
    },
    {
      "cell_type": "code",
      "metadata": {
        "colab": {
          "base_uri": "https://localhost:8080/"
        },
        "id": "iw29ds_d9Lrn",
        "outputId": "1a2feab7-9d23-47ef-d788-a86dbe186053"
      },
      "source": [
        "min_col = {}\n",
        "max_col = {}\n",
        "balance = {}\n",
        "for col in df:\n",
        "    max_col[col]= df[col].max()\n",
        "    min_col[col]= df[col].min()\n",
        "    #plt.hist(df[col])\n",
        "    #plt.show()\n",
        "    balance[col]= max_col[col] + min_col[col]\n",
        "\n",
        "result = pd.DataFrame([min_col, max_col, balance], index=['min', 'max', 'balance'])\n",
        "print(result)    "
      ],
      "execution_count": null,
      "outputs": [
        {
          "output_type": "stream",
          "name": "stdout",
          "text": [
            "         Flow Duration  Tot Fwd Pkts  ...     Idle Min  Label\n",
            "min             -154.0           0.0  ...          0.0    0.0\n",
            "max        119999993.0       16928.0  ...  119000000.0    0.0\n",
            "balance    119999839.0       16928.0  ...  119000000.0    0.0\n",
            "\n",
            "[3 rows x 77 columns]\n"
          ]
        }
      ]
    },
    {
      "cell_type": "code",
      "metadata": {
        "id": "mJyjc4r79M73"
      },
      "source": [
        "# Target variable and train set\n",
        "Y = df[['Label']]\n",
        "X = df.drop(['Label',], axis=1)\n",
        "\n",
        "sc = MinMaxScaler(feature_range = (0, 1))\n",
        "X = sc.fit_transform(X)\n"
      ],
      "execution_count": null,
      "outputs": []
    },
    {
      "cell_type": "code",
      "metadata": {
        "colab": {
          "base_uri": "https://localhost:8080/"
        },
        "id": "k0gYI7ge9SJU",
        "outputId": "d356d4c4-2fa5-46e9-90c6-156fe94678ef"
      },
      "source": [
        "print(X)\n",
        "print(Y)"
      ],
      "execution_count": null,
      "outputs": [
        {
          "output_type": "stream",
          "name": "stdout",
          "text": [
            "[[2.04486416e-03 2.59924386e-03 1.14392984e-03 ... 0.00000000e+00\n",
            "  0.00000000e+00 0.00000000e+00]\n",
            " [1.33800086e-02 6.32088847e-03 4.34106708e-03 ... 0.00000000e+00\n",
            "  0.00000000e+00 0.00000000e+00]\n",
            " [4.43599457e-04 2.95368620e-04 1.17326137e-04 ... 0.00000000e+00\n",
            "  0.00000000e+00 0.00000000e+00]\n",
            " ...\n",
            " [3.23749603e-05 5.90737240e-05 5.86630687e-05 ... 0.00000000e+00\n",
            "  0.00000000e+00 0.00000000e+00]\n",
            " [1.72874788e-04 0.00000000e+00 2.93315343e-05 ... 0.00000000e+00\n",
            "  0.00000000e+00 0.00000000e+00]\n",
            " [2.66083007e-05 5.90737240e-05 5.86630687e-05 ... 0.00000000e+00\n",
            "  0.00000000e+00 0.00000000e+00]]\n",
            "       Label\n",
            "0        0.0\n",
            "1        0.0\n",
            "2        0.0\n",
            "3        0.0\n",
            "4        0.0\n",
            "...      ...\n",
            "68419    0.0\n",
            "68420    0.0\n",
            "68421    0.0\n",
            "68422    0.0\n",
            "68423    0.0\n",
            "\n",
            "[68424 rows x 1 columns]\n"
          ]
        }
      ]
    },
    {
      "cell_type": "code",
      "metadata": {
        "colab": {
          "base_uri": "https://localhost:8080/"
        },
        "id": "V1n1JpQl9Tz3",
        "outputId": "39594d35-6208-4c45-c687-0589a75f8631"
      },
      "source": [
        "#splitting up data into train and test\n",
        "X_train, X_test, Y_train, Y_test = train_test_split(X, Y, test_size=0.33, random_state=42)\n",
        "print(X_train.shape, X_test.shape)\n",
        "print(Y_train.shape, Y_test.shape)"
      ],
      "execution_count": null,
      "outputs": [
        {
          "output_type": "stream",
          "name": "stdout",
          "text": [
            "(45844, 76) (22580, 76)\n",
            "(45844, 1) (22580, 1)\n"
          ]
        }
      ]
    },
    {
      "cell_type": "code",
      "metadata": {
        "colab": {
          "base_uri": "https://localhost:8080/"
        },
        "id": "W9O6PaNs9V3C",
        "outputId": "407c968a-1663-4935-a970-7d4d8c5c4513"
      },
      "source": [
        "# reshaping the data for model\n",
        "X_train_shape = X_train.reshape(X_train.shape[0], 1, X_train.shape[1])\n",
        "print(\"Training data shape:\", X_train_shape.shape)\n",
        "X_test_shape = X_test.reshape(X_test.shape[0], 1, X_test.shape[1])\n",
        "print(\"Test data shape:\", X_test_shape.shape)"
      ],
      "execution_count": null,
      "outputs": [
        {
          "output_type": "stream",
          "name": "stdout",
          "text": [
            "Training data shape: (45844, 1, 76)\n",
            "Test data shape: (22580, 1, 76)\n"
          ]
        }
      ]
    },
    {
      "cell_type": "code",
      "metadata": {
        "colab": {
          "base_uri": "https://localhost:8080/"
        },
        "id": "N3QCw3dy9XVy",
        "outputId": "26f066d3-7c67-46bc-9de3-5cbee50796b7"
      },
      "source": [
        "print(np.any(np.isnan(X_train_shape)))\n",
        "print(np.all(np.isfinite(X_train_shape)))"
      ],
      "execution_count": null,
      "outputs": [
        {
          "output_type": "stream",
          "name": "stdout",
          "text": [
            "False\n",
            "True\n"
          ]
        }
      ]
    },
    {
      "cell_type": "code",
      "metadata": {
        "colab": {
          "base_uri": "https://localhost:8080/"
        },
        "id": "Y2lDIZev9Yxe",
        "outputId": "6eb6cba9-9d93-4faa-c05b-123928174488"
      },
      "source": [
        "model = Sequential()\n",
        "# Encoder\n",
        "model.add(LSTM(128, activation='tanh', input_shape=(X_train_shape.shape[1], X_train_shape.shape[2]), return_sequences=True))\n",
        "model.add(LSTM(64, activation='tanh', return_sequences=True))\n",
        "model.add(LSTM(32,activation='tanh', return_sequences=True))\n",
        "model.add(LSTM(16,activation='tanh', return_sequences=False))\n",
        "model.add(RepeatVector(X_train.shape[1]))\n",
        "# Decoder\n",
        "model.add(LSTM(16, activation='tanh', return_sequences=True))\n",
        "model.add(LSTM(32, activation='tanh', return_sequences=True))\n",
        "model.add(LSTM(64, activation='tanh', return_sequences=True))\n",
        "model.add(LSTM(128, activation='tanh', return_sequences=True))\n",
        "model.add(TimeDistributed(Dense(X_train_shape.shape[2])))\n",
        "model.compile(optimizer='adam', loss='mse')\n",
        "model.summary()"
      ],
      "execution_count": null,
      "outputs": [
        {
          "output_type": "stream",
          "name": "stdout",
          "text": [
            "Model: \"sequential\"\n",
            "_________________________________________________________________\n",
            " Layer (type)                Output Shape              Param #   \n",
            "=================================================================\n",
            " lstm (LSTM)                 (None, 1, 128)            104960    \n",
            "                                                                 \n",
            " lstm_1 (LSTM)               (None, 1, 64)             49408     \n",
            "                                                                 \n",
            " lstm_2 (LSTM)               (None, 1, 32)             12416     \n",
            "                                                                 \n",
            " lstm_3 (LSTM)               (None, 16)                3136      \n",
            "                                                                 \n",
            " repeat_vector (RepeatVector  (None, 76, 16)           0         \n",
            " )                                                               \n",
            "                                                                 \n",
            " lstm_4 (LSTM)               (None, 76, 16)            2112      \n",
            "                                                                 \n",
            " lstm_5 (LSTM)               (None, 76, 32)            6272      \n",
            "                                                                 \n",
            " lstm_6 (LSTM)               (None, 76, 64)            24832     \n",
            "                                                                 \n",
            " lstm_7 (LSTM)               (None, 76, 128)           98816     \n",
            "                                                                 \n",
            " time_distributed (TimeDistr  (None, 76, 76)           9804      \n",
            " ibuted)                                                         \n",
            "                                                                 \n",
            "=================================================================\n",
            "Total params: 311,756\n",
            "Trainable params: 311,756\n",
            "Non-trainable params: 0\n",
            "_________________________________________________________________\n"
          ]
        }
      ]
    },
    {
      "cell_type": "code",
      "metadata": {
        "colab": {
          "base_uri": "https://localhost:8080/"
        },
        "id": "fpdnQVzp9ojB",
        "outputId": "322f856a-f239-4cd7-cea5-dc736397abea"
      },
      "source": [
        "#nb_epochs = 100\n",
        "nb_epochs=30\n",
        "batch_size = 32\n",
        "history = model.fit(X_train_shape, X_train_shape, epochs=nb_epochs, batch_size=batch_size,\n",
        "                    validation_split=0.05).history"
      ],
      "execution_count": null,
      "outputs": [
        {
          "output_type": "stream",
          "name": "stdout",
          "text": [
            "Epoch 1/30\n",
            "1361/1361 [==============================] - 262s 183ms/step - loss: 0.0044 - val_loss: 0.0019\n",
            "Epoch 2/30\n",
            "1361/1361 [==============================] - 248s 182ms/step - loss: 0.0013 - val_loss: 0.0012\n",
            "Epoch 3/30\n",
            "1361/1361 [==============================] - 247s 182ms/step - loss: 8.6838e-04 - val_loss: 6.5215e-04\n",
            "Epoch 4/30\n",
            "1361/1361 [==============================] - 248s 182ms/step - loss: 8.0662e-04 - val_loss: 5.5365e-04\n",
            "Epoch 5/30\n",
            "1361/1361 [==============================] - 246s 180ms/step - loss: 4.3009e-04 - val_loss: 4.4001e-04\n",
            "Epoch 6/30\n",
            "1361/1361 [==============================] - 244s 179ms/step - loss: 3.7144e-04 - val_loss: 3.7557e-04\n",
            "Epoch 7/30\n",
            "1361/1361 [==============================] - 243s 178ms/step - loss: 5.0901e-04 - val_loss: 3.9427e-04\n",
            "Epoch 8/30\n",
            "1361/1361 [==============================] - 242s 178ms/step - loss: 3.1441e-04 - val_loss: 3.5392e-04\n",
            "Epoch 9/30\n",
            "1361/1361 [==============================] - 244s 179ms/step - loss: 4.1864e-04 - val_loss: 3.0584e-04\n",
            "Epoch 10/30\n",
            "1361/1361 [==============================] - 246s 181ms/step - loss: 3.4273e-04 - val_loss: 3.4441e-04\n",
            "Epoch 11/30\n",
            "1361/1361 [==============================] - 245s 180ms/step - loss: 2.9555e-04 - val_loss: 3.3941e-04\n",
            "Epoch 12/30\n",
            "1361/1361 [==============================] - 242s 178ms/step - loss: 2.7342e-04 - val_loss: 2.7058e-04\n",
            "Epoch 13/30\n",
            "1361/1361 [==============================] - 243s 178ms/step - loss: 3.1242e-04 - val_loss: 2.8935e-04\n",
            "Epoch 14/30\n",
            "1361/1361 [==============================] - 244s 179ms/step - loss: 2.8820e-04 - val_loss: 2.7608e-04\n",
            "Epoch 15/30\n",
            "1361/1361 [==============================] - 244s 179ms/step - loss: 2.3225e-04 - val_loss: 2.6685e-04\n",
            "Epoch 16/30\n",
            "1361/1361 [==============================] - 244s 179ms/step - loss: 2.9468e-04 - val_loss: 8.1470e-04\n",
            "Epoch 17/30\n",
            "1361/1361 [==============================] - 244s 179ms/step - loss: 3.3714e-04 - val_loss: 2.7729e-04\n",
            "Epoch 18/30\n",
            "1361/1361 [==============================] - 244s 180ms/step - loss: 2.3240e-04 - val_loss: 2.4268e-04\n",
            "Epoch 19/30\n",
            "1361/1361 [==============================] - 244s 179ms/step - loss: 2.7069e-04 - val_loss: 2.5132e-04\n",
            "Epoch 20/30\n",
            "1361/1361 [==============================] - 243s 178ms/step - loss: 2.0280e-04 - val_loss: 2.7056e-04\n",
            "Epoch 21/30\n",
            "1361/1361 [==============================] - 243s 179ms/step - loss: 1.9125e-04 - val_loss: 2.3672e-04\n",
            "Epoch 22/30\n",
            "1361/1361 [==============================] - 243s 179ms/step - loss: 2.0213e-04 - val_loss: 2.2955e-04\n",
            "Epoch 23/30\n",
            "1361/1361 [==============================] - 242s 178ms/step - loss: 2.0391e-04 - val_loss: 2.1178e-04\n",
            "Epoch 24/30\n",
            "1361/1361 [==============================] - 241s 177ms/step - loss: 1.9884e-04 - val_loss: 6.4099e-04\n",
            "Epoch 25/30\n",
            "1361/1361 [==============================] - 242s 178ms/step - loss: 1.7370e-04 - val_loss: 2.1087e-04\n",
            "Epoch 26/30\n",
            "1361/1361 [==============================] - 241s 177ms/step - loss: 1.7137e-04 - val_loss: 2.8458e-04\n",
            "Epoch 27/30\n",
            "1361/1361 [==============================] - 241s 177ms/step - loss: 2.1150e-04 - val_loss: 2.4722e-04\n",
            "Epoch 28/30\n",
            "1361/1361 [==============================] - 241s 177ms/step - loss: 1.4625e-04 - val_loss: 2.2629e-04\n",
            "Epoch 29/30\n",
            "1361/1361 [==============================] - 240s 177ms/step - loss: 1.5160e-04 - val_loss: 2.6177e-04\n",
            "Epoch 30/30\n",
            "1361/1361 [==============================] - 241s 177ms/step - loss: 2.0783e-04 - val_loss: 2.3328e-04\n"
          ]
        }
      ]
    },
    {
      "cell_type": "code",
      "metadata": {
        "id": "uiFx8W86ysmv"
      },
      "source": [
        "model.save(\"my_model.h5\")"
      ],
      "execution_count": null,
      "outputs": []
    },
    {
      "cell_type": "code",
      "metadata": {
        "colab": {
          "base_uri": "https://localhost:8080/",
          "height": 448
        },
        "id": "Uq1s0Ji-9sVc",
        "outputId": "ae462c65-79c8-4b61-ef9b-e8c982069677"
      },
      "source": [
        "fig, ax = plt.subplots(figsize=(14, 6), dpi=80)\n",
        "ax.plot(history['loss'], 'b', label='Train', linewidth=2)\n",
        "ax.plot(history['val_loss'], 'r', label='Validation', linewidth=2)\n",
        "ax.set_title('Model loss', fontsize=16)\n",
        "ax.set_ylabel('Loss (mae)')\n",
        "ax.set_xlabel('Epoch')\n",
        "ax.legend(loc='upper right')\n",
        "plt.show()"
      ],
      "execution_count": null,
      "outputs": [
        {
          "output_type": "display_data",
          "data": {
            "image/png": "[encoded data removed]",
            "text/plain": [
              "<Figure size 1120x480 with 1 Axes>"
            ]
          },
          "metadata": {
            "needs_background": "light"
          }
        }
      ]
    },
    {
      "cell_type": "code",
      "metadata": {
        "id": "-RHH0Jp594JC"
      },
      "source": [
        "predict=model.predict(X_train_shape)"
      ],
      "execution_count": null,
      "outputs": []
    },
    {
      "cell_type": "code",
      "metadata": {
        "colab": {
          "base_uri": "https://localhost:8080/"
        },
        "id": "TvCH6RY0EhRN",
        "outputId": "64fe22c3-91c4-4ea6-bceb-8af15ae27af6"
      },
      "source": [
        "mse = np.mean(np.power(X_train_shape - predict, 2), axis=1)\n",
        "print(mse)"
      ],
      "execution_count": null,
      "outputs": [
        {
          "output_type": "stream",
          "name": "stdout",
          "text": [
            "[[6.75388510e-05 6.81645431e-07 3.70831265e-07 ... 1.01961768e-05\n",
            "  4.28173925e-05 4.39588047e-06]\n",
            " [6.17717326e-06 1.38977198e-07 1.14322516e-07 ... 1.14221637e-07\n",
            "  7.59210957e-07 4.12206436e-07]\n",
            " [5.31929600e-06 1.52503171e-07 1.23605124e-07 ... 1.15693828e-07\n",
            "  5.32012079e-07 4.57005319e-07]\n",
            " ...\n",
            " [6.08647222e-06 1.38577239e-07 1.12986582e-07 ... 1.14891976e-07\n",
            "  7.32699031e-07 3.86363505e-07]\n",
            " [4.22560785e-04 6.59725861e-06 1.02460810e-05 ... 3.71951126e-04\n",
            "  2.09913704e-04 2.99271976e-05]\n",
            " [6.61242738e-05 1.10652453e-06 3.54496877e-07 ... 2.24849971e-06\n",
            "  1.91024944e-05 8.41359327e-06]]\n"
          ]
        }
      ]
    },
    {
      "cell_type": "code",
      "metadata": {
        "colab": {
          "base_uri": "https://localhost:8080/",
          "height": 296
        },
        "id": "vXmhb1zEElsR",
        "outputId": "55914e65-4322-41f9-fef9-d273811113d4"
      },
      "source": [
        "X_train_pred = model.predict(X_train_shape, verbose=0)\n",
        "train_mae_loss = np.mean(np.abs(X_train_pred - X_train_shape), axis=1)\n",
        "\n",
        "plt.hist(train_mae_loss, bins=50)\n",
        "plt.xlabel('Train MAE loss')\n",
        "plt.ylabel('Number of Samples');\n",
        "\n",
        "threshold = np.max(train_mae_loss)\n",
        "print(f'Reconstruction error threshold: {threshold}')"
      ],
      "execution_count": null,
      "outputs": [
        {
          "output_type": "stream",
          "name": "stdout",
          "text": [
            "Reconstruction error threshold: 1.0038900579276837\n"
          ]
        },
        {
          "output_type": "display_data",
          "data": {
            "image/png": "[encoded data removed]",
            "text/plain": [
              "<Figure size 432x288 with 1 Axes>"
            ]
          },
          "metadata": {
            "needs_background": "light"
          }
        }
      ]
    },
    {
      "cell_type": "code",
      "metadata": {
        "colab": {
          "base_uri": "https://localhost:8080/",
          "height": 296
        },
        "id": "ezuDfd7xEtOC",
        "outputId": "aa6f2cab-4ae7-4f95-8c33-4e7042d44181"
      },
      "source": [
        "X_test_pred = model.predict(X_test_shape, verbose=0)\n",
        "test_mae_loss = np.mean(np.abs(X_test_pred-X_test_shape), axis=1)\n",
        "\n",
        "plt.hist(test_mae_loss)\n",
        "plt.xlabel('Test MAE loss')\n",
        "plt.ylabel('Number of samples');\n",
        "threshold = np.max(test_mae_loss)\n",
        "\n",
        "print(f'Reconstruction error threshold: {threshold}')\n",
        "#model.evaluate(X_train_shape, predict)\n"
      ],
      "execution_count": null,
      "outputs": [
        {
          "output_type": "stream",
          "name": "stdout",
          "text": [
            "Reconstruction error threshold: 1.0085564741962834\n"
          ]
        },
        {
          "output_type": "display_data",
          "data": {
            "image/png": "[encoded data removed]",
            "text/plain": [
              "<Figure size 432x288 with 1 Axes>"
            ]
          },
          "metadata": {
            "needs_background": "light"
          }
        }
      ]
    },
    {
      "cell_type": "code",
      "metadata": {
        "colab": {
          "base_uri": "https://localhost:8080/"
        },
        "id": "hchWlGpy-Nh_",
        "outputId": "fceeaa37-d352-4c25-a6da-ef977b237e93"
      },
      "source": [
        "#train_x_predictions = model.predict(X_train)\n",
        "mse = np.mean(np.power(X_train_shape - predict, 2), axis=1)\n",
        "print(mse)"
      ],
      "execution_count": null,
      "outputs": [
        {
          "output_type": "stream",
          "name": "stdout",
          "text": [
            "[[3.11265906e-04 6.64139494e-07 1.92760286e-06 ... 7.35241910e-06\n",
            "  7.11615747e-06 1.50508178e-05]\n",
            " [2.57041157e-05 1.04920136e-06 1.56169826e-06 ... 3.40049610e-06\n",
            "  2.48611529e-05 8.01727433e-06]\n",
            " [2.58030053e-05 1.04919533e-06 1.56163237e-06 ... 3.40084702e-06\n",
            "  2.48603618e-05 8.01634799e-06]\n",
            " ...\n",
            " [2.56997044e-05 1.04919623e-06 1.56217368e-06 ... 3.39680950e-06\n",
            "  2.48577628e-05 8.01608405e-06]\n",
            " [1.45239419e-03 1.46937144e-07 1.72508423e-06 ... 8.94116738e-05\n",
            "  1.75878984e-04 1.74778850e-05]\n",
            " [7.32360424e-05 5.47055244e-07 1.52351106e-06 ... 1.26175501e-05\n",
            "  3.40948293e-05 1.97650024e-05]]\n"
          ]
        }
      ]
    },
    {
      "cell_type": "markdown",
      "metadata": {
        "id": "To1ULPJL7NkT"
      },
      "source": [
        "ONE-CLASS SVM TRAINED ON OUTPUT FEATURE VECTOR"
      ]
    },
    {
      "cell_type": "code",
      "metadata": {
        "id": "vYeWJUQ_-N3L"
      },
      "source": [
        "nsamples, nx, ny = X_train_pred.shape\n",
        "d2_train_dataset = X_train_pred.reshape((nsamples,nx*ny))"
      ],
      "execution_count": null,
      "outputs": []
    },
    {
      "cell_type": "code",
      "metadata": {
        "id": "gTKrHaV08r0F"
      },
      "source": [
        "from sklearn import svm\n",
        "clf = svm.OneClassSVM(nu=0.4, kernel=\"rbf\", gamma=0.001)\n",
        "clf.fit(d2_train_dataset)"
      ],
      "execution_count": null,
      "outputs": []
    },
    {
      "cell_type": "code",
      "metadata": {
        "id": "mvRiM35kA9n6"
      },
      "source": [
        "test_data=pd.read_csv('/content/drive/MyDrive/DATA/file.csv')\n",
        "test_data.head()"
      ],
      "execution_count": null,
      "outputs": []
    },
    {
      "cell_type": "code",
      "metadata": {
        "id": "aUNVgKfQBj7s"
      },
      "source": [
        "test_data.drop(['Flow ID', 'Src IP' ,'Dst IP' ,'Timestamp','Src Port','Dst Port','Protocol'], inplace=True,axis = 1)\n",
        "test_data.shape"
      ],
      "execution_count": null,
      "outputs": []
    },
    {
      "cell_type": "code",
      "metadata": {
        "id": "BXeeAbFTBkI8"
      },
      "source": [
        ""
      ],
      "execution_count": null,
      "outputs": []
    },
    {
      "cell_type": "markdown",
      "metadata": {
        "id": "TtizdJZj7iVk"
      },
      "source": [
        "## RECONSTRUCTION ERROR"
      ]
    },
    {
      "cell_type": "code",
      "metadata": {
        "id": "WgZ_NoJT6QVX"
      },
      "source": [
        ""
      ],
      "execution_count": null,
      "outputs": []
    },
    {
      "cell_type": "code",
      "metadata": {
        "colab": {
          "base_uri": "https://localhost:8080/",
          "height": 481
        },
        "id": "G9N8wTz4kWQ3",
        "outputId": "84e3ea4c-38b3-4912-878b-de113d9405d0"
      },
      "source": [
        "df_ano=pd.read_csv('/content/drive/MyDrive/DATA/metasploitable-2.csv')\n",
        "df_ano.head(5)"
      ],
      "execution_count": null,
      "outputs": [
        {
          "output_type": "execute_result",
          "data": {
            "text/html": [
              "<div>\n",
              "<style scoped>\n",
              "    .dataframe tbody tr th:only-of-type {\n",
              "        vertical-align: middle;\n",
              "    }\n",
              "\n",
              "    .dataframe tbody tr th {\n",
              "        vertical-align: top;\n",
              "    }\n",
              "\n",
              "    .dataframe thead th {\n",
              "        text-align: right;\n",
              "    }\n",
              "</style>\n",
              "<table border=\"1\" class=\"dataframe\">\n",
              "  <thead>\n",
              "    <tr style=\"text-align: right;\">\n",
              "      <th></th>\n",
              "      <th>Flow ID</th>\n",
              "      <th>Src IP</th>\n",
              "      <th>Src Port</th>\n",
              "      <th>Dst IP</th>\n",
              "      <th>Dst Port</th>\n",
              "      <th>Protocol</th>\n",
              "      <th>Timestamp</th>\n",
              "      <th>Flow Duration</th>\n",
              "      <th>Tot Fwd Pkts</th>\n",
              "      <th>Tot Bwd Pkts</th>\n",
              "      <th>TotLen Fwd Pkts</th>\n",
              "      <th>TotLen Bwd Pkts</th>\n",
              "      <th>Fwd Pkt Len Max</th>\n",
              "      <th>Fwd Pkt Len Min</th>\n",
              "      <th>Fwd Pkt Len Mean</th>\n",
              "      <th>Fwd Pkt Len Std</th>\n",
              "      <th>Bwd Pkt Len Max</th>\n",
              "      <th>Bwd Pkt Len Min</th>\n",
              "      <th>Bwd Pkt Len Mean</th>\n",
              "      <th>Bwd Pkt Len Std</th>\n",
              "      <th>Flow Byts/s</th>\n",
              "      <th>Flow Pkts/s</th>\n",
              "      <th>Flow IAT Mean</th>\n",
              "      <th>Flow IAT Std</th>\n",
              "      <th>Flow IAT Max</th>\n",
              "      <th>Flow IAT Min</th>\n",
              "      <th>Fwd IAT Tot</th>\n",
              "      <th>Fwd IAT Mean</th>\n",
              "      <th>Fwd IAT Std</th>\n",
              "      <th>Fwd IAT Max</th>\n",
              "      <th>Fwd IAT Min</th>\n",
              "      <th>Bwd IAT Tot</th>\n",
              "      <th>Bwd IAT Mean</th>\n",
              "      <th>Bwd IAT Std</th>\n",
              "      <th>Bwd IAT Max</th>\n",
              "      <th>Bwd IAT Min</th>\n",
              "      <th>Fwd PSH Flags</th>\n",
              "      <th>Bwd PSH Flags</th>\n",
              "      <th>Fwd URG Flags</th>\n",
              "      <th>Bwd URG Flags</th>\n",
              "      <th>...</th>\n",
              "      <th>Pkt Len Min</th>\n",
              "      <th>Pkt Len Max</th>\n",
              "      <th>Pkt Len Mean</th>\n",
              "      <th>Pkt Len Std</th>\n",
              "      <th>Pkt Len Var</th>\n",
              "      <th>FIN Flag Cnt</th>\n",
              "      <th>SYN Flag Cnt</th>\n",
              "      <th>RST Flag Cnt</th>\n",
              "      <th>PSH Flag Cnt</th>\n",
              "      <th>ACK Flag Cnt</th>\n",
              "      <th>URG Flag Cnt</th>\n",
              "      <th>CWE Flag Count</th>\n",
              "      <th>ECE Flag Cnt</th>\n",
              "      <th>Down/Up Ratio</th>\n",
              "      <th>Pkt Size Avg</th>\n",
              "      <th>Fwd Seg Size Avg</th>\n",
              "      <th>Bwd Seg Size Avg</th>\n",
              "      <th>Fwd Byts/b Avg</th>\n",
              "      <th>Fwd Pkts/b Avg</th>\n",
              "      <th>Fwd Blk Rate Avg</th>\n",
              "      <th>Bwd Byts/b Avg</th>\n",
              "      <th>Bwd Pkts/b Avg</th>\n",
              "      <th>Bwd Blk Rate Avg</th>\n",
              "      <th>Subflow Fwd Pkts</th>\n",
              "      <th>Subflow Fwd Byts</th>\n",
              "      <th>Subflow Bwd Pkts</th>\n",
              "      <th>Subflow Bwd Byts</th>\n",
              "      <th>Init Fwd Win Byts</th>\n",
              "      <th>Init Bwd Win Byts</th>\n",
              "      <th>Fwd Act Data Pkts</th>\n",
              "      <th>Fwd Seg Size Min</th>\n",
              "      <th>Active Mean</th>\n",
              "      <th>Active Std</th>\n",
              "      <th>Active Max</th>\n",
              "      <th>Active Min</th>\n",
              "      <th>Idle Mean</th>\n",
              "      <th>Idle Std</th>\n",
              "      <th>Idle Max</th>\n",
              "      <th>Idle Min</th>\n",
              "      <th>Label</th>\n",
              "    </tr>\n",
              "  </thead>\n",
              "  <tbody>\n",
              "    <tr>\n",
              "      <th>0</th>\n",
              "      <td>192.168.3.130-200.175.2.130-38694-4444-6</td>\n",
              "      <td>192.168.3.130</td>\n",
              "      <td>38694</td>\n",
              "      <td>200.175.2.130</td>\n",
              "      <td>4444</td>\n",
              "      <td>6</td>\n",
              "      <td>10/1/2020 5:02</td>\n",
              "      <td>269709</td>\n",
              "      <td>4</td>\n",
              "      <td>5</td>\n",
              "      <td>48</td>\n",
              "      <td>23</td>\n",
              "      <td>30</td>\n",
              "      <td>0</td>\n",
              "      <td>12.0</td>\n",
              "      <td>14.696938</td>\n",
              "      <td>23</td>\n",
              "      <td>0</td>\n",
              "      <td>4.600000</td>\n",
              "      <td>10.285913</td>\n",
              "      <td>263.246684</td>\n",
              "      <td>33.369298</td>\n",
              "      <td>33713.625000</td>\n",
              "      <td>90272.549880</td>\n",
              "      <td>257068.0</td>\n",
              "      <td>14.0</td>\n",
              "      <td>260808.0</td>\n",
              "      <td>86936.0</td>\n",
              "      <td>149854.765700</td>\n",
              "      <td>259973.0</td>\n",
              "      <td>104.0</td>\n",
              "      <td>269709.0</td>\n",
              "      <td>67427.250000</td>\n",
              "      <td>126912.740800</td>\n",
              "      <td>257785.0</td>\n",
              "      <td>2956</td>\n",
              "      <td>0</td>\n",
              "      <td>0</td>\n",
              "      <td>0</td>\n",
              "      <td>0</td>\n",
              "      <td>...</td>\n",
              "      <td>0</td>\n",
              "      <td>30</td>\n",
              "      <td>7.100000</td>\n",
              "      <td>11.779926</td>\n",
              "      <td>138.766667</td>\n",
              "      <td>0</td>\n",
              "      <td>1</td>\n",
              "      <td>0</td>\n",
              "      <td>0</td>\n",
              "      <td>0</td>\n",
              "      <td>0</td>\n",
              "      <td>0</td>\n",
              "      <td>0</td>\n",
              "      <td>1</td>\n",
              "      <td>7.888889</td>\n",
              "      <td>12.0</td>\n",
              "      <td>4.600000</td>\n",
              "      <td>0</td>\n",
              "      <td>0</td>\n",
              "      <td>0</td>\n",
              "      <td>0</td>\n",
              "      <td>0</td>\n",
              "      <td>0</td>\n",
              "      <td>4</td>\n",
              "      <td>48</td>\n",
              "      <td>5</td>\n",
              "      <td>23</td>\n",
              "      <td>-1</td>\n",
              "      <td>64</td>\n",
              "      <td>2</td>\n",
              "      <td>0</td>\n",
              "      <td>0.0</td>\n",
              "      <td>0.0</td>\n",
              "      <td>0</td>\n",
              "      <td>0</td>\n",
              "      <td>0.0</td>\n",
              "      <td>0.0</td>\n",
              "      <td>0.0</td>\n",
              "      <td>0.0</td>\n",
              "      <td>U2R</td>\n",
              "    </tr>\n",
              "    <tr>\n",
              "      <th>1</th>\n",
              "      <td>192.168.3.130-200.175.2.130-38693-4444-6</td>\n",
              "      <td>192.168.3.130</td>\n",
              "      <td>38693</td>\n",
              "      <td>200.175.2.130</td>\n",
              "      <td>4444</td>\n",
              "      <td>6</td>\n",
              "      <td>10/1/2020 5:02</td>\n",
              "      <td>268599</td>\n",
              "      <td>2</td>\n",
              "      <td>3</td>\n",
              "      <td>0</td>\n",
              "      <td>23</td>\n",
              "      <td>0</td>\n",
              "      <td>0</td>\n",
              "      <td>0.0</td>\n",
              "      <td>0.000000</td>\n",
              "      <td>23</td>\n",
              "      <td>0</td>\n",
              "      <td>7.666667</td>\n",
              "      <td>13.279056</td>\n",
              "      <td>85.629507</td>\n",
              "      <td>18.615110</td>\n",
              "      <td>67149.750000</td>\n",
              "      <td>132430.553600</td>\n",
              "      <td>265786.0</td>\n",
              "      <td>11.0</td>\n",
              "      <td>265811.0</td>\n",
              "      <td>265811.0</td>\n",
              "      <td>0.000000</td>\n",
              "      <td>265811.0</td>\n",
              "      <td>265811.0</td>\n",
              "      <td>268574.0</td>\n",
              "      <td>134287.000000</td>\n",
              "      <td>185983.225600</td>\n",
              "      <td>265797.0</td>\n",
              "      <td>2777</td>\n",
              "      <td>0</td>\n",
              "      <td>0</td>\n",
              "      <td>0</td>\n",
              "      <td>0</td>\n",
              "      <td>...</td>\n",
              "      <td>0</td>\n",
              "      <td>23</td>\n",
              "      <td>3.833333</td>\n",
              "      <td>9.389711</td>\n",
              "      <td>88.166667</td>\n",
              "      <td>0</td>\n",
              "      <td>1</td>\n",
              "      <td>0</td>\n",
              "      <td>0</td>\n",
              "      <td>0</td>\n",
              "      <td>0</td>\n",
              "      <td>0</td>\n",
              "      <td>0</td>\n",
              "      <td>1</td>\n",
              "      <td>4.600000</td>\n",
              "      <td>0.0</td>\n",
              "      <td>7.666667</td>\n",
              "      <td>0</td>\n",
              "      <td>0</td>\n",
              "      <td>0</td>\n",
              "      <td>0</td>\n",
              "      <td>0</td>\n",
              "      <td>0</td>\n",
              "      <td>2</td>\n",
              "      <td>0</td>\n",
              "      <td>3</td>\n",
              "      <td>23</td>\n",
              "      <td>-1</td>\n",
              "      <td>64</td>\n",
              "      <td>0</td>\n",
              "      <td>0</td>\n",
              "      <td>0.0</td>\n",
              "      <td>0.0</td>\n",
              "      <td>0</td>\n",
              "      <td>0</td>\n",
              "      <td>0.0</td>\n",
              "      <td>0.0</td>\n",
              "      <td>0.0</td>\n",
              "      <td>0.0</td>\n",
              "      <td>U2R</td>\n",
              "    </tr>\n",
              "    <tr>\n",
              "      <th>2</th>\n",
              "      <td>192.168.3.130-200.175.2.130-3632-33747-6</td>\n",
              "      <td>200.175.2.130</td>\n",
              "      <td>33747</td>\n",
              "      <td>192.168.3.130</td>\n",
              "      <td>3632</td>\n",
              "      <td>6</td>\n",
              "      <td>10/1/2020 5:02</td>\n",
              "      <td>22194</td>\n",
              "      <td>5</td>\n",
              "      <td>5</td>\n",
              "      <td>53</td>\n",
              "      <td>30</td>\n",
              "      <td>30</td>\n",
              "      <td>0</td>\n",
              "      <td>10.6</td>\n",
              "      <td>14.724130</td>\n",
              "      <td>30</td>\n",
              "      <td>0</td>\n",
              "      <td>6.000000</td>\n",
              "      <td>13.416408</td>\n",
              "      <td>3739.749482</td>\n",
              "      <td>450.572227</td>\n",
              "      <td>2466.000000</td>\n",
              "      <td>2951.053583</td>\n",
              "      <td>8063.0</td>\n",
              "      <td>3.0</td>\n",
              "      <td>17518.0</td>\n",
              "      <td>4379.5</td>\n",
              "      <td>6184.320254</td>\n",
              "      <td>13537.0</td>\n",
              "      <td>3.0</td>\n",
              "      <td>15128.0</td>\n",
              "      <td>3782.000000</td>\n",
              "      <td>3420.925898</td>\n",
              "      <td>8063.0</td>\n",
              "      <td>42</td>\n",
              "      <td>0</td>\n",
              "      <td>0</td>\n",
              "      <td>0</td>\n",
              "      <td>0</td>\n",
              "      <td>...</td>\n",
              "      <td>0</td>\n",
              "      <td>30</td>\n",
              "      <td>7.545455</td>\n",
              "      <td>13.048859</td>\n",
              "      <td>170.272727</td>\n",
              "      <td>0</td>\n",
              "      <td>1</td>\n",
              "      <td>0</td>\n",
              "      <td>0</td>\n",
              "      <td>0</td>\n",
              "      <td>0</td>\n",
              "      <td>0</td>\n",
              "      <td>0</td>\n",
              "      <td>1</td>\n",
              "      <td>8.300000</td>\n",
              "      <td>10.6</td>\n",
              "      <td>6.000000</td>\n",
              "      <td>0</td>\n",
              "      <td>0</td>\n",
              "      <td>0</td>\n",
              "      <td>0</td>\n",
              "      <td>0</td>\n",
              "      <td>0</td>\n",
              "      <td>5</td>\n",
              "      <td>53</td>\n",
              "      <td>5</td>\n",
              "      <td>30</td>\n",
              "      <td>-1</td>\n",
              "      <td>215</td>\n",
              "      <td>2</td>\n",
              "      <td>0</td>\n",
              "      <td>0.0</td>\n",
              "      <td>0.0</td>\n",
              "      <td>0</td>\n",
              "      <td>0</td>\n",
              "      <td>0.0</td>\n",
              "      <td>0.0</td>\n",
              "      <td>0.0</td>\n",
              "      <td>0.0</td>\n",
              "      <td>U2R</td>\n",
              "    </tr>\n",
              "    <tr>\n",
              "      <th>3</th>\n",
              "      <td>192.168.3.130-200.175.2.130-8180-38745-6</td>\n",
              "      <td>200.175.2.130</td>\n",
              "      <td>38745</td>\n",
              "      <td>192.168.3.130</td>\n",
              "      <td>8180</td>\n",
              "      <td>6</td>\n",
              "      <td>10/1/2020 1:39</td>\n",
              "      <td>9556</td>\n",
              "      <td>4</td>\n",
              "      <td>4</td>\n",
              "      <td>30</td>\n",
              "      <td>30</td>\n",
              "      <td>30</td>\n",
              "      <td>0</td>\n",
              "      <td>7.5</td>\n",
              "      <td>15.000000</td>\n",
              "      <td>30</td>\n",
              "      <td>0</td>\n",
              "      <td>7.500000</td>\n",
              "      <td>15.000000</td>\n",
              "      <td>6278.777731</td>\n",
              "      <td>837.170364</td>\n",
              "      <td>1365.142857</td>\n",
              "      <td>1447.714225</td>\n",
              "      <td>4022.0</td>\n",
              "      <td>13.0</td>\n",
              "      <td>5511.0</td>\n",
              "      <td>1837.0</td>\n",
              "      <td>1441.824885</td>\n",
              "      <td>3380.0</td>\n",
              "      <td>524.0</td>\n",
              "      <td>5588.0</td>\n",
              "      <td>1862.666667</td>\n",
              "      <td>2386.259067</td>\n",
              "      <td>4559.0</td>\n",
              "      <td>23</td>\n",
              "      <td>0</td>\n",
              "      <td>0</td>\n",
              "      <td>0</td>\n",
              "      <td>0</td>\n",
              "      <td>...</td>\n",
              "      <td>0</td>\n",
              "      <td>30</td>\n",
              "      <td>6.666667</td>\n",
              "      <td>13.228757</td>\n",
              "      <td>175.000000</td>\n",
              "      <td>0</td>\n",
              "      <td>1</td>\n",
              "      <td>0</td>\n",
              "      <td>0</td>\n",
              "      <td>0</td>\n",
              "      <td>0</td>\n",
              "      <td>0</td>\n",
              "      <td>0</td>\n",
              "      <td>1</td>\n",
              "      <td>7.500000</td>\n",
              "      <td>7.5</td>\n",
              "      <td>7.500000</td>\n",
              "      <td>0</td>\n",
              "      <td>0</td>\n",
              "      <td>0</td>\n",
              "      <td>0</td>\n",
              "      <td>0</td>\n",
              "      <td>0</td>\n",
              "      <td>4</td>\n",
              "      <td>30</td>\n",
              "      <td>4</td>\n",
              "      <td>30</td>\n",
              "      <td>-1</td>\n",
              "      <td>215</td>\n",
              "      <td>1</td>\n",
              "      <td>0</td>\n",
              "      <td>0.0</td>\n",
              "      <td>0.0</td>\n",
              "      <td>0</td>\n",
              "      <td>0</td>\n",
              "      <td>0.0</td>\n",
              "      <td>0.0</td>\n",
              "      <td>0.0</td>\n",
              "      <td>0.0</td>\n",
              "      <td>BFA</td>\n",
              "    </tr>\n",
              "    <tr>\n",
              "      <th>4</th>\n",
              "      <td>192.168.3.130-200.175.2.130-8180-37217-6</td>\n",
              "      <td>200.175.2.130</td>\n",
              "      <td>37217</td>\n",
              "      <td>192.168.3.130</td>\n",
              "      <td>8180</td>\n",
              "      <td>6</td>\n",
              "      <td>10/1/2020 1:39</td>\n",
              "      <td>8782</td>\n",
              "      <td>4</td>\n",
              "      <td>4</td>\n",
              "      <td>30</td>\n",
              "      <td>30</td>\n",
              "      <td>30</td>\n",
              "      <td>0</td>\n",
              "      <td>7.5</td>\n",
              "      <td>15.000000</td>\n",
              "      <td>30</td>\n",
              "      <td>0</td>\n",
              "      <td>7.500000</td>\n",
              "      <td>15.000000</td>\n",
              "      <td>6832.156684</td>\n",
              "      <td>910.954225</td>\n",
              "      <td>1254.571429</td>\n",
              "      <td>1607.096435</td>\n",
              "      <td>4049.0</td>\n",
              "      <td>8.0</td>\n",
              "      <td>4725.0</td>\n",
              "      <td>1575.0</td>\n",
              "      <td>2277.042160</td>\n",
              "      <td>4204.0</td>\n",
              "      <td>226.0</td>\n",
              "      <td>5618.0</td>\n",
              "      <td>1872.666667</td>\n",
              "      <td>2191.816674</td>\n",
              "      <td>4287.0</td>\n",
              "      <td>8</td>\n",
              "      <td>0</td>\n",
              "      <td>0</td>\n",
              "      <td>0</td>\n",
              "      <td>0</td>\n",
              "      <td>...</td>\n",
              "      <td>0</td>\n",
              "      <td>30</td>\n",
              "      <td>6.666667</td>\n",
              "      <td>13.228757</td>\n",
              "      <td>175.000000</td>\n",
              "      <td>0</td>\n",
              "      <td>1</td>\n",
              "      <td>0</td>\n",
              "      <td>0</td>\n",
              "      <td>0</td>\n",
              "      <td>0</td>\n",
              "      <td>0</td>\n",
              "      <td>0</td>\n",
              "      <td>1</td>\n",
              "      <td>7.500000</td>\n",
              "      <td>7.5</td>\n",
              "      <td>7.500000</td>\n",
              "      <td>0</td>\n",
              "      <td>0</td>\n",
              "      <td>0</td>\n",
              "      <td>0</td>\n",
              "      <td>0</td>\n",
              "      <td>0</td>\n",
              "      <td>4</td>\n",
              "      <td>30</td>\n",
              "      <td>4</td>\n",
              "      <td>30</td>\n",
              "      <td>-1</td>\n",
              "      <td>215</td>\n",
              "      <td>1</td>\n",
              "      <td>0</td>\n",
              "      <td>0.0</td>\n",
              "      <td>0.0</td>\n",
              "      <td>0</td>\n",
              "      <td>0</td>\n",
              "      <td>0.0</td>\n",
              "      <td>0.0</td>\n",
              "      <td>0.0</td>\n",
              "      <td>0.0</td>\n",
              "      <td>BFA</td>\n",
              "    </tr>\n",
              "  </tbody>\n",
              "</table>\n",
              "<p>5 rows × 84 columns</p>\n",
              "</div>"
            ],
            "text/plain": [
              "                                    Flow ID         Src IP  ...  Idle Min Label\n",
              "0  192.168.3.130-200.175.2.130-38694-4444-6  192.168.3.130  ...       0.0   U2R\n",
              "1  192.168.3.130-200.175.2.130-38693-4444-6  192.168.3.130  ...       0.0   U2R\n",
              "2  192.168.3.130-200.175.2.130-3632-33747-6  200.175.2.130  ...       0.0   U2R\n",
              "3  192.168.3.130-200.175.2.130-8180-38745-6  200.175.2.130  ...       0.0   BFA\n",
              "4  192.168.3.130-200.175.2.130-8180-37217-6  200.175.2.130  ...       0.0   BFA\n",
              "\n",
              "[5 rows x 84 columns]"
            ]
          },
          "metadata": {},
          "execution_count": 33
        }
      ]
    },
    {
      "cell_type": "code",
      "metadata": {
        "colab": {
          "base_uri": "https://localhost:8080/"
        },
        "id": "VmApHLKEkWUX",
        "outputId": "6eda4d0a-65ef-40a7-e8ad-b0ac9eaf781d"
      },
      "source": [
        "df_ano.drop(['Flow ID', 'Src IP' ,'Dst IP' ,'Timestamp','Src Port','Dst Port','Protocol'], inplace=True,axis = 1)\n",
        "df_ano.shape"
      ],
      "execution_count": null,
      "outputs": [
        {
          "output_type": "execute_result",
          "data": {
            "text/plain": [
              "(136743, 77)"
            ]
          },
          "metadata": {},
          "execution_count": 34
        }
      ]
    },
    {
      "cell_type": "code",
      "metadata": {
        "id": "GQ1TdqZok99_"
      },
      "source": [
        "\n",
        "#df_ano = df.dropna('columns')"
      ],
      "execution_count": null,
      "outputs": []
    },
    {
      "cell_type": "code",
      "metadata": {
        "colab": {
          "base_uri": "https://localhost:8080/"
        },
        "id": "VaorEwM9mxjR",
        "outputId": "6f59d316-3d3a-405c-d268-87adbcf036f8"
      },
      "source": [
        "df_ano.columns"
      ],
      "execution_count": null,
      "outputs": [
        {
          "output_type": "execute_result",
          "data": {
            "text/plain": [
              "Index(['Flow Duration', 'Tot Fwd Pkts', 'Tot Bwd Pkts', 'TotLen Fwd Pkts',\n",
              "       'TotLen Bwd Pkts', 'Fwd Pkt Len Max', 'Fwd Pkt Len Min',\n",
              "       'Fwd Pkt Len Mean', 'Fwd Pkt Len Std', 'Bwd Pkt Len Max',\n",
              "       'Bwd Pkt Len Min', 'Bwd Pkt Len Mean', 'Bwd Pkt Len Std', 'Flow Byts/s',\n",
              "       'Flow Pkts/s', 'Flow IAT Mean', 'Flow IAT Std', 'Flow IAT Max',\n",
              "       'Flow IAT Min', 'Fwd IAT Tot', 'Fwd IAT Mean', 'Fwd IAT Std',\n",
              "       'Fwd IAT Max', 'Fwd IAT Min', 'Bwd IAT Tot', 'Bwd IAT Mean',\n",
              "       'Bwd IAT Std', 'Bwd IAT Max', 'Bwd IAT Min', 'Fwd PSH Flags',\n",
              "       'Bwd PSH Flags', 'Fwd URG Flags', 'Bwd URG Flags', 'Fwd Header Len',\n",
              "       'Bwd Header Len', 'Fwd Pkts/s', 'Bwd Pkts/s', 'Pkt Len Min',\n",
              "       'Pkt Len Max', 'Pkt Len Mean', 'Pkt Len Std', 'Pkt Len Var',\n",
              "       'FIN Flag Cnt', 'SYN Flag Cnt', 'RST Flag Cnt', 'PSH Flag Cnt',\n",
              "       'ACK Flag Cnt', 'URG Flag Cnt', 'CWE Flag Count', 'ECE Flag Cnt',\n",
              "       'Down/Up Ratio', 'Pkt Size Avg', 'Fwd Seg Size Avg', 'Bwd Seg Size Avg',\n",
              "       'Fwd Byts/b Avg', 'Fwd Pkts/b Avg', 'Fwd Blk Rate Avg',\n",
              "       'Bwd Byts/b Avg', 'Bwd Pkts/b Avg', 'Bwd Blk Rate Avg',\n",
              "       'Subflow Fwd Pkts', 'Subflow Fwd Byts', 'Subflow Bwd Pkts',\n",
              "       'Subflow Bwd Byts', 'Init Fwd Win Byts', 'Init Bwd Win Byts',\n",
              "       'Fwd Act Data Pkts', 'Fwd Seg Size Min', 'Active Mean', 'Active Std',\n",
              "       'Active Max', 'Active Min', 'Idle Mean', 'Idle Std', 'Idle Max',\n",
              "       'Idle Min', 'Label'],\n",
              "      dtype='object')"
            ]
          },
          "metadata": {},
          "execution_count": 36
        }
      ]
    },
    {
      "cell_type": "code",
      "metadata": {
        "colab": {
          "base_uri": "https://localhost:8080/"
        },
        "id": "jd62clePmlvS",
        "outputId": "b28a689d-dfc4-4c7a-9505-483b82d11e8e"
      },
      "source": [
        "df_ano['Label'].value_counts()"
      ],
      "execution_count": null,
      "outputs": [
        {
          "output_type": "execute_result",
          "data": {
            "text/plain": [
              "DDoS     73529\n",
              "Probe    61757\n",
              "DoS       1145\n",
              "BFA        295\n",
              "U2R         17\n",
              "Name: Label, dtype: int64"
            ]
          },
          "metadata": {},
          "execution_count": 37
        }
      ]
    },
    {
      "cell_type": "code",
      "metadata": {
        "id": "ABo0s85lnopl"
      },
      "source": [
        "#Encoding categorical data i.e Label\n",
        "pmap = {'Normal':0,'Probe ':1,'DDoS':1,'DoS':1,'BFA':1,'Web-Attack':1,'BOTNET':1,'U2R':1,'DDoS':1}\n",
        "df_ano['Label'] = df_ano['Label'].map(pmap)\n"
      ],
      "execution_count": null,
      "outputs": []
    },
    {
      "cell_type": "code",
      "metadata": {
        "colab": {
          "base_uri": "https://localhost:8080/",
          "height": 279
        },
        "id": "XEp--Pgrn0Nm",
        "outputId": "69b38da2-d5b6-4723-9b6d-b1dd2822b110"
      },
      "source": [
        "bx = sns.countplot(x=\"Label\", data=df_ano)"
      ],
      "execution_count": null,
      "outputs": [
        {
          "output_type": "display_data",
          "data": {
            "image/png": "[encoded data removed]",
            "text/plain": [
              "<Figure size 432x288 with 1 Axes>"
            ]
          },
          "metadata": {
            "needs_background": "light"
          }
        }
      ]
    },
    {
      "cell_type": "code",
      "metadata": {
        "id": "BOlhRztJlS3W"
      },
      "source": [
        "def clean_dataset(df):\n",
        "    assert isinstance(df, pd.DataFrame), \"df needs to be a pd.DataFrame\"\n",
        "    df.dropna(inplace=True)\n",
        "    indices_to_keep = ~df.isin([np.nan, np.inf, -np.inf]).any(1)\n",
        "    return df[indices_to_keep].astype(np.float64)"
      ],
      "execution_count": null,
      "outputs": []
    },
    {
      "cell_type": "code",
      "metadata": {
        "id": "W_O29Yckl-M1"
      },
      "source": [
        "df_ano=clean_dataset(df_ano)"
      ],
      "execution_count": null,
      "outputs": []
    },
    {
      "cell_type": "code",
      "metadata": {
        "colab": {
          "base_uri": "https://localhost:8080/",
          "height": 278
        },
        "id": "iF731-N0n90i",
        "outputId": "a4eb531a-da3e-47c1-ee50-359a52c25a70"
      },
      "source": [
        "df_ano.head()"
      ],
      "execution_count": null,
      "outputs": [
        {
          "output_type": "execute_result",
          "data": {
            "text/html": [
              "<div>\n",
              "<style scoped>\n",
              "    .dataframe tbody tr th:only-of-type {\n",
              "        vertical-align: middle;\n",
              "    }\n",
              "\n",
              "    .dataframe tbody tr th {\n",
              "        vertical-align: top;\n",
              "    }\n",
              "\n",
              "    .dataframe thead th {\n",
              "        text-align: right;\n",
              "    }\n",
              "</style>\n",
              "<table border=\"1\" class=\"dataframe\">\n",
              "  <thead>\n",
              "    <tr style=\"text-align: right;\">\n",
              "      <th></th>\n",
              "      <th>Flow Duration</th>\n",
              "      <th>Tot Fwd Pkts</th>\n",
              "      <th>Tot Bwd Pkts</th>\n",
              "      <th>TotLen Fwd Pkts</th>\n",
              "      <th>TotLen Bwd Pkts</th>\n",
              "      <th>Fwd Pkt Len Max</th>\n",
              "      <th>Fwd Pkt Len Min</th>\n",
              "      <th>Fwd Pkt Len Mean</th>\n",
              "      <th>Fwd Pkt Len Std</th>\n",
              "      <th>Bwd Pkt Len Max</th>\n",
              "      <th>Bwd Pkt Len Min</th>\n",
              "      <th>Bwd Pkt Len Mean</th>\n",
              "      <th>Bwd Pkt Len Std</th>\n",
              "      <th>Flow Byts/s</th>\n",
              "      <th>Flow Pkts/s</th>\n",
              "      <th>Flow IAT Mean</th>\n",
              "      <th>Flow IAT Std</th>\n",
              "      <th>Flow IAT Max</th>\n",
              "      <th>Flow IAT Min</th>\n",
              "      <th>Fwd IAT Tot</th>\n",
              "      <th>Fwd IAT Mean</th>\n",
              "      <th>Fwd IAT Std</th>\n",
              "      <th>Fwd IAT Max</th>\n",
              "      <th>Fwd IAT Min</th>\n",
              "      <th>Bwd IAT Tot</th>\n",
              "      <th>Bwd IAT Mean</th>\n",
              "      <th>Bwd IAT Std</th>\n",
              "      <th>Bwd IAT Max</th>\n",
              "      <th>Bwd IAT Min</th>\n",
              "      <th>Fwd PSH Flags</th>\n",
              "      <th>Bwd PSH Flags</th>\n",
              "      <th>Fwd URG Flags</th>\n",
              "      <th>Bwd URG Flags</th>\n",
              "      <th>Fwd Header Len</th>\n",
              "      <th>Bwd Header Len</th>\n",
              "      <th>Fwd Pkts/s</th>\n",
              "      <th>Bwd Pkts/s</th>\n",
              "      <th>Pkt Len Min</th>\n",
              "      <th>Pkt Len Max</th>\n",
              "      <th>Pkt Len Mean</th>\n",
              "      <th>Pkt Len Std</th>\n",
              "      <th>Pkt Len Var</th>\n",
              "      <th>FIN Flag Cnt</th>\n",
              "      <th>SYN Flag Cnt</th>\n",
              "      <th>RST Flag Cnt</th>\n",
              "      <th>PSH Flag Cnt</th>\n",
              "      <th>ACK Flag Cnt</th>\n",
              "      <th>URG Flag Cnt</th>\n",
              "      <th>CWE Flag Count</th>\n",
              "      <th>ECE Flag Cnt</th>\n",
              "      <th>Down/Up Ratio</th>\n",
              "      <th>Pkt Size Avg</th>\n",
              "      <th>Fwd Seg Size Avg</th>\n",
              "      <th>Bwd Seg Size Avg</th>\n",
              "      <th>Fwd Byts/b Avg</th>\n",
              "      <th>Fwd Pkts/b Avg</th>\n",
              "      <th>Fwd Blk Rate Avg</th>\n",
              "      <th>Bwd Byts/b Avg</th>\n",
              "      <th>Bwd Pkts/b Avg</th>\n",
              "      <th>Bwd Blk Rate Avg</th>\n",
              "      <th>Subflow Fwd Pkts</th>\n",
              "      <th>Subflow Fwd Byts</th>\n",
              "      <th>Subflow Bwd Pkts</th>\n",
              "      <th>Subflow Bwd Byts</th>\n",
              "      <th>Init Fwd Win Byts</th>\n",
              "      <th>Init Bwd Win Byts</th>\n",
              "      <th>Fwd Act Data Pkts</th>\n",
              "      <th>Fwd Seg Size Min</th>\n",
              "      <th>Active Mean</th>\n",
              "      <th>Active Std</th>\n",
              "      <th>Active Max</th>\n",
              "      <th>Active Min</th>\n",
              "      <th>Idle Mean</th>\n",
              "      <th>Idle Std</th>\n",
              "      <th>Idle Max</th>\n",
              "      <th>Idle Min</th>\n",
              "      <th>Label</th>\n",
              "    </tr>\n",
              "  </thead>\n",
              "  <tbody>\n",
              "    <tr>\n",
              "      <th>0</th>\n",
              "      <td>269709.0</td>\n",
              "      <td>4.0</td>\n",
              "      <td>5.0</td>\n",
              "      <td>48.0</td>\n",
              "      <td>23.0</td>\n",
              "      <td>30.0</td>\n",
              "      <td>0.0</td>\n",
              "      <td>12.0</td>\n",
              "      <td>14.696938</td>\n",
              "      <td>23.0</td>\n",
              "      <td>0.0</td>\n",
              "      <td>4.600000</td>\n",
              "      <td>10.285913</td>\n",
              "      <td>263.246684</td>\n",
              "      <td>33.369298</td>\n",
              "      <td>33713.625000</td>\n",
              "      <td>90272.549880</td>\n",
              "      <td>257068.0</td>\n",
              "      <td>14.0</td>\n",
              "      <td>260808.0</td>\n",
              "      <td>86936.0</td>\n",
              "      <td>149854.765700</td>\n",
              "      <td>259973.0</td>\n",
              "      <td>104.0</td>\n",
              "      <td>269709.0</td>\n",
              "      <td>67427.250000</td>\n",
              "      <td>126912.740800</td>\n",
              "      <td>257785.0</td>\n",
              "      <td>2956.0</td>\n",
              "      <td>0.0</td>\n",
              "      <td>0.0</td>\n",
              "      <td>0.0</td>\n",
              "      <td>0.0</td>\n",
              "      <td>128.0</td>\n",
              "      <td>176.0</td>\n",
              "      <td>14.830799</td>\n",
              "      <td>18.538499</td>\n",
              "      <td>0.0</td>\n",
              "      <td>30.0</td>\n",
              "      <td>7.100000</td>\n",
              "      <td>11.779926</td>\n",
              "      <td>138.766667</td>\n",
              "      <td>0.0</td>\n",
              "      <td>1.0</td>\n",
              "      <td>0.0</td>\n",
              "      <td>0.0</td>\n",
              "      <td>0.0</td>\n",
              "      <td>0.0</td>\n",
              "      <td>0.0</td>\n",
              "      <td>0.0</td>\n",
              "      <td>1.0</td>\n",
              "      <td>7.888889</td>\n",
              "      <td>12.0</td>\n",
              "      <td>4.600000</td>\n",
              "      <td>0.0</td>\n",
              "      <td>0.0</td>\n",
              "      <td>0.0</td>\n",
              "      <td>0.0</td>\n",
              "      <td>0.0</td>\n",
              "      <td>0.0</td>\n",
              "      <td>4.0</td>\n",
              "      <td>48.0</td>\n",
              "      <td>5.0</td>\n",
              "      <td>23.0</td>\n",
              "      <td>-1.0</td>\n",
              "      <td>64.0</td>\n",
              "      <td>2.0</td>\n",
              "      <td>0.0</td>\n",
              "      <td>0.0</td>\n",
              "      <td>0.0</td>\n",
              "      <td>0.0</td>\n",
              "      <td>0.0</td>\n",
              "      <td>0.0</td>\n",
              "      <td>0.0</td>\n",
              "      <td>0.0</td>\n",
              "      <td>0.0</td>\n",
              "      <td>1.0</td>\n",
              "    </tr>\n",
              "    <tr>\n",
              "      <th>1</th>\n",
              "      <td>268599.0</td>\n",
              "      <td>2.0</td>\n",
              "      <td>3.0</td>\n",
              "      <td>0.0</td>\n",
              "      <td>23.0</td>\n",
              "      <td>0.0</td>\n",
              "      <td>0.0</td>\n",
              "      <td>0.0</td>\n",
              "      <td>0.000000</td>\n",
              "      <td>23.0</td>\n",
              "      <td>0.0</td>\n",
              "      <td>7.666667</td>\n",
              "      <td>13.279056</td>\n",
              "      <td>85.629507</td>\n",
              "      <td>18.615110</td>\n",
              "      <td>67149.750000</td>\n",
              "      <td>132430.553600</td>\n",
              "      <td>265786.0</td>\n",
              "      <td>11.0</td>\n",
              "      <td>265811.0</td>\n",
              "      <td>265811.0</td>\n",
              "      <td>0.000000</td>\n",
              "      <td>265811.0</td>\n",
              "      <td>265811.0</td>\n",
              "      <td>268574.0</td>\n",
              "      <td>134287.000000</td>\n",
              "      <td>185983.225600</td>\n",
              "      <td>265797.0</td>\n",
              "      <td>2777.0</td>\n",
              "      <td>0.0</td>\n",
              "      <td>0.0</td>\n",
              "      <td>0.0</td>\n",
              "      <td>0.0</td>\n",
              "      <td>64.0</td>\n",
              "      <td>112.0</td>\n",
              "      <td>7.446044</td>\n",
              "      <td>11.169066</td>\n",
              "      <td>0.0</td>\n",
              "      <td>23.0</td>\n",
              "      <td>3.833333</td>\n",
              "      <td>9.389711</td>\n",
              "      <td>88.166667</td>\n",
              "      <td>0.0</td>\n",
              "      <td>1.0</td>\n",
              "      <td>0.0</td>\n",
              "      <td>0.0</td>\n",
              "      <td>0.0</td>\n",
              "      <td>0.0</td>\n",
              "      <td>0.0</td>\n",
              "      <td>0.0</td>\n",
              "      <td>1.0</td>\n",
              "      <td>4.600000</td>\n",
              "      <td>0.0</td>\n",
              "      <td>7.666667</td>\n",
              "      <td>0.0</td>\n",
              "      <td>0.0</td>\n",
              "      <td>0.0</td>\n",
              "      <td>0.0</td>\n",
              "      <td>0.0</td>\n",
              "      <td>0.0</td>\n",
              "      <td>2.0</td>\n",
              "      <td>0.0</td>\n",
              "      <td>3.0</td>\n",
              "      <td>23.0</td>\n",
              "      <td>-1.0</td>\n",
              "      <td>64.0</td>\n",
              "      <td>0.0</td>\n",
              "      <td>0.0</td>\n",
              "      <td>0.0</td>\n",
              "      <td>0.0</td>\n",
              "      <td>0.0</td>\n",
              "      <td>0.0</td>\n",
              "      <td>0.0</td>\n",
              "      <td>0.0</td>\n",
              "      <td>0.0</td>\n",
              "      <td>0.0</td>\n",
              "      <td>1.0</td>\n",
              "    </tr>\n",
              "    <tr>\n",
              "      <th>2</th>\n",
              "      <td>22194.0</td>\n",
              "      <td>5.0</td>\n",
              "      <td>5.0</td>\n",
              "      <td>53.0</td>\n",
              "      <td>30.0</td>\n",
              "      <td>30.0</td>\n",
              "      <td>0.0</td>\n",
              "      <td>10.6</td>\n",
              "      <td>14.724130</td>\n",
              "      <td>30.0</td>\n",
              "      <td>0.0</td>\n",
              "      <td>6.000000</td>\n",
              "      <td>13.416408</td>\n",
              "      <td>3739.749482</td>\n",
              "      <td>450.572227</td>\n",
              "      <td>2466.000000</td>\n",
              "      <td>2951.053583</td>\n",
              "      <td>8063.0</td>\n",
              "      <td>3.0</td>\n",
              "      <td>17518.0</td>\n",
              "      <td>4379.5</td>\n",
              "      <td>6184.320254</td>\n",
              "      <td>13537.0</td>\n",
              "      <td>3.0</td>\n",
              "      <td>15128.0</td>\n",
              "      <td>3782.000000</td>\n",
              "      <td>3420.925898</td>\n",
              "      <td>8063.0</td>\n",
              "      <td>42.0</td>\n",
              "      <td>0.0</td>\n",
              "      <td>0.0</td>\n",
              "      <td>0.0</td>\n",
              "      <td>0.0</td>\n",
              "      <td>160.0</td>\n",
              "      <td>176.0</td>\n",
              "      <td>225.286113</td>\n",
              "      <td>225.286113</td>\n",
              "      <td>0.0</td>\n",
              "      <td>30.0</td>\n",
              "      <td>7.545455</td>\n",
              "      <td>13.048859</td>\n",
              "      <td>170.272727</td>\n",
              "      <td>0.0</td>\n",
              "      <td>1.0</td>\n",
              "      <td>0.0</td>\n",
              "      <td>0.0</td>\n",
              "      <td>0.0</td>\n",
              "      <td>0.0</td>\n",
              "      <td>0.0</td>\n",
              "      <td>0.0</td>\n",
              "      <td>1.0</td>\n",
              "      <td>8.300000</td>\n",
              "      <td>10.6</td>\n",
              "      <td>6.000000</td>\n",
              "      <td>0.0</td>\n",
              "      <td>0.0</td>\n",
              "      <td>0.0</td>\n",
              "      <td>0.0</td>\n",
              "      <td>0.0</td>\n",
              "      <td>0.0</td>\n",
              "      <td>5.0</td>\n",
              "      <td>53.0</td>\n",
              "      <td>5.0</td>\n",
              "      <td>30.0</td>\n",
              "      <td>-1.0</td>\n",
              "      <td>215.0</td>\n",
              "      <td>2.0</td>\n",
              "      <td>0.0</td>\n",
              "      <td>0.0</td>\n",
              "      <td>0.0</td>\n",
              "      <td>0.0</td>\n",
              "      <td>0.0</td>\n",
              "      <td>0.0</td>\n",
              "      <td>0.0</td>\n",
              "      <td>0.0</td>\n",
              "      <td>0.0</td>\n",
              "      <td>1.0</td>\n",
              "    </tr>\n",
              "    <tr>\n",
              "      <th>3</th>\n",
              "      <td>9556.0</td>\n",
              "      <td>4.0</td>\n",
              "      <td>4.0</td>\n",
              "      <td>30.0</td>\n",
              "      <td>30.0</td>\n",
              "      <td>30.0</td>\n",
              "      <td>0.0</td>\n",
              "      <td>7.5</td>\n",
              "      <td>15.000000</td>\n",
              "      <td>30.0</td>\n",
              "      <td>0.0</td>\n",
              "      <td>7.500000</td>\n",
              "      <td>15.000000</td>\n",
              "      <td>6278.777731</td>\n",
              "      <td>837.170364</td>\n",
              "      <td>1365.142857</td>\n",
              "      <td>1447.714225</td>\n",
              "      <td>4022.0</td>\n",
              "      <td>13.0</td>\n",
              "      <td>5511.0</td>\n",
              "      <td>1837.0</td>\n",
              "      <td>1441.824885</td>\n",
              "      <td>3380.0</td>\n",
              "      <td>524.0</td>\n",
              "      <td>5588.0</td>\n",
              "      <td>1862.666667</td>\n",
              "      <td>2386.259067</td>\n",
              "      <td>4559.0</td>\n",
              "      <td>23.0</td>\n",
              "      <td>0.0</td>\n",
              "      <td>0.0</td>\n",
              "      <td>0.0</td>\n",
              "      <td>0.0</td>\n",
              "      <td>128.0</td>\n",
              "      <td>144.0</td>\n",
              "      <td>418.585182</td>\n",
              "      <td>418.585182</td>\n",
              "      <td>0.0</td>\n",
              "      <td>30.0</td>\n",
              "      <td>6.666667</td>\n",
              "      <td>13.228757</td>\n",
              "      <td>175.000000</td>\n",
              "      <td>0.0</td>\n",
              "      <td>1.0</td>\n",
              "      <td>0.0</td>\n",
              "      <td>0.0</td>\n",
              "      <td>0.0</td>\n",
              "      <td>0.0</td>\n",
              "      <td>0.0</td>\n",
              "      <td>0.0</td>\n",
              "      <td>1.0</td>\n",
              "      <td>7.500000</td>\n",
              "      <td>7.5</td>\n",
              "      <td>7.500000</td>\n",
              "      <td>0.0</td>\n",
              "      <td>0.0</td>\n",
              "      <td>0.0</td>\n",
              "      <td>0.0</td>\n",
              "      <td>0.0</td>\n",
              "      <td>0.0</td>\n",
              "      <td>4.0</td>\n",
              "      <td>30.0</td>\n",
              "      <td>4.0</td>\n",
              "      <td>30.0</td>\n",
              "      <td>-1.0</td>\n",
              "      <td>215.0</td>\n",
              "      <td>1.0</td>\n",
              "      <td>0.0</td>\n",
              "      <td>0.0</td>\n",
              "      <td>0.0</td>\n",
              "      <td>0.0</td>\n",
              "      <td>0.0</td>\n",
              "      <td>0.0</td>\n",
              "      <td>0.0</td>\n",
              "      <td>0.0</td>\n",
              "      <td>0.0</td>\n",
              "      <td>1.0</td>\n",
              "    </tr>\n",
              "    <tr>\n",
              "      <th>4</th>\n",
              "      <td>8782.0</td>\n",
              "      <td>4.0</td>\n",
              "      <td>4.0</td>\n",
              "      <td>30.0</td>\n",
              "      <td>30.0</td>\n",
              "      <td>30.0</td>\n",
              "      <td>0.0</td>\n",
              "      <td>7.5</td>\n",
              "      <td>15.000000</td>\n",
              "      <td>30.0</td>\n",
              "      <td>0.0</td>\n",
              "      <td>7.500000</td>\n",
              "      <td>15.000000</td>\n",
              "      <td>6832.156684</td>\n",
              "      <td>910.954225</td>\n",
              "      <td>1254.571429</td>\n",
              "      <td>1607.096435</td>\n",
              "      <td>4049.0</td>\n",
              "      <td>8.0</td>\n",
              "      <td>4725.0</td>\n",
              "      <td>1575.0</td>\n",
              "      <td>2277.042160</td>\n",
              "      <td>4204.0</td>\n",
              "      <td>226.0</td>\n",
              "      <td>5618.0</td>\n",
              "      <td>1872.666667</td>\n",
              "      <td>2191.816674</td>\n",
              "      <td>4287.0</td>\n",
              "      <td>8.0</td>\n",
              "      <td>0.0</td>\n",
              "      <td>0.0</td>\n",
              "      <td>0.0</td>\n",
              "      <td>0.0</td>\n",
              "      <td>128.0</td>\n",
              "      <td>144.0</td>\n",
              "      <td>455.477112</td>\n",
              "      <td>455.477112</td>\n",
              "      <td>0.0</td>\n",
              "      <td>30.0</td>\n",
              "      <td>6.666667</td>\n",
              "      <td>13.228757</td>\n",
              "      <td>175.000000</td>\n",
              "      <td>0.0</td>\n",
              "      <td>1.0</td>\n",
              "      <td>0.0</td>\n",
              "      <td>0.0</td>\n",
              "      <td>0.0</td>\n",
              "      <td>0.0</td>\n",
              "      <td>0.0</td>\n",
              "      <td>0.0</td>\n",
              "      <td>1.0</td>\n",
              "      <td>7.500000</td>\n",
              "      <td>7.5</td>\n",
              "      <td>7.500000</td>\n",
              "      <td>0.0</td>\n",
              "      <td>0.0</td>\n",
              "      <td>0.0</td>\n",
              "      <td>0.0</td>\n",
              "      <td>0.0</td>\n",
              "      <td>0.0</td>\n",
              "      <td>4.0</td>\n",
              "      <td>30.0</td>\n",
              "      <td>4.0</td>\n",
              "      <td>30.0</td>\n",
              "      <td>-1.0</td>\n",
              "      <td>215.0</td>\n",
              "      <td>1.0</td>\n",
              "      <td>0.0</td>\n",
              "      <td>0.0</td>\n",
              "      <td>0.0</td>\n",
              "      <td>0.0</td>\n",
              "      <td>0.0</td>\n",
              "      <td>0.0</td>\n",
              "      <td>0.0</td>\n",
              "      <td>0.0</td>\n",
              "      <td>0.0</td>\n",
              "      <td>1.0</td>\n",
              "    </tr>\n",
              "  </tbody>\n",
              "</table>\n",
              "</div>"
            ],
            "text/plain": [
              "   Flow Duration  Tot Fwd Pkts  Tot Bwd Pkts  ...  Idle Max  Idle Min  Label\n",
              "0       269709.0           4.0           5.0  ...       0.0       0.0    1.0\n",
              "1       268599.0           2.0           3.0  ...       0.0       0.0    1.0\n",
              "2        22194.0           5.0           5.0  ...       0.0       0.0    1.0\n",
              "3         9556.0           4.0           4.0  ...       0.0       0.0    1.0\n",
              "4         8782.0           4.0           4.0  ...       0.0       0.0    1.0\n",
              "\n",
              "[5 rows x 77 columns]"
            ]
          },
          "metadata": {},
          "execution_count": 42
        }
      ]
    },
    {
      "cell_type": "code",
      "metadata": {
        "id": "hhP7Q2AKmB2z"
      },
      "source": [
        "from sklearn.model_selection import train_test_split\n",
        "from sklearn.preprocessing import MinMaxScaler\n",
        "from sklearn.metrics import confusion_matrix, accuracy_score"
      ],
      "execution_count": null,
      "outputs": []
    },
    {
      "cell_type": "code",
      "metadata": {
        "id": "D9CtR7MdmB6J"
      },
      "source": [
        "Y_ano = df_ano[['Label']]\n",
        "X_ano = df_ano.drop(['Label',], axis=1)\n",
        "\n",
        "sc = MinMaxScaler(feature_range = (0, 1))\n",
        "X_ano = sc.fit_transform(X_ano)\n"
      ],
      "execution_count": null,
      "outputs": []
    },
    {
      "cell_type": "code",
      "metadata": {
        "colab": {
          "base_uri": "https://localhost:8080/"
        },
        "id": "SVpIjdcqqk1P",
        "outputId": "a140cd95-32b5-45d0-a717-71fbf436bfd8"
      },
      "source": [
        "X_train_ano, X_test_ano, Y_train_ano, Y_test_ano = train_test_split(X_ano, Y_ano, test_size=0.33, random_state=42)\n",
        "print(X_train_ano.shape, X_test_ano.shape)\n",
        "print(Y_train_ano.shape, Y_test_ano.shape)"
      ],
      "execution_count": null,
      "outputs": [
        {
          "output_type": "stream",
          "name": "stdout",
          "text": [
            "(50240, 76) (24746, 76)\n",
            "(50240, 1) (24746, 1)\n"
          ]
        }
      ]
    },
    {
      "cell_type": "code",
      "metadata": {
        "colab": {
          "base_uri": "https://localhost:8080/"
        },
        "id": "QPx-B332igsa",
        "outputId": "8744ea44-a20a-4cb2-c4d6-045593c9a3f6"
      },
      "source": [
        "# reshaping the data for model\n",
        "X_valid = X_test_ano.reshape(X_test_ano.shape[0], 1, X_test_ano.shape[1])\n",
        "print(\"Anomaly data shape:\", X_valid.shape)\n"
      ],
      "execution_count": null,
      "outputs": [
        {
          "output_type": "stream",
          "name": "stdout",
          "text": [
            "Anomaly data shape: (24746, 1, 76)\n"
          ]
        }
      ]
    },
    {
      "cell_type": "code",
      "metadata": {
        "id": "xgwE9GxUjkzT"
      },
      "source": [
        "X_ano_pred = model.predict(X_valid, verbose=0)\n",
        "X_ano_pred.shape\n",
        "# train_mae_loss = np.mean(np.abs(X_ano_pred - X_train_shape), axis=1)\n",
        "anomaly_mae_loss = np.mean(np.abs(X_ano_pred-X_valid), axis=1)\n",
        "\n",
        "# plt.hist(train_mae_loss)\n",
        "# plt.xlabel('Train MAE loss')\n",
        "# plt.ylabel('Number of Samples');\n",
        "\n",
        "# threshold = np.max(train_mae_loss)\n",
        "# print(f'Reconstruction error threshold: {threshold}')"
      ],
      "execution_count": null,
      "outputs": []
    },
    {
      "cell_type": "code",
      "metadata": {
        "colab": {
          "base_uri": "https://localhost:8080/"
        },
        "id": "ZJAm56huEbrY",
        "outputId": "6b428bc8-e2b9-48de-a2e9-73830a22a90d"
      },
      "source": [
        "anomaly_threshold = np.max(anomaly_mae_loss)\n",
        "print(anomaly_threshold)"
      ],
      "execution_count": null,
      "outputs": [
        {
          "output_type": "stream",
          "name": "stdout",
          "text": [
            "1.011212216200013\n"
          ]
        }
      ]
    },
    {
      "cell_type": "code",
      "metadata": {
        "id": "Ncbhgm6W5pz7"
      },
      "source": [
        ""
      ],
      "execution_count": null,
      "outputs": []
    },
    {
      "cell_type": "code",
      "metadata": {
        "id": "MtqGyc79Ec_D"
      },
      "source": [
        "conf_matrix = confusion_matrix(True_class,X_ano_pred)\n",
        "\n",
        "plt.figure(figsize=(6, 6))\n",
        "sns.heatmap(conf_matrix, xticklabels=LABELS, yticklabels=LABELS, annot=True, fmt=\"d\");\n",
        "plt.title(\"Confusion matrix\")\n",
        "plt.ylabel('True class')\n",
        "plt.xlabel('Predicted class')\n",
        "plt.show()"
      ],
      "execution_count": null,
      "outputs": []
    }
  ]
}