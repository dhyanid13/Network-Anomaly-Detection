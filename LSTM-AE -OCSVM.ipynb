{
 "cells": [
  {
   "cell_type": "code",
   "execution_count": 54,
   "metadata": {},
   "outputs": [],
   "source": [
    "import matplotlib.pyplot as plt\n",
    "import seaborn as sns\n",
    "import time\n",
    "from tensorflow.keras.models import Sequential\n",
    "from tensorflow.keras.layers import Dense, Dropout, Flatten, Conv2D, MaxPooling2D ,LSTM ,RepeatVector,TimeDistributed\n",
    "import numpy as np # linear algebra\n",
    "import pandas as pd # data processing, CSV file I/O (e.g. pd.read_csv)\n",
    "\n",
    "import os"
   ]
  },
  {
   "cell_type": "code",
   "execution_count": 55,
   "metadata": {},
   "outputs": [
    {
     "data": {
      "text/html": [
       "<div>\n",
       "<style scoped>\n",
       "    .dataframe tbody tr th:only-of-type {\n",
       "        vertical-align: middle;\n",
       "    }\n",
       "\n",
       "    .dataframe tbody tr th {\n",
       "        vertical-align: top;\n",
       "    }\n",
       "\n",
       "    .dataframe thead th {\n",
       "        text-align: right;\n",
       "    }\n",
       "</style>\n",
       "<table border=\"1\" class=\"dataframe\">\n",
       "  <thead>\n",
       "    <tr style=\"text-align: right;\">\n",
       "      <th></th>\n",
       "      <th>Flow ID</th>\n",
       "      <th>Src IP</th>\n",
       "      <th>Src Port</th>\n",
       "      <th>Dst IP</th>\n",
       "      <th>Dst Port</th>\n",
       "      <th>Protocol</th>\n",
       "      <th>Timestamp</th>\n",
       "      <th>Flow Duration</th>\n",
       "      <th>Tot Fwd Pkts</th>\n",
       "      <th>Tot Bwd Pkts</th>\n",
       "      <th>...</th>\n",
       "      <th>Fwd Seg Size Min</th>\n",
       "      <th>Active Mean</th>\n",
       "      <th>Active Std</th>\n",
       "      <th>Active Max</th>\n",
       "      <th>Active Min</th>\n",
       "      <th>Idle Mean</th>\n",
       "      <th>Idle Std</th>\n",
       "      <th>Idle Max</th>\n",
       "      <th>Idle Min</th>\n",
       "      <th>Label</th>\n",
       "    </tr>\n",
       "  </thead>\n",
       "  <tbody>\n",
       "    <tr>\n",
       "      <th>0</th>\n",
       "      <td>172.17.0.2-200.175.2.130-80-48856-6</td>\n",
       "      <td>200.175.2.130</td>\n",
       "      <td>48856</td>\n",
       "      <td>172.17.0.2</td>\n",
       "      <td>80</td>\n",
       "      <td>6</td>\n",
       "      <td>12/1/2020 1:14</td>\n",
       "      <td>4045</td>\n",
       "      <td>2</td>\n",
       "      <td>5</td>\n",
       "      <td>...</td>\n",
       "      <td>0</td>\n",
       "      <td>0.0</td>\n",
       "      <td>0.0</td>\n",
       "      <td>0.0</td>\n",
       "      <td>0.0</td>\n",
       "      <td>0.0</td>\n",
       "      <td>0.0</td>\n",
       "      <td>0.0</td>\n",
       "      <td>0.0</td>\n",
       "      <td>BFA</td>\n",
       "    </tr>\n",
       "    <tr>\n",
       "      <th>1</th>\n",
       "      <td>172.17.0.2-200.175.2.130-80-48856-6</td>\n",
       "      <td>200.175.2.130</td>\n",
       "      <td>48856</td>\n",
       "      <td>172.17.0.2</td>\n",
       "      <td>80</td>\n",
       "      <td>6</td>\n",
       "      <td>12/1/2020 1:14</td>\n",
       "      <td>284</td>\n",
       "      <td>1</td>\n",
       "      <td>1</td>\n",
       "      <td>...</td>\n",
       "      <td>0</td>\n",
       "      <td>0.0</td>\n",
       "      <td>0.0</td>\n",
       "      <td>0.0</td>\n",
       "      <td>0.0</td>\n",
       "      <td>0.0</td>\n",
       "      <td>0.0</td>\n",
       "      <td>0.0</td>\n",
       "      <td>0.0</td>\n",
       "      <td>BFA</td>\n",
       "    </tr>\n",
       "    <tr>\n",
       "      <th>2</th>\n",
       "      <td>172.17.0.2-200.175.2.130-80-48858-6</td>\n",
       "      <td>200.175.2.130</td>\n",
       "      <td>48858</td>\n",
       "      <td>172.17.0.2</td>\n",
       "      <td>80</td>\n",
       "      <td>6</td>\n",
       "      <td>12/1/2020 1:14</td>\n",
       "      <td>4302</td>\n",
       "      <td>2</td>\n",
       "      <td>5</td>\n",
       "      <td>...</td>\n",
       "      <td>0</td>\n",
       "      <td>0.0</td>\n",
       "      <td>0.0</td>\n",
       "      <td>0.0</td>\n",
       "      <td>0.0</td>\n",
       "      <td>0.0</td>\n",
       "      <td>0.0</td>\n",
       "      <td>0.0</td>\n",
       "      <td>0.0</td>\n",
       "      <td>BFA</td>\n",
       "    </tr>\n",
       "    <tr>\n",
       "      <th>3</th>\n",
       "      <td>172.17.0.2-200.175.2.130-80-48858-6</td>\n",
       "      <td>200.175.2.130</td>\n",
       "      <td>48858</td>\n",
       "      <td>172.17.0.2</td>\n",
       "      <td>80</td>\n",
       "      <td>6</td>\n",
       "      <td>12/1/2020 1:14</td>\n",
       "      <td>83</td>\n",
       "      <td>1</td>\n",
       "      <td>1</td>\n",
       "      <td>...</td>\n",
       "      <td>0</td>\n",
       "      <td>0.0</td>\n",
       "      <td>0.0</td>\n",
       "      <td>0.0</td>\n",
       "      <td>0.0</td>\n",
       "      <td>0.0</td>\n",
       "      <td>0.0</td>\n",
       "      <td>0.0</td>\n",
       "      <td>0.0</td>\n",
       "      <td>BFA</td>\n",
       "    </tr>\n",
       "    <tr>\n",
       "      <th>4</th>\n",
       "      <td>172.17.0.2-200.175.2.130-80-48860-6</td>\n",
       "      <td>200.175.2.130</td>\n",
       "      <td>48860</td>\n",
       "      <td>172.17.0.2</td>\n",
       "      <td>80</td>\n",
       "      <td>6</td>\n",
       "      <td>12/1/2020 1:14</td>\n",
       "      <td>3760</td>\n",
       "      <td>2</td>\n",
       "      <td>5</td>\n",
       "      <td>...</td>\n",
       "      <td>0</td>\n",
       "      <td>0.0</td>\n",
       "      <td>0.0</td>\n",
       "      <td>0.0</td>\n",
       "      <td>0.0</td>\n",
       "      <td>0.0</td>\n",
       "      <td>0.0</td>\n",
       "      <td>0.0</td>\n",
       "      <td>0.0</td>\n",
       "      <td>BFA</td>\n",
       "    </tr>\n",
       "  </tbody>\n",
       "</table>\n",
       "<p>5 rows × 84 columns</p>\n",
       "</div>"
      ],
      "text/plain": [
       "                               Flow ID         Src IP  Src Port      Dst IP  \\\n",
       "0  172.17.0.2-200.175.2.130-80-48856-6  200.175.2.130     48856  172.17.0.2   \n",
       "1  172.17.0.2-200.175.2.130-80-48856-6  200.175.2.130     48856  172.17.0.2   \n",
       "2  172.17.0.2-200.175.2.130-80-48858-6  200.175.2.130     48858  172.17.0.2   \n",
       "3  172.17.0.2-200.175.2.130-80-48858-6  200.175.2.130     48858  172.17.0.2   \n",
       "4  172.17.0.2-200.175.2.130-80-48860-6  200.175.2.130     48860  172.17.0.2   \n",
       "\n",
       "   Dst Port  Protocol       Timestamp  Flow Duration  Tot Fwd Pkts  \\\n",
       "0        80         6  12/1/2020 1:14           4045             2   \n",
       "1        80         6  12/1/2020 1:14            284             1   \n",
       "2        80         6  12/1/2020 1:14           4302             2   \n",
       "3        80         6  12/1/2020 1:14             83             1   \n",
       "4        80         6  12/1/2020 1:14           3760             2   \n",
       "\n",
       "   Tot Bwd Pkts  ...  Fwd Seg Size Min  Active Mean  Active Std  Active Max  \\\n",
       "0             5  ...                 0          0.0         0.0         0.0   \n",
       "1             1  ...                 0          0.0         0.0         0.0   \n",
       "2             5  ...                 0          0.0         0.0         0.0   \n",
       "3             1  ...                 0          0.0         0.0         0.0   \n",
       "4             5  ...                 0          0.0         0.0         0.0   \n",
       "\n",
       "   Active Min  Idle Mean  Idle Std  Idle Max  Idle Min  Label  \n",
       "0         0.0        0.0       0.0       0.0       0.0    BFA  \n",
       "1         0.0        0.0       0.0       0.0       0.0    BFA  \n",
       "2         0.0        0.0       0.0       0.0       0.0    BFA  \n",
       "3         0.0        0.0       0.0       0.0       0.0    BFA  \n",
       "4         0.0        0.0       0.0       0.0       0.0    BFA  \n",
       "\n",
       "[5 rows x 84 columns]"
      ]
     },
     "execution_count": 55,
     "metadata": {},
     "output_type": "execute_result"
    }
   ],
   "source": [
    "df=pd.read_csv('OVS.csv')\n",
    "df.head(5)"
   ]
  },
  {
   "cell_type": "code",
   "execution_count": 56,
   "metadata": {},
   "outputs": [],
   "source": [
    "df.drop(['Flow ID', 'Src IP' ,'Dst IP' ,'Timestamp','Src Port','Dst Port','Protocol'], inplace=True,axis = 1)\n",
    "df.shape\n",
    "df = df.dropna('columns')# drop columns with NaN\n",
    "pmap = {'Normal':0,'Probe ':1,'DDoS':1,'DoS':1,'BFA':1,'Web-Attack':1,'BOTNET':1,'U2R':1,'DDoS':1}\n",
    "df['Label'] = df['Label'].map(pmap)"
   ]
  },
  {
   "cell_type": "code",
   "execution_count": 57,
   "metadata": {},
   "outputs": [
    {
     "data": {
      "text/plain": [
       "1.0    53937\n",
       "Name: Label, dtype: int64"
      ]
     },
     "execution_count": 57,
     "metadata": {},
     "output_type": "execute_result"
    }
   ],
   "source": [
    "df['Label'].value_counts()"
   ]
  },
  {
   "cell_type": "code",
   "execution_count": 58,
   "metadata": {},
   "outputs": [],
   "source": [
    "from sklearn.model_selection import train_test_split\n",
    "from sklearn.preprocessing import MinMaxScaler\n",
    "from sklearn.metrics import confusion_matrix, accuracy_score"
   ]
  },
  {
   "cell_type": "code",
   "execution_count": 59,
   "metadata": {},
   "outputs": [],
   "source": [
    "Y = df[['Label']]\n",
    "X = df.drop(['Label',], axis=1)\n",
    "\n",
    "sc = MinMaxScaler(feature_range = (0, 1))\n",
    "X = sc.fit_transform(X)"
   ]
  },
  {
   "cell_type": "code",
   "execution_count": 60,
   "metadata": {},
   "outputs": [
    {
     "name": "stdout",
     "output_type": "stream",
     "text": [
      "(97105, 76) (41617, 76)\n",
      "(97105, 1) (41617, 1)\n"
     ]
    }
   ],
   "source": [
    "X_train, X_test, Y_train, Y_test = train_test_split(X, Y, test_size=0.3, random_state=42)\n",
    "print(X_train.shape, X_test.shape)\n",
    "print(Y_train.shape, Y_test.shape)"
   ]
  },
  {
   "cell_type": "code",
   "execution_count": 61,
   "metadata": {},
   "outputs": [
    {
     "name": "stdout",
     "output_type": "stream",
     "text": [
      "Training data shape: (97105, 1, 76)\n",
      "Test data shape: (41617, 1, 76)\n"
     ]
    }
   ],
   "source": [
    "X_train = X_train.reshape(X_train.shape[0], 1, X_train.shape[1])\n",
    "print(\"Training data shape:\", X_train.shape)\n",
    "X_test = X_test.reshape(X_test.shape[0], 1, X_test.shape[1])\n",
    "print(\"Test data shape:\", X_test.shape)"
   ]
  },
  {
   "cell_type": "code",
   "execution_count": 62,
   "metadata": {},
   "outputs": [],
   "source": [
    "import tensorflow as tf\n",
    "#model=tf.saved_model.load(\"my_model.h5\")\n",
    "from tensorflow import keras\n",
    "new_model = tf.keras.models.load_model('my_model.h5')"
   ]
  },
  {
   "cell_type": "code",
   "execution_count": 63,
   "metadata": {},
   "outputs": [
    {
     "name": "stdout",
     "output_type": "stream",
     "text": [
      "(41617, 1, 76)\n",
      "(103167, 76, 76)\n"
     ]
    }
   ],
   "source": [
    "print(X_test.shape)\n",
    "#print(X_train_pred.shape)"
   ]
  },
  {
   "cell_type": "code",
   "execution_count": 64,
   "metadata": {},
   "outputs": [],
   "source": [
    "X_train_pred = new_model.predict(X_test, verbose=0)\n",
    "train_mae_loss = np.mean(np.abs(X_train_pred - X_test), axis=1)\n"
   ]
  },
  {
   "cell_type": "code",
   "execution_count": 65,
   "metadata": {},
   "outputs": [
    {
     "name": "stdout",
     "output_type": "stream",
     "text": [
      "[[0.01870551 0.00028811 0.00188162 ... 0.00188903 0.01045193 0.01514281]\n",
      " [0.00366365 0.00069445 0.0020974  ... 0.02888118 0.02275633 0.00764042]\n",
      " [0.03507817 0.00095312 0.00089827 ... 0.0081519  0.04409654 0.03758816]\n",
      " ...\n",
      " [0.00568648 0.00053488 0.00060933 ... 0.00080381 0.00195239 0.00404584]\n",
      " [0.00366365 0.00069445 0.0020974  ... 0.02888118 0.02275633 0.00764042]\n",
      " [0.00568648 0.00053488 0.00060933 ... 0.00080381 0.00195239 0.00404584]]\n"
     ]
    }
   ],
   "source": [
    "print(train_mae_loss)"
   ]
  },
  {
   "cell_type": "code",
   "execution_count": 66,
   "metadata": {},
   "outputs": [
    {
     "name": "stdout",
     "output_type": "stream",
     "text": [
      "(41617, 1, 76)\n",
      "(41617, 1)\n"
     ]
    }
   ],
   "source": [
    "print(X_test.shape)\n",
    "print(Y_test.shape)"
   ]
  },
  {
   "cell_type": "code",
   "execution_count": 71,
   "metadata": {},
   "outputs": [
    {
     "name": "stdout",
     "output_type": "stream",
     "text": [
      "Reconstruction error threshold: 1.1491961430170035\n",
      "Reconstruction error threshold min: 2.832627471530271e-06\n",
      "Reconstruction error threshold avg: 0.04606371558120769\n"
     ]
    },
    {
     "data": {
      "image/png": "[encoded data removed]",
      "text/plain": [
       "<Figure size 432x288 with 1 Axes>"
      ]
     },
     "metadata": {
      "needs_background": "light"
     },
     "output_type": "display_data"
    }
   ],
   "source": [
    "X_test_pred = new_model.predict(X_test, verbose=0)\n",
    "test_mae_loss = np.mean(np.abs(X_test_pred-X_test), axis=1)\n",
    "\n",
    "plt.hist(test_mae_loss)\n",
    "plt.xlabel('Test MAE loss')\n",
    "plt.ylabel('Number of samples');\n",
    "threshold = np.max(test_mae_loss)\n",
    "min_threshold=np.min(test_mae_loss)\n",
    "avg=np.mean(test_mae_loss)\n",
    "print(f'Reconstruction error threshold: {threshold}')\n",
    "print(f'Reconstruction error threshold min: {min_threshold}')\n",
    "print(f'Reconstruction error threshold avg: {avg}')\n"
   ]
  },
  {
   "cell_type": "code",
   "execution_count": 73,
   "metadata": {},
   "outputs": [
    {
     "data": {
      "text/html": [
       "<div>\n",
       "<style scoped>\n",
       "    .dataframe tbody tr th:only-of-type {\n",
       "        vertical-align: middle;\n",
       "    }\n",
       "\n",
       "    .dataframe tbody tr th {\n",
       "        vertical-align: top;\n",
       "    }\n",
       "\n",
       "    .dataframe thead th {\n",
       "        text-align: right;\n",
       "    }\n",
       "</style>\n",
       "<table border=\"1\" class=\"dataframe\">\n",
       "  <thead>\n",
       "    <tr style=\"text-align: right;\">\n",
       "      <th></th>\n",
       "      <th>Flow ID</th>\n",
       "      <th>Src IP</th>\n",
       "      <th>Src Port</th>\n",
       "      <th>Dst IP</th>\n",
       "      <th>Dst Port</th>\n",
       "      <th>Protocol</th>\n",
       "      <th>Timestamp</th>\n",
       "      <th>Flow Duration</th>\n",
       "      <th>Tot Fwd Pkts</th>\n",
       "      <th>Tot Bwd Pkts</th>\n",
       "      <th>...</th>\n",
       "      <th>Fwd Seg Size Min</th>\n",
       "      <th>Active Mean</th>\n",
       "      <th>Active Std</th>\n",
       "      <th>Active Max</th>\n",
       "      <th>Active Min</th>\n",
       "      <th>Idle Mean</th>\n",
       "      <th>Idle Std</th>\n",
       "      <th>Idle Max</th>\n",
       "      <th>Idle Min</th>\n",
       "      <th>Label</th>\n",
       "    </tr>\n",
       "  </thead>\n",
       "  <tbody>\n",
       "    <tr>\n",
       "      <th>0</th>\n",
       "      <td>185.127.17.56-192.168.20.133-443-53648-6</td>\n",
       "      <td>185.127.17.56</td>\n",
       "      <td>443</td>\n",
       "      <td>192.168.20.133</td>\n",
       "      <td>53648</td>\n",
       "      <td>6</td>\n",
       "      <td>5/2/2020 13:58</td>\n",
       "      <td>245230</td>\n",
       "      <td>44</td>\n",
       "      <td>40</td>\n",
       "      <td>...</td>\n",
       "      <td>0</td>\n",
       "      <td>0.0</td>\n",
       "      <td>0.0</td>\n",
       "      <td>0.0</td>\n",
       "      <td>0.0</td>\n",
       "      <td>0.0</td>\n",
       "      <td>0.0</td>\n",
       "      <td>0.0</td>\n",
       "      <td>0.0</td>\n",
       "      <td>Normal</td>\n",
       "    </tr>\n",
       "    <tr>\n",
       "      <th>1</th>\n",
       "      <td>185.127.17.56-192.168.20.133-443-53650-6</td>\n",
       "      <td>192.168.20.133</td>\n",
       "      <td>53650</td>\n",
       "      <td>185.127.17.56</td>\n",
       "      <td>443</td>\n",
       "      <td>6</td>\n",
       "      <td>5/2/2020 13:58</td>\n",
       "      <td>1605449</td>\n",
       "      <td>107</td>\n",
       "      <td>149</td>\n",
       "      <td>...</td>\n",
       "      <td>0</td>\n",
       "      <td>0.0</td>\n",
       "      <td>0.0</td>\n",
       "      <td>0.0</td>\n",
       "      <td>0.0</td>\n",
       "      <td>0.0</td>\n",
       "      <td>0.0</td>\n",
       "      <td>0.0</td>\n",
       "      <td>0.0</td>\n",
       "      <td>Normal</td>\n",
       "    </tr>\n",
       "    <tr>\n",
       "      <th>2</th>\n",
       "      <td>192.168.20.133-192.168.20.2-35108-53-6</td>\n",
       "      <td>192.168.20.133</td>\n",
       "      <td>35108</td>\n",
       "      <td>192.168.20.2</td>\n",
       "      <td>53</td>\n",
       "      <td>6</td>\n",
       "      <td>5/2/2020 13:58</td>\n",
       "      <td>53078</td>\n",
       "      <td>5</td>\n",
       "      <td>5</td>\n",
       "      <td>...</td>\n",
       "      <td>0</td>\n",
       "      <td>0.0</td>\n",
       "      <td>0.0</td>\n",
       "      <td>0.0</td>\n",
       "      <td>0.0</td>\n",
       "      <td>0.0</td>\n",
       "      <td>0.0</td>\n",
       "      <td>0.0</td>\n",
       "      <td>0.0</td>\n",
       "      <td>Normal</td>\n",
       "    </tr>\n",
       "    <tr>\n",
       "      <th>3</th>\n",
       "      <td>192.168.20.133-192.168.20.2-35108-53-6</td>\n",
       "      <td>192.168.20.2</td>\n",
       "      <td>53</td>\n",
       "      <td>192.168.20.133</td>\n",
       "      <td>35108</td>\n",
       "      <td>6</td>\n",
       "      <td>5/2/2020 13:58</td>\n",
       "      <td>6975</td>\n",
       "      <td>1</td>\n",
       "      <td>1</td>\n",
       "      <td>...</td>\n",
       "      <td>0</td>\n",
       "      <td>0.0</td>\n",
       "      <td>0.0</td>\n",
       "      <td>0.0</td>\n",
       "      <td>0.0</td>\n",
       "      <td>0.0</td>\n",
       "      <td>0.0</td>\n",
       "      <td>0.0</td>\n",
       "      <td>0.0</td>\n",
       "      <td>Normal</td>\n",
       "    </tr>\n",
       "    <tr>\n",
       "      <th>4</th>\n",
       "      <td>154.59.122.74-192.168.20.133-443-60900-6</td>\n",
       "      <td>192.168.20.133</td>\n",
       "      <td>60900</td>\n",
       "      <td>154.59.122.74</td>\n",
       "      <td>443</td>\n",
       "      <td>6</td>\n",
       "      <td>5/2/2020 13:58</td>\n",
       "      <td>190141</td>\n",
       "      <td>13</td>\n",
       "      <td>16</td>\n",
       "      <td>...</td>\n",
       "      <td>0</td>\n",
       "      <td>0.0</td>\n",
       "      <td>0.0</td>\n",
       "      <td>0.0</td>\n",
       "      <td>0.0</td>\n",
       "      <td>0.0</td>\n",
       "      <td>0.0</td>\n",
       "      <td>0.0</td>\n",
       "      <td>0.0</td>\n",
       "      <td>Normal</td>\n",
       "    </tr>\n",
       "  </tbody>\n",
       "</table>\n",
       "<p>5 rows × 84 columns</p>\n",
       "</div>"
      ],
      "text/plain": [
       "                                    Flow ID          Src IP  Src Port  \\\n",
       "0  185.127.17.56-192.168.20.133-443-53648-6   185.127.17.56       443   \n",
       "1  185.127.17.56-192.168.20.133-443-53650-6  192.168.20.133     53650   \n",
       "2    192.168.20.133-192.168.20.2-35108-53-6  192.168.20.133     35108   \n",
       "3    192.168.20.133-192.168.20.2-35108-53-6    192.168.20.2        53   \n",
       "4  154.59.122.74-192.168.20.133-443-60900-6  192.168.20.133     60900   \n",
       "\n",
       "           Dst IP  Dst Port  Protocol       Timestamp  Flow Duration  \\\n",
       "0  192.168.20.133     53648         6  5/2/2020 13:58         245230   \n",
       "1   185.127.17.56       443         6  5/2/2020 13:58        1605449   \n",
       "2    192.168.20.2        53         6  5/2/2020 13:58          53078   \n",
       "3  192.168.20.133     35108         6  5/2/2020 13:58           6975   \n",
       "4   154.59.122.74       443         6  5/2/2020 13:58         190141   \n",
       "\n",
       "   Tot Fwd Pkts  Tot Bwd Pkts  ...  Fwd Seg Size Min  Active Mean  Active Std  \\\n",
       "0            44            40  ...                 0          0.0         0.0   \n",
       "1           107           149  ...                 0          0.0         0.0   \n",
       "2             5             5  ...                 0          0.0         0.0   \n",
       "3             1             1  ...                 0          0.0         0.0   \n",
       "4            13            16  ...                 0          0.0         0.0   \n",
       "\n",
       "   Active Max  Active Min  Idle Mean  Idle Std  Idle Max  Idle Min   Label  \n",
       "0         0.0         0.0        0.0       0.0       0.0       0.0  Normal  \n",
       "1         0.0         0.0        0.0       0.0       0.0       0.0  Normal  \n",
       "2         0.0         0.0        0.0       0.0       0.0       0.0  Normal  \n",
       "3         0.0         0.0        0.0       0.0       0.0       0.0  Normal  \n",
       "4         0.0         0.0        0.0       0.0       0.0       0.0  Normal  \n",
       "\n",
       "[5 rows x 84 columns]"
      ]
     },
     "execution_count": 73,
     "metadata": {},
     "output_type": "execute_result"
    }
   ],
   "source": [
    "df=pd.read_csv('Normal_data.csv')\n",
    "df.head(5)"
   ]
  },
  {
   "cell_type": "code",
   "execution_count": 74,
   "metadata": {},
   "outputs": [],
   "source": [
    "df.drop(['Flow ID', 'Src IP' ,'Dst IP' ,'Timestamp','Src Port','Dst Port','Protocol'], inplace=True,axis = 1)\n",
    "df.shape\n",
    "df = df.dropna('columns')# drop columns with NaN\n",
    "pmap = {'Normal':0,'Probe ':1,'DDoS':1,'DoS':1,'BFA':1,'Web-Attack':1,'BOTNET':1,'U2R':1,'DDoS':1}\n",
    "df['Label'] = df['Label'].map(pmap)"
   ]
  },
  {
   "cell_type": "code",
   "execution_count": 75,
   "metadata": {},
   "outputs": [
    {
     "data": {
      "text/plain": [
       "0    68424\n",
       "Name: Label, dtype: int64"
      ]
     },
     "execution_count": 75,
     "metadata": {},
     "output_type": "execute_result"
    }
   ],
   "source": [
    "df['Label'].value_counts()"
   ]
  },
  {
   "cell_type": "code",
   "execution_count": 76,
   "metadata": {},
   "outputs": [],
   "source": [
    "from sklearn.model_selection import train_test_split\n",
    "from sklearn.preprocessing import MinMaxScaler\n",
    "from sklearn.metrics import confusion_matrix, accuracy_score"
   ]
  },
  {
   "cell_type": "code",
   "execution_count": 77,
   "metadata": {},
   "outputs": [],
   "source": [
    "Y = df[['Label']]\n",
    "X = df.drop(['Label',], axis=1)\n",
    "\n",
    "sc = MinMaxScaler(feature_range = (0, 1))\n",
    "X = sc.fit_transform(X)"
   ]
  },
  {
   "cell_type": "code",
   "execution_count": 78,
   "metadata": {},
   "outputs": [
    {
     "name": "stdout",
     "output_type": "stream",
     "text": [
      "(47896, 76) (20528, 76)\n",
      "(47896, 1) (20528, 1)\n"
     ]
    }
   ],
   "source": [
    "X_train, X_test, Y_train, Y_test = train_test_split(X, Y, test_size=0.3, random_state=42)\n",
    "print(X_train.shape, X_test.shape)\n",
    "print(Y_train.shape, Y_test.shape)Y = df[['Label']]\n",
    "X = df.drop(['Label',], axis=1)\n",
    "\n",
    "sc = MinMaxScaler(feature_range = (0, 1))\n",
    "X = sc.fit_transform(X)"
   ]
  },
  {
   "cell_type": "code",
   "execution_count": 79,
   "metadata": {},
   "outputs": [
    {
     "name": "stdout",
     "output_type": "stream",
     "text": [
      "Training data shape: (47896, 1, 76)\n",
      "Test data shape: (20528, 1, 76)\n"
     ]
    }
   ],
   "source": [
    "X_train = X_train.reshape(X_train.shape[0], 1, X_train.shape[1])\n",
    "print(\"Training data shape:\", X_train.shape)\n",
    "X_test = X_test.reshape(X_test.shape[0], 1, X_test.shape[1])\n",
    "print(\"Test data shape:\", X_test.shape)"
   ]
  },
  {
   "cell_type": "code",
   "execution_count": 80,
   "metadata": {},
   "outputs": [
    {
     "name": "stdout",
     "output_type": "stream",
     "text": [
      "Reconstruction error threshold: 1.0085564585108506\n",
      "Reconstruction error threshold min: 1.4906480301808762e-06\n",
      "Reconstruction error threshold avg: 0.003283416367930424\n"
     ]
    },
    {
     "data": {
      "image/png": "[encoded data removed]",
      "text/plain": [
       "<Figure size 432x288 with 1 Axes>"
      ]
     },
     "metadata": {
      "needs_background": "light"
     },
     "output_type": "display_data"
    }
   ],
   "source": [
    "X_test_pred = new_model.predict(X_test, verbose=0)\n",
    "test_mae_loss = np.mean(np.abs(X_test_pred-X_test), axis=1)\n",
    "\n",
    "plt.hist(test_mae_loss)\n",
    "plt.xlabel('Test MAE loss')\n",
    "plt.ylabel('Number of samples');\n",
    "threshold = np.max(test_mae_loss)\n",
    "min_threshold=np.min(test_mae_loss)\n",
    "avg=np.mean(test_mae_loss)\n",
    "print(f'Reconstruction error threshold: {threshold}')\n",
    "print(f'Reconstruction error threshold min: {min_threshold}')\n",
    "print(f'Reconstruction error threshold avg: {avg}')\n"
   ]
  },
  {
   "cell_type": "code",
   "execution_count": 81,
   "metadata": {},
   "outputs": [
    {
     "data": {
      "text/html": [
       "<div>\n",
       "<style scoped>\n",
       "    .dataframe tbody tr th:only-of-type {\n",
       "        vertical-align: middle;\n",
       "    }\n",
       "\n",
       "    .dataframe tbody tr th {\n",
       "        vertical-align: top;\n",
       "    }\n",
       "\n",
       "    .dataframe thead th {\n",
       "        text-align: right;\n",
       "    }\n",
       "</style>\n",
       "<table border=\"1\" class=\"dataframe\">\n",
       "  <thead>\n",
       "    <tr style=\"text-align: right;\">\n",
       "      <th></th>\n",
       "      <th>Flow ID</th>\n",
       "      <th>Src IP</th>\n",
       "      <th>Src Port</th>\n",
       "      <th>Dst IP</th>\n",
       "      <th>Dst Port</th>\n",
       "      <th>Protocol</th>\n",
       "      <th>Timestamp</th>\n",
       "      <th>Flow Duration</th>\n",
       "      <th>Tot Fwd Pkts</th>\n",
       "      <th>Tot Bwd Pkts</th>\n",
       "      <th>...</th>\n",
       "      <th>Fwd Seg Size Min</th>\n",
       "      <th>Active Mean</th>\n",
       "      <th>Active Std</th>\n",
       "      <th>Active Max</th>\n",
       "      <th>Active Min</th>\n",
       "      <th>Idle Mean</th>\n",
       "      <th>Idle Std</th>\n",
       "      <th>Idle Max</th>\n",
       "      <th>Idle Min</th>\n",
       "      <th>Label</th>\n",
       "    </tr>\n",
       "  </thead>\n",
       "  <tbody>\n",
       "    <tr>\n",
       "      <th>0</th>\n",
       "      <td>192.168.3.130-200.175.2.130-38694-4444-6</td>\n",
       "      <td>192.168.3.130</td>\n",
       "      <td>38694</td>\n",
       "      <td>200.175.2.130</td>\n",
       "      <td>4444</td>\n",
       "      <td>6</td>\n",
       "      <td>10/1/2020 5:02</td>\n",
       "      <td>269709</td>\n",
       "      <td>4</td>\n",
       "      <td>5</td>\n",
       "      <td>...</td>\n",
       "      <td>0</td>\n",
       "      <td>0.0</td>\n",
       "      <td>0.0</td>\n",
       "      <td>0</td>\n",
       "      <td>0</td>\n",
       "      <td>0.0</td>\n",
       "      <td>0.0</td>\n",
       "      <td>0.0</td>\n",
       "      <td>0.0</td>\n",
       "      <td>U2R</td>\n",
       "    </tr>\n",
       "    <tr>\n",
       "      <th>1</th>\n",
       "      <td>192.168.3.130-200.175.2.130-38693-4444-6</td>\n",
       "      <td>192.168.3.130</td>\n",
       "      <td>38693</td>\n",
       "      <td>200.175.2.130</td>\n",
       "      <td>4444</td>\n",
       "      <td>6</td>\n",
       "      <td>10/1/2020 5:02</td>\n",
       "      <td>268599</td>\n",
       "      <td>2</td>\n",
       "      <td>3</td>\n",
       "      <td>...</td>\n",
       "      <td>0</td>\n",
       "      <td>0.0</td>\n",
       "      <td>0.0</td>\n",
       "      <td>0</td>\n",
       "      <td>0</td>\n",
       "      <td>0.0</td>\n",
       "      <td>0.0</td>\n",
       "      <td>0.0</td>\n",
       "      <td>0.0</td>\n",
       "      <td>U2R</td>\n",
       "    </tr>\n",
       "    <tr>\n",
       "      <th>2</th>\n",
       "      <td>192.168.3.130-200.175.2.130-3632-33747-6</td>\n",
       "      <td>200.175.2.130</td>\n",
       "      <td>33747</td>\n",
       "      <td>192.168.3.130</td>\n",
       "      <td>3632</td>\n",
       "      <td>6</td>\n",
       "      <td>10/1/2020 5:02</td>\n",
       "      <td>22194</td>\n",
       "      <td>5</td>\n",
       "      <td>5</td>\n",
       "      <td>...</td>\n",
       "      <td>0</td>\n",
       "      <td>0.0</td>\n",
       "      <td>0.0</td>\n",
       "      <td>0</td>\n",
       "      <td>0</td>\n",
       "      <td>0.0</td>\n",
       "      <td>0.0</td>\n",
       "      <td>0.0</td>\n",
       "      <td>0.0</td>\n",
       "      <td>U2R</td>\n",
       "    </tr>\n",
       "    <tr>\n",
       "      <th>3</th>\n",
       "      <td>192.168.3.130-200.175.2.130-8180-38745-6</td>\n",
       "      <td>200.175.2.130</td>\n",
       "      <td>38745</td>\n",
       "      <td>192.168.3.130</td>\n",
       "      <td>8180</td>\n",
       "      <td>6</td>\n",
       "      <td>10/1/2020 1:39</td>\n",
       "      <td>9556</td>\n",
       "      <td>4</td>\n",
       "      <td>4</td>\n",
       "      <td>...</td>\n",
       "      <td>0</td>\n",
       "      <td>0.0</td>\n",
       "      <td>0.0</td>\n",
       "      <td>0</td>\n",
       "      <td>0</td>\n",
       "      <td>0.0</td>\n",
       "      <td>0.0</td>\n",
       "      <td>0.0</td>\n",
       "      <td>0.0</td>\n",
       "      <td>BFA</td>\n",
       "    </tr>\n",
       "    <tr>\n",
       "      <th>4</th>\n",
       "      <td>192.168.3.130-200.175.2.130-8180-37217-6</td>\n",
       "      <td>200.175.2.130</td>\n",
       "      <td>37217</td>\n",
       "      <td>192.168.3.130</td>\n",
       "      <td>8180</td>\n",
       "      <td>6</td>\n",
       "      <td>10/1/2020 1:39</td>\n",
       "      <td>8782</td>\n",
       "      <td>4</td>\n",
       "      <td>4</td>\n",
       "      <td>...</td>\n",
       "      <td>0</td>\n",
       "      <td>0.0</td>\n",
       "      <td>0.0</td>\n",
       "      <td>0</td>\n",
       "      <td>0</td>\n",
       "      <td>0.0</td>\n",
       "      <td>0.0</td>\n",
       "      <td>0.0</td>\n",
       "      <td>0.0</td>\n",
       "      <td>BFA</td>\n",
       "    </tr>\n",
       "  </tbody>\n",
       "</table>\n",
       "<p>5 rows × 84 columns</p>\n",
       "</div>"
      ],
      "text/plain": [
       "                                    Flow ID         Src IP  Src Port  \\\n",
       "0  192.168.3.130-200.175.2.130-38694-4444-6  192.168.3.130     38694   \n",
       "1  192.168.3.130-200.175.2.130-38693-4444-6  192.168.3.130     38693   \n",
       "2  192.168.3.130-200.175.2.130-3632-33747-6  200.175.2.130     33747   \n",
       "3  192.168.3.130-200.175.2.130-8180-38745-6  200.175.2.130     38745   \n",
       "4  192.168.3.130-200.175.2.130-8180-37217-6  200.175.2.130     37217   \n",
       "\n",
       "          Dst IP  Dst Port  Protocol       Timestamp  Flow Duration  \\\n",
       "0  200.175.2.130      4444         6  10/1/2020 5:02         269709   \n",
       "1  200.175.2.130      4444         6  10/1/2020 5:02         268599   \n",
       "2  192.168.3.130      3632         6  10/1/2020 5:02          22194   \n",
       "3  192.168.3.130      8180         6  10/1/2020 1:39           9556   \n",
       "4  192.168.3.130      8180         6  10/1/2020 1:39           8782   \n",
       "\n",
       "   Tot Fwd Pkts  Tot Bwd Pkts  ...  Fwd Seg Size Min  Active Mean  Active Std  \\\n",
       "0             4             5  ...                 0          0.0         0.0   \n",
       "1             2             3  ...                 0          0.0         0.0   \n",
       "2             5             5  ...                 0          0.0         0.0   \n",
       "3             4             4  ...                 0          0.0         0.0   \n",
       "4             4             4  ...                 0          0.0         0.0   \n",
       "\n",
       "   Active Max  Active Min  Idle Mean  Idle Std  Idle Max  Idle Min  Label  \n",
       "0           0           0        0.0       0.0       0.0       0.0    U2R  \n",
       "1           0           0        0.0       0.0       0.0       0.0    U2R  \n",
       "2           0           0        0.0       0.0       0.0       0.0    U2R  \n",
       "3           0           0        0.0       0.0       0.0       0.0    BFA  \n",
       "4           0           0        0.0       0.0       0.0       0.0    BFA  \n",
       "\n",
       "[5 rows x 84 columns]"
      ]
     },
     "execution_count": 81,
     "metadata": {},
     "output_type": "execute_result"
    }
   ],
   "source": [
    "df=pd.read_csv('metasploitable-2.csv')\n",
    "df.head(5)"
   ]
  },
  {
   "cell_type": "code",
   "execution_count": 82,
   "metadata": {},
   "outputs": [],
   "source": [
    "df.drop(['Flow ID', 'Src IP' ,'Dst IP' ,'Timestamp','Src Port','Dst Port','Protocol'], inplace=True,axis = 1)\n",
    "df.shape\n",
    "df = df.dropna('columns')# drop columns with NaN\n",
    "pmap = {'Normal':0,'Probe ':1,'DDoS':1,'DoS':1,'BFA':1,'Web-Attack':1,'BOTNET':1,'U2R':1,'DDoS':1}\n",
    "df['Label'] = df['Label'].map(pmap)"
   ]
  },
  {
   "cell_type": "code",
   "execution_count": 83,
   "metadata": {},
   "outputs": [
    {
     "data": {
      "text/plain": [
       "1.0    74986\n",
       "Name: Label, dtype: int64"
      ]
     },
     "execution_count": 83,
     "metadata": {},
     "output_type": "execute_result"
    }
   ],
   "source": [
    "df['Label'].value_counts()"
   ]
  },
  {
   "cell_type": "code",
   "execution_count": 84,
   "metadata": {},
   "outputs": [],
   "source": [
    "from sklearn.model_selection import train_test_split\n",
    "from sklearn.preprocessing import MinMaxScaler\n",
    "from sklearn.metrics import confusion_matrix, accuracy_score"
   ]
  },
  {
   "cell_type": "code",
   "execution_count": 85,
   "metadata": {},
   "outputs": [],
   "source": [
    "Y = df[['Label']]\n",
    "X = df.drop(['Label',], axis=1)\n",
    "\n",
    "sc = MinMaxScaler(feature_range = (0, 1))\n",
    "X = sc.fit_transform(X)"
   ]
  },
  {
   "cell_type": "code",
   "execution_count": 86,
   "metadata": {},
   "outputs": [
    {
     "name": "stdout",
     "output_type": "stream",
     "text": [
      "(95720, 76) (41023, 76)\n",
      "(95720, 1) (41023, 1)\n"
     ]
    }
   ],
   "source": [
    "X_train, X_test, Y_train, Y_test = train_test_split(X, Y, test_size=0.3, random_state=42)\n",
    "print(X_train.shape, X_test.shape)\n",
    "print(Y_train.shape, Y_test.shape)"
   ]
  },
  {
   "cell_type": "code",
   "execution_count": 87,
   "metadata": {},
   "outputs": [
    {
     "name": "stdout",
     "output_type": "stream",
     "text": [
      "Training data shape: (95720, 1, 76)\n",
      "Test data shape: (41023, 1, 76)\n"
     ]
    }
   ],
   "source": [
    "X_train = X_train.reshape(X_train.shape[0], 1, X_train.shape[1])\n",
    "print(\"Training data shape:\", X_train.shape)\n",
    "X_test = X_test.reshape(X_test.shape[0], 1, X_test.shape[1])\n",
    "print(\"Test data shape:\", X_test.shape)"
   ]
  },
  {
   "cell_type": "code",
   "execution_count": 88,
   "metadata": {},
   "outputs": [
    {
     "name": "stdout",
     "output_type": "stream",
     "text": [
      "Reconstruction error threshold: 1.0603631027042866\n",
      "Reconstruction error threshold min: 5.1884579940968636e-06\n",
      "Reconstruction error threshold avg: 0.02780898228150494\n"
     ]
    },
    {
     "data": {
      "image/png": "[encoded data removed]",
      "text/plain": [
       "<Figure size 432x288 with 1 Axes>"
      ]
     },
     "metadata": {
      "needs_background": "light"
     },
     "output_type": "display_data"
    }
   ],
   "source": [
    "X_test_pred = new_model.predict(X_test, verbose=0)\n",
    "test_mae_loss = np.mean(np.abs(X_test_pred-X_test), axis=1)\n",
    "\n",
    "plt.hist(test_mae_loss)\n",
    "plt.xlabel('Test MAE loss')\n",
    "plt.ylabel('Number of samples');\n",
    "threshold = np.max(test_mae_loss)\n",
    "min_threshold=np.min(test_mae_loss)\n",
    "avg=np.mean(test_mae_loss)\n",
    "print(f'Reconstruction error threshold: {threshold}')\n",
    "print(f'Reconstruction error threshold min: {min_threshold}')\n",
    "print(f'Reconstruction error threshold avg: {avg}')\n"
   ]
  },
  {
   "cell_type": "code",
   "execution_count": 32,
   "metadata": {},
   "outputs": [],
   "source": [
    "error_df = pd.DataFrame(train_mae_loss)"
   ]
  },
  {
   "cell_type": "code",
   "execution_count": 33,
   "metadata": {},
   "outputs": [
    {
     "data": {
      "text/html": [
       "<div>\n",
       "<style scoped>\n",
       "    .dataframe tbody tr th:only-of-type {\n",
       "        vertical-align: middle;\n",
       "    }\n",
       "\n",
       "    .dataframe tbody tr th {\n",
       "        vertical-align: top;\n",
       "    }\n",
       "\n",
       "    .dataframe thead th {\n",
       "        text-align: right;\n",
       "    }\n",
       "</style>\n",
       "<table border=\"1\" class=\"dataframe\">\n",
       "  <thead>\n",
       "    <tr style=\"text-align: right;\">\n",
       "      <th></th>\n",
       "      <th>0</th>\n",
       "      <th>1</th>\n",
       "      <th>2</th>\n",
       "      <th>3</th>\n",
       "      <th>4</th>\n",
       "      <th>5</th>\n",
       "      <th>6</th>\n",
       "      <th>7</th>\n",
       "      <th>8</th>\n",
       "      <th>9</th>\n",
       "      <th>...</th>\n",
       "      <th>66</th>\n",
       "      <th>67</th>\n",
       "      <th>68</th>\n",
       "      <th>69</th>\n",
       "      <th>70</th>\n",
       "      <th>71</th>\n",
       "      <th>72</th>\n",
       "      <th>73</th>\n",
       "      <th>74</th>\n",
       "      <th>75</th>\n",
       "    </tr>\n",
       "  </thead>\n",
       "  <tbody>\n",
       "    <tr>\n",
       "      <th>0</th>\n",
       "      <td>0.013556</td>\n",
       "      <td>0.000153</td>\n",
       "      <td>0.000240</td>\n",
       "      <td>0.000117</td>\n",
       "      <td>0.000323</td>\n",
       "      <td>0.003209</td>\n",
       "      <td>0.008528</td>\n",
       "      <td>0.006416</td>\n",
       "      <td>0.002057</td>\n",
       "      <td>0.007151</td>\n",
       "      <td>...</td>\n",
       "      <td>0.000228</td>\n",
       "      <td>0.000166</td>\n",
       "      <td>0.000867</td>\n",
       "      <td>0.000729</td>\n",
       "      <td>0.001694</td>\n",
       "      <td>0.000505</td>\n",
       "      <td>0.000977</td>\n",
       "      <td>0.003105</td>\n",
       "      <td>0.001593</td>\n",
       "      <td>0.001930</td>\n",
       "    </tr>\n",
       "    <tr>\n",
       "      <th>1</th>\n",
       "      <td>0.006448</td>\n",
       "      <td>0.002147</td>\n",
       "      <td>0.002298</td>\n",
       "      <td>0.000151</td>\n",
       "      <td>0.002084</td>\n",
       "      <td>0.000850</td>\n",
       "      <td>0.001495</td>\n",
       "      <td>0.000722</td>\n",
       "      <td>0.001659</td>\n",
       "      <td>0.006699</td>\n",
       "      <td>...</td>\n",
       "      <td>0.000315</td>\n",
       "      <td>0.000985</td>\n",
       "      <td>0.005543</td>\n",
       "      <td>0.002199</td>\n",
       "      <td>0.001912</td>\n",
       "      <td>0.003393</td>\n",
       "      <td>0.004560</td>\n",
       "      <td>0.002028</td>\n",
       "      <td>0.008076</td>\n",
       "      <td>0.004081</td>\n",
       "    </tr>\n",
       "    <tr>\n",
       "      <th>2</th>\n",
       "      <td>0.095042</td>\n",
       "      <td>0.000301</td>\n",
       "      <td>0.000256</td>\n",
       "      <td>0.000793</td>\n",
       "      <td>0.000234</td>\n",
       "      <td>0.002711</td>\n",
       "      <td>0.010025</td>\n",
       "      <td>0.009925</td>\n",
       "      <td>0.003491</td>\n",
       "      <td>0.007043</td>\n",
       "      <td>...</td>\n",
       "      <td>0.001850</td>\n",
       "      <td>0.000513</td>\n",
       "      <td>0.007718</td>\n",
       "      <td>0.001775</td>\n",
       "      <td>0.009938</td>\n",
       "      <td>0.006974</td>\n",
       "      <td>0.034227</td>\n",
       "      <td>0.009349</td>\n",
       "      <td>0.042402</td>\n",
       "      <td>0.031944</td>\n",
       "    </tr>\n",
       "    <tr>\n",
       "      <th>3</th>\n",
       "      <td>0.089064</td>\n",
       "      <td>0.000480</td>\n",
       "      <td>0.000170</td>\n",
       "      <td>0.000709</td>\n",
       "      <td>0.000175</td>\n",
       "      <td>0.004053</td>\n",
       "      <td>0.009143</td>\n",
       "      <td>0.006459</td>\n",
       "      <td>0.004429</td>\n",
       "      <td>0.009313</td>\n",
       "      <td>...</td>\n",
       "      <td>0.001813</td>\n",
       "      <td>0.000470</td>\n",
       "      <td>0.006514</td>\n",
       "      <td>0.001455</td>\n",
       "      <td>0.008285</td>\n",
       "      <td>0.006166</td>\n",
       "      <td>0.032503</td>\n",
       "      <td>0.008691</td>\n",
       "      <td>0.040121</td>\n",
       "      <td>0.030622</td>\n",
       "    </tr>\n",
       "    <tr>\n",
       "      <th>4</th>\n",
       "      <td>0.004192</td>\n",
       "      <td>0.001034</td>\n",
       "      <td>0.000959</td>\n",
       "      <td>0.000158</td>\n",
       "      <td>0.000406</td>\n",
       "      <td>0.000419</td>\n",
       "      <td>0.001013</td>\n",
       "      <td>0.000245</td>\n",
       "      <td>0.000637</td>\n",
       "      <td>0.000507</td>\n",
       "      <td>...</td>\n",
       "      <td>0.000571</td>\n",
       "      <td>0.000305</td>\n",
       "      <td>0.001886</td>\n",
       "      <td>0.002599</td>\n",
       "      <td>0.002818</td>\n",
       "      <td>0.000471</td>\n",
       "      <td>0.002749</td>\n",
       "      <td>0.001134</td>\n",
       "      <td>0.001506</td>\n",
       "      <td>0.003100</td>\n",
       "    </tr>\n",
       "  </tbody>\n",
       "</table>\n",
       "<p>5 rows × 76 columns</p>\n",
       "</div>"
      ],
      "text/plain": [
       "         0         1         2         3         4         5         6   \\\n",
       "0  0.013556  0.000153  0.000240  0.000117  0.000323  0.003209  0.008528   \n",
       "1  0.006448  0.002147  0.002298  0.000151  0.002084  0.000850  0.001495   \n",
       "2  0.095042  0.000301  0.000256  0.000793  0.000234  0.002711  0.010025   \n",
       "3  0.089064  0.000480  0.000170  0.000709  0.000175  0.004053  0.009143   \n",
       "4  0.004192  0.001034  0.000959  0.000158  0.000406  0.000419  0.001013   \n",
       "\n",
       "         7         8         9   ...        66        67        68        69  \\\n",
       "0  0.006416  0.002057  0.007151  ...  0.000228  0.000166  0.000867  0.000729   \n",
       "1  0.000722  0.001659  0.006699  ...  0.000315  0.000985  0.005543  0.002199   \n",
       "2  0.009925  0.003491  0.007043  ...  0.001850  0.000513  0.007718  0.001775   \n",
       "3  0.006459  0.004429  0.009313  ...  0.001813  0.000470  0.006514  0.001455   \n",
       "4  0.000245  0.000637  0.000507  ...  0.000571  0.000305  0.001886  0.002599   \n",
       "\n",
       "         70        71        72        73        74        75  \n",
       "0  0.001694  0.000505  0.000977  0.003105  0.001593  0.001930  \n",
       "1  0.001912  0.003393  0.004560  0.002028  0.008076  0.004081  \n",
       "2  0.009938  0.006974  0.034227  0.009349  0.042402  0.031944  \n",
       "3  0.008285  0.006166  0.032503  0.008691  0.040121  0.030622  \n",
       "4  0.002818  0.000471  0.002749  0.001134  0.001506  0.003100  \n",
       "\n",
       "[5 rows x 76 columns]"
      ]
     },
     "execution_count": 33,
     "metadata": {},
     "output_type": "execute_result"
    }
   ],
   "source": [
    "error_df.head()"
   ]
  },
  {
   "cell_type": "code",
   "execution_count": 34,
   "metadata": {},
   "outputs": [
    {
     "name": "stdout",
     "output_type": "stream",
     "text": [
      "        Label\n",
      "69892     1.0\n",
      "166301    0.0\n",
      "260849    1.0\n",
      "306912    1.0\n",
      "145052    0.0\n",
      "...       ...\n",
      "153469    0.0\n",
      "119098    NaN\n",
      "208179    NaN\n",
      "282420    1.0\n",
      "77683     NaN\n",
      "\n",
      "[103167 rows x 1 columns]\n"
     ]
    }
   ],
   "source": [
    "print(Y_test)"
   ]
  },
  {
   "cell_type": "code",
   "execution_count": 35,
   "metadata": {},
   "outputs": [],
   "source": [
    "error_df['True_Class']= Y_test"
   ]
  },
  {
   "cell_type": "code",
   "execution_count": 36,
   "metadata": {},
   "outputs": [
    {
     "data": {
      "text/html": [
       "<div>\n",
       "<style scoped>\n",
       "    .dataframe tbody tr th:only-of-type {\n",
       "        vertical-align: middle;\n",
       "    }\n",
       "\n",
       "    .dataframe tbody tr th {\n",
       "        vertical-align: top;\n",
       "    }\n",
       "\n",
       "    .dataframe thead th {\n",
       "        text-align: right;\n",
       "    }\n",
       "</style>\n",
       "<table border=\"1\" class=\"dataframe\">\n",
       "  <thead>\n",
       "    <tr style=\"text-align: right;\">\n",
       "      <th></th>\n",
       "      <th>0</th>\n",
       "      <th>1</th>\n",
       "      <th>2</th>\n",
       "      <th>3</th>\n",
       "      <th>4</th>\n",
       "      <th>5</th>\n",
       "      <th>6</th>\n",
       "      <th>7</th>\n",
       "      <th>8</th>\n",
       "      <th>9</th>\n",
       "      <th>...</th>\n",
       "      <th>67</th>\n",
       "      <th>68</th>\n",
       "      <th>69</th>\n",
       "      <th>70</th>\n",
       "      <th>71</th>\n",
       "      <th>72</th>\n",
       "      <th>73</th>\n",
       "      <th>74</th>\n",
       "      <th>75</th>\n",
       "      <th>True_Class</th>\n",
       "    </tr>\n",
       "  </thead>\n",
       "  <tbody>\n",
       "    <tr>\n",
       "      <th>0</th>\n",
       "      <td>0.013556</td>\n",
       "      <td>0.000153</td>\n",
       "      <td>0.000240</td>\n",
       "      <td>0.000117</td>\n",
       "      <td>0.000323</td>\n",
       "      <td>0.003209</td>\n",
       "      <td>0.008528</td>\n",
       "      <td>0.006416</td>\n",
       "      <td>0.002057</td>\n",
       "      <td>0.007151</td>\n",
       "      <td>...</td>\n",
       "      <td>0.000166</td>\n",
       "      <td>0.000867</td>\n",
       "      <td>0.000729</td>\n",
       "      <td>0.001694</td>\n",
       "      <td>0.000505</td>\n",
       "      <td>0.000977</td>\n",
       "      <td>0.003105</td>\n",
       "      <td>0.001593</td>\n",
       "      <td>0.001930</td>\n",
       "      <td>1.0</td>\n",
       "    </tr>\n",
       "    <tr>\n",
       "      <th>1</th>\n",
       "      <td>0.006448</td>\n",
       "      <td>0.002147</td>\n",
       "      <td>0.002298</td>\n",
       "      <td>0.000151</td>\n",
       "      <td>0.002084</td>\n",
       "      <td>0.000850</td>\n",
       "      <td>0.001495</td>\n",
       "      <td>0.000722</td>\n",
       "      <td>0.001659</td>\n",
       "      <td>0.006699</td>\n",
       "      <td>...</td>\n",
       "      <td>0.000985</td>\n",
       "      <td>0.005543</td>\n",
       "      <td>0.002199</td>\n",
       "      <td>0.001912</td>\n",
       "      <td>0.003393</td>\n",
       "      <td>0.004560</td>\n",
       "      <td>0.002028</td>\n",
       "      <td>0.008076</td>\n",
       "      <td>0.004081</td>\n",
       "      <td>NaN</td>\n",
       "    </tr>\n",
       "    <tr>\n",
       "      <th>2</th>\n",
       "      <td>0.095042</td>\n",
       "      <td>0.000301</td>\n",
       "      <td>0.000256</td>\n",
       "      <td>0.000793</td>\n",
       "      <td>0.000234</td>\n",
       "      <td>0.002711</td>\n",
       "      <td>0.010025</td>\n",
       "      <td>0.009925</td>\n",
       "      <td>0.003491</td>\n",
       "      <td>0.007043</td>\n",
       "      <td>...</td>\n",
       "      <td>0.000513</td>\n",
       "      <td>0.007718</td>\n",
       "      <td>0.001775</td>\n",
       "      <td>0.009938</td>\n",
       "      <td>0.006974</td>\n",
       "      <td>0.034227</td>\n",
       "      <td>0.009349</td>\n",
       "      <td>0.042402</td>\n",
       "      <td>0.031944</td>\n",
       "      <td>1.0</td>\n",
       "    </tr>\n",
       "    <tr>\n",
       "      <th>3</th>\n",
       "      <td>0.089064</td>\n",
       "      <td>0.000480</td>\n",
       "      <td>0.000170</td>\n",
       "      <td>0.000709</td>\n",
       "      <td>0.000175</td>\n",
       "      <td>0.004053</td>\n",
       "      <td>0.009143</td>\n",
       "      <td>0.006459</td>\n",
       "      <td>0.004429</td>\n",
       "      <td>0.009313</td>\n",
       "      <td>...</td>\n",
       "      <td>0.000470</td>\n",
       "      <td>0.006514</td>\n",
       "      <td>0.001455</td>\n",
       "      <td>0.008285</td>\n",
       "      <td>0.006166</td>\n",
       "      <td>0.032503</td>\n",
       "      <td>0.008691</td>\n",
       "      <td>0.040121</td>\n",
       "      <td>0.030622</td>\n",
       "      <td>NaN</td>\n",
       "    </tr>\n",
       "    <tr>\n",
       "      <th>4</th>\n",
       "      <td>0.004192</td>\n",
       "      <td>0.001034</td>\n",
       "      <td>0.000959</td>\n",
       "      <td>0.000158</td>\n",
       "      <td>0.000406</td>\n",
       "      <td>0.000419</td>\n",
       "      <td>0.001013</td>\n",
       "      <td>0.000245</td>\n",
       "      <td>0.000637</td>\n",
       "      <td>0.000507</td>\n",
       "      <td>...</td>\n",
       "      <td>0.000305</td>\n",
       "      <td>0.001886</td>\n",
       "      <td>0.002599</td>\n",
       "      <td>0.002818</td>\n",
       "      <td>0.000471</td>\n",
       "      <td>0.002749</td>\n",
       "      <td>0.001134</td>\n",
       "      <td>0.001506</td>\n",
       "      <td>0.003100</td>\n",
       "      <td>NaN</td>\n",
       "    </tr>\n",
       "  </tbody>\n",
       "</table>\n",
       "<p>5 rows × 77 columns</p>\n",
       "</div>"
      ],
      "text/plain": [
       "          0         1         2         3         4         5         6  \\\n",
       "0  0.013556  0.000153  0.000240  0.000117  0.000323  0.003209  0.008528   \n",
       "1  0.006448  0.002147  0.002298  0.000151  0.002084  0.000850  0.001495   \n",
       "2  0.095042  0.000301  0.000256  0.000793  0.000234  0.002711  0.010025   \n",
       "3  0.089064  0.000480  0.000170  0.000709  0.000175  0.004053  0.009143   \n",
       "4  0.004192  0.001034  0.000959  0.000158  0.000406  0.000419  0.001013   \n",
       "\n",
       "          7         8         9  ...        67        68        69        70  \\\n",
       "0  0.006416  0.002057  0.007151  ...  0.000166  0.000867  0.000729  0.001694   \n",
       "1  0.000722  0.001659  0.006699  ...  0.000985  0.005543  0.002199  0.001912   \n",
       "2  0.009925  0.003491  0.007043  ...  0.000513  0.007718  0.001775  0.009938   \n",
       "3  0.006459  0.004429  0.009313  ...  0.000470  0.006514  0.001455  0.008285   \n",
       "4  0.000245  0.000637  0.000507  ...  0.000305  0.001886  0.002599  0.002818   \n",
       "\n",
       "         71        72        73        74        75  True_Class  \n",
       "0  0.000505  0.000977  0.003105  0.001593  0.001930         1.0  \n",
       "1  0.003393  0.004560  0.002028  0.008076  0.004081         NaN  \n",
       "2  0.006974  0.034227  0.009349  0.042402  0.031944         1.0  \n",
       "3  0.006166  0.032503  0.008691  0.040121  0.030622         NaN  \n",
       "4  0.000471  0.002749  0.001134  0.001506  0.003100         NaN  \n",
       "\n",
       "[5 rows x 77 columns]"
      ]
     },
     "execution_count": 36,
     "metadata": {},
     "output_type": "execute_result"
    }
   ],
   "source": [
    "error_df.head()"
   ]
  },
  {
   "cell_type": "code",
   "execution_count": 37,
   "metadata": {},
   "outputs": [],
   "source": [
    "error_df = error_df.dropna('columns')"
   ]
  },
  {
   "cell_type": "code",
   "execution_count": 70,
   "metadata": {},
   "outputs": [],
   "source": [
    "\n",
    "# precision_rt, recall_rt, threshold_rt = precision_recall_curve(error_df.True_class, error_df.Reconstruction_error)\n",
    "# plt.plot(threshold_rt, precision_rt[1:], label=\"Precision\",linewidth=5)\n",
    "# plt.plot(threshold_rt, recall_rt[1:], label=\"Recall\",linewidth=5)\n",
    "# plt.title('Precision and recall for different threshold values')\n",
    "# plt.xlabel('Threshold')\n",
    "# plt.ylabel('Precision/Recall')\n",
    "# plt.legend()\n",
    "# plt.show()"
   ]
  },
  {
   "cell_type": "code",
   "execution_count": 42,
   "metadata": {},
   "outputs": [],
   "source": [
    "error_df = pd.DataFrame({'Reconstruction_error': [train_mae_loss],\n",
    "                        'True_class': [Y_test]})"
   ]
  },
  {
   "cell_type": "code",
   "execution_count": 45,
   "metadata": {},
   "outputs": [],
   "source": [
    "from sklearn.preprocessing import StandardScaler\n",
    "from sklearn.model_selection import train_test_split\n",
    "from sklearn.metrics import confusion_matrix, precision_recall_curve\n",
    "from sklearn.metrics import recall_score, classification_report, auc, roc_curve\n",
    "from sklearn.metrics import precision_recall_fscore_support, f1_score\n"
   ]
  },
  {
   "cell_type": "code",
   "execution_count": null,
   "metadata": {},
   "outputs": [],
   "source": []
  }
 ],
 "metadata": {
  "kernelspec": {
   "display_name": "Python 3",
   "language": "python",
   "name": "python3"
  },
  "language_info": {
   "codemirror_mode": {
    "name": "ipython",
    "version": 3
   },
   "file_extension": ".py",
   "mimetype": "text/x-python",
   "name": "python",
   "nbconvert_exporter": "python",
   "pygments_lexer": "ipython3",
   "version": "3.8.5"
  }
 },
 "nbformat": 4,
 "nbformat_minor": 4
}
