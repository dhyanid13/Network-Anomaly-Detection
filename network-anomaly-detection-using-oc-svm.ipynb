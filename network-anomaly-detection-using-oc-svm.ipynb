{
 "cells": [
  {
   "cell_type": "code",
   "execution_count": 1,
   "id": "b41dd1d7",
   "metadata": {
    "_cell_guid": "b1076dfc-b9ad-4769-8c92-a6c4dae69d19",
    "_uuid": "8f2839f25d086af736a60e9eeb907d3b93b6e0e5",
    "execution": {
     "iopub.execute_input": "2021-12-02T20:16:33.343016Z",
     "iopub.status.busy": "2021-12-02T20:16:33.341997Z",
     "iopub.status.idle": "2021-12-02T20:16:33.350995Z",
     "shell.execute_reply": "2021-12-02T20:16:33.350334Z",
     "shell.execute_reply.started": "2021-12-02T18:56:29.635116Z"
    },
    "papermill": {
     "duration": 0.03574,
     "end_time": "2021-12-02T20:16:33.351159",
     "exception": false,
     "start_time": "2021-12-02T20:16:33.315419",
     "status": "completed"
    },
    "tags": []
   },
   "outputs": [],
   "source": [
    "import numpy as np # linear algebra\n",
    "import pandas as pd # data processing, CSV file I/O (e.g. pd.read_csv)\n",
    "import os\n"
   ]
  },
  {
   "cell_type": "markdown",
   "id": "1b065fd4",
   "metadata": {
    "papermill": {
     "duration": 0.021664,
     "end_time": "2021-12-02T20:16:33.394868",
     "exception": false,
     "start_time": "2021-12-02T20:16:33.373204",
     "status": "completed"
    },
    "tags": []
   },
   "source": [
    "# Reading Datasets"
   ]
  },
  {
   "cell_type": "markdown",
   "id": "52eec9cf",
   "metadata": {
    "papermill": {
     "duration": 0.021225,
     "end_time": "2021-12-02T20:16:33.439004",
     "exception": false,
     "start_time": "2021-12-02T20:16:33.417779",
     "status": "completed"
    },
    "tags": []
   },
   "source": [
    "One class SVM is trained only on normal dataset which will identify the boundraies"
   ]
  },
  {
   "cell_type": "code",
   "execution_count": 2,
   "id": "c6e93d17",
   "metadata": {
    "execution": {
     "iopub.execute_input": "2021-12-02T20:16:33.486790Z",
     "iopub.status.busy": "2021-12-02T20:16:33.486257Z",
     "iopub.status.idle": "2021-12-02T20:16:34.566099Z",
     "shell.execute_reply": "2021-12-02T20:16:34.566556Z",
     "shell.execute_reply.started": "2021-12-02T18:56:29.647265Z"
    },
    "papermill": {
     "duration": 1.106198,
     "end_time": "2021-12-02T20:16:34.566744",
     "exception": false,
     "start_time": "2021-12-02T20:16:33.460546",
     "status": "completed"
    },
    "tags": []
   },
   "outputs": [
    {
     "data": {
      "text/html": [
       "<div>\n",
       "<style scoped>\n",
       "    .dataframe tbody tr th:only-of-type {\n",
       "        vertical-align: middle;\n",
       "    }\n",
       "\n",
       "    .dataframe tbody tr th {\n",
       "        vertical-align: top;\n",
       "    }\n",
       "\n",
       "    .dataframe thead th {\n",
       "        text-align: right;\n",
       "    }\n",
       "</style>\n",
       "<table border=\"1\" class=\"dataframe\">\n",
       "  <thead>\n",
       "    <tr style=\"text-align: right;\">\n",
       "      <th></th>\n",
       "      <th>Flow ID</th>\n",
       "      <th>Src IP</th>\n",
       "      <th>Src Port</th>\n",
       "      <th>Dst IP</th>\n",
       "      <th>Dst Port</th>\n",
       "      <th>Protocol</th>\n",
       "      <th>Timestamp</th>\n",
       "      <th>Flow Duration</th>\n",
       "      <th>Tot Fwd Pkts</th>\n",
       "      <th>Tot Bwd Pkts</th>\n",
       "      <th>...</th>\n",
       "      <th>Fwd Seg Size Min</th>\n",
       "      <th>Active Mean</th>\n",
       "      <th>Active Std</th>\n",
       "      <th>Active Max</th>\n",
       "      <th>Active Min</th>\n",
       "      <th>Idle Mean</th>\n",
       "      <th>Idle Std</th>\n",
       "      <th>Idle Max</th>\n",
       "      <th>Idle Min</th>\n",
       "      <th>Label</th>\n",
       "    </tr>\n",
       "  </thead>\n",
       "  <tbody>\n",
       "    <tr>\n",
       "      <th>0</th>\n",
       "      <td>185.127.17.56-192.168.20.133-443-53648-6</td>\n",
       "      <td>185.127.17.56</td>\n",
       "      <td>443</td>\n",
       "      <td>192.168.20.133</td>\n",
       "      <td>53648</td>\n",
       "      <td>6</td>\n",
       "      <td>5/2/2020 13:58</td>\n",
       "      <td>245230</td>\n",
       "      <td>44</td>\n",
       "      <td>40</td>\n",
       "      <td>...</td>\n",
       "      <td>0</td>\n",
       "      <td>0.0</td>\n",
       "      <td>0.0</td>\n",
       "      <td>0.0</td>\n",
       "      <td>0.0</td>\n",
       "      <td>0.0</td>\n",
       "      <td>0.0</td>\n",
       "      <td>0.0</td>\n",
       "      <td>0.0</td>\n",
       "      <td>Normal</td>\n",
       "    </tr>\n",
       "    <tr>\n",
       "      <th>1</th>\n",
       "      <td>185.127.17.56-192.168.20.133-443-53650-6</td>\n",
       "      <td>192.168.20.133</td>\n",
       "      <td>53650</td>\n",
       "      <td>185.127.17.56</td>\n",
       "      <td>443</td>\n",
       "      <td>6</td>\n",
       "      <td>5/2/2020 13:58</td>\n",
       "      <td>1605449</td>\n",
       "      <td>107</td>\n",
       "      <td>149</td>\n",
       "      <td>...</td>\n",
       "      <td>0</td>\n",
       "      <td>0.0</td>\n",
       "      <td>0.0</td>\n",
       "      <td>0.0</td>\n",
       "      <td>0.0</td>\n",
       "      <td>0.0</td>\n",
       "      <td>0.0</td>\n",
       "      <td>0.0</td>\n",
       "      <td>0.0</td>\n",
       "      <td>Normal</td>\n",
       "    </tr>\n",
       "    <tr>\n",
       "      <th>2</th>\n",
       "      <td>192.168.20.133-192.168.20.2-35108-53-6</td>\n",
       "      <td>192.168.20.133</td>\n",
       "      <td>35108</td>\n",
       "      <td>192.168.20.2</td>\n",
       "      <td>53</td>\n",
       "      <td>6</td>\n",
       "      <td>5/2/2020 13:58</td>\n",
       "      <td>53078</td>\n",
       "      <td>5</td>\n",
       "      <td>5</td>\n",
       "      <td>...</td>\n",
       "      <td>0</td>\n",
       "      <td>0.0</td>\n",
       "      <td>0.0</td>\n",
       "      <td>0.0</td>\n",
       "      <td>0.0</td>\n",
       "      <td>0.0</td>\n",
       "      <td>0.0</td>\n",
       "      <td>0.0</td>\n",
       "      <td>0.0</td>\n",
       "      <td>Normal</td>\n",
       "    </tr>\n",
       "    <tr>\n",
       "      <th>3</th>\n",
       "      <td>192.168.20.133-192.168.20.2-35108-53-6</td>\n",
       "      <td>192.168.20.2</td>\n",
       "      <td>53</td>\n",
       "      <td>192.168.20.133</td>\n",
       "      <td>35108</td>\n",
       "      <td>6</td>\n",
       "      <td>5/2/2020 13:58</td>\n",
       "      <td>6975</td>\n",
       "      <td>1</td>\n",
       "      <td>1</td>\n",
       "      <td>...</td>\n",
       "      <td>0</td>\n",
       "      <td>0.0</td>\n",
       "      <td>0.0</td>\n",
       "      <td>0.0</td>\n",
       "      <td>0.0</td>\n",
       "      <td>0.0</td>\n",
       "      <td>0.0</td>\n",
       "      <td>0.0</td>\n",
       "      <td>0.0</td>\n",
       "      <td>Normal</td>\n",
       "    </tr>\n",
       "    <tr>\n",
       "      <th>4</th>\n",
       "      <td>154.59.122.74-192.168.20.133-443-60900-6</td>\n",
       "      <td>192.168.20.133</td>\n",
       "      <td>60900</td>\n",
       "      <td>154.59.122.74</td>\n",
       "      <td>443</td>\n",
       "      <td>6</td>\n",
       "      <td>5/2/2020 13:58</td>\n",
       "      <td>190141</td>\n",
       "      <td>13</td>\n",
       "      <td>16</td>\n",
       "      <td>...</td>\n",
       "      <td>0</td>\n",
       "      <td>0.0</td>\n",
       "      <td>0.0</td>\n",
       "      <td>0.0</td>\n",
       "      <td>0.0</td>\n",
       "      <td>0.0</td>\n",
       "      <td>0.0</td>\n",
       "      <td>0.0</td>\n",
       "      <td>0.0</td>\n",
       "      <td>Normal</td>\n",
       "    </tr>\n",
       "  </tbody>\n",
       "</table>\n",
       "<p>5 rows × 84 columns</p>\n",
       "</div>"
      ],
      "text/plain": [
       "                                    Flow ID          Src IP  Src Port  \\\n",
       "0  185.127.17.56-192.168.20.133-443-53648-6   185.127.17.56       443   \n",
       "1  185.127.17.56-192.168.20.133-443-53650-6  192.168.20.133     53650   \n",
       "2    192.168.20.133-192.168.20.2-35108-53-6  192.168.20.133     35108   \n",
       "3    192.168.20.133-192.168.20.2-35108-53-6    192.168.20.2        53   \n",
       "4  154.59.122.74-192.168.20.133-443-60900-6  192.168.20.133     60900   \n",
       "\n",
       "           Dst IP  Dst Port  Protocol       Timestamp  Flow Duration  \\\n",
       "0  192.168.20.133     53648         6  5/2/2020 13:58         245230   \n",
       "1   185.127.17.56       443         6  5/2/2020 13:58        1605449   \n",
       "2    192.168.20.2        53         6  5/2/2020 13:58          53078   \n",
       "3  192.168.20.133     35108         6  5/2/2020 13:58           6975   \n",
       "4   154.59.122.74       443         6  5/2/2020 13:58         190141   \n",
       "\n",
       "   Tot Fwd Pkts  Tot Bwd Pkts  ...  Fwd Seg Size Min  Active Mean  Active Std  \\\n",
       "0            44            40  ...                 0          0.0         0.0   \n",
       "1           107           149  ...                 0          0.0         0.0   \n",
       "2             5             5  ...                 0          0.0         0.0   \n",
       "3             1             1  ...                 0          0.0         0.0   \n",
       "4            13            16  ...                 0          0.0         0.0   \n",
       "\n",
       "   Active Max  Active Min  Idle Mean  Idle Std  Idle Max  Idle Min   Label  \n",
       "0         0.0         0.0        0.0       0.0       0.0       0.0  Normal  \n",
       "1         0.0         0.0        0.0       0.0       0.0       0.0  Normal  \n",
       "2         0.0         0.0        0.0       0.0       0.0       0.0  Normal  \n",
       "3         0.0         0.0        0.0       0.0       0.0       0.0  Normal  \n",
       "4         0.0         0.0        0.0       0.0       0.0       0.0  Normal  \n",
       "\n",
       "[5 rows x 84 columns]"
      ]
     },
     "execution_count": 2,
     "metadata": {},
     "output_type": "execute_result"
    }
   ],
   "source": [
    "#Reading normal dataset\n",
    "df=pd.read_csv('../input/dataset/InSDN_DatasetCSV/Normal_data.csv')\n",
    "df.head(5)"
   ]
  },
  {
   "cell_type": "code",
   "execution_count": 3,
   "id": "e62d6700",
   "metadata": {
    "execution": {
     "iopub.execute_input": "2021-12-02T20:16:34.631678Z",
     "iopub.status.busy": "2021-12-02T20:16:34.630617Z",
     "iopub.status.idle": "2021-12-02T20:16:36.263838Z",
     "shell.execute_reply": "2021-12-02T20:16:36.264757Z",
     "shell.execute_reply.started": "2021-12-02T18:56:30.945571Z"
    },
    "papermill": {
     "duration": 1.671752,
     "end_time": "2021-12-02T20:16:36.264932",
     "exception": false,
     "start_time": "2021-12-02T20:16:34.593180",
     "status": "completed"
    },
    "tags": []
   },
   "outputs": [
    {
     "data": {
      "text/html": [
       "<div>\n",
       "<style scoped>\n",
       "    .dataframe tbody tr th:only-of-type {\n",
       "        vertical-align: middle;\n",
       "    }\n",
       "\n",
       "    .dataframe tbody tr th {\n",
       "        vertical-align: top;\n",
       "    }\n",
       "\n",
       "    .dataframe thead th {\n",
       "        text-align: right;\n",
       "    }\n",
       "</style>\n",
       "<table border=\"1\" class=\"dataframe\">\n",
       "  <thead>\n",
       "    <tr style=\"text-align: right;\">\n",
       "      <th></th>\n",
       "      <th>Flow ID</th>\n",
       "      <th>Src IP</th>\n",
       "      <th>Src Port</th>\n",
       "      <th>Dst IP</th>\n",
       "      <th>Dst Port</th>\n",
       "      <th>Protocol</th>\n",
       "      <th>Timestamp</th>\n",
       "      <th>Flow Duration</th>\n",
       "      <th>Tot Fwd Pkts</th>\n",
       "      <th>Tot Bwd Pkts</th>\n",
       "      <th>...</th>\n",
       "      <th>Fwd Seg Size Min</th>\n",
       "      <th>Active Mean</th>\n",
       "      <th>Active Std</th>\n",
       "      <th>Active Max</th>\n",
       "      <th>Active Min</th>\n",
       "      <th>Idle Mean</th>\n",
       "      <th>Idle Std</th>\n",
       "      <th>Idle Max</th>\n",
       "      <th>Idle Min</th>\n",
       "      <th>Label</th>\n",
       "    </tr>\n",
       "  </thead>\n",
       "  <tbody>\n",
       "    <tr>\n",
       "      <th>0</th>\n",
       "      <td>172.17.0.2-200.175.2.130-80-48856-6</td>\n",
       "      <td>200.175.2.130</td>\n",
       "      <td>48856</td>\n",
       "      <td>172.17.0.2</td>\n",
       "      <td>80</td>\n",
       "      <td>6</td>\n",
       "      <td>12/1/2020 1:14</td>\n",
       "      <td>4045</td>\n",
       "      <td>2</td>\n",
       "      <td>5</td>\n",
       "      <td>...</td>\n",
       "      <td>0</td>\n",
       "      <td>0.0</td>\n",
       "      <td>0.0</td>\n",
       "      <td>0.0</td>\n",
       "      <td>0.0</td>\n",
       "      <td>0.0</td>\n",
       "      <td>0.0</td>\n",
       "      <td>0.0</td>\n",
       "      <td>0.0</td>\n",
       "      <td>BFA</td>\n",
       "    </tr>\n",
       "    <tr>\n",
       "      <th>1</th>\n",
       "      <td>172.17.0.2-200.175.2.130-80-48856-6</td>\n",
       "      <td>200.175.2.130</td>\n",
       "      <td>48856</td>\n",
       "      <td>172.17.0.2</td>\n",
       "      <td>80</td>\n",
       "      <td>6</td>\n",
       "      <td>12/1/2020 1:14</td>\n",
       "      <td>284</td>\n",
       "      <td>1</td>\n",
       "      <td>1</td>\n",
       "      <td>...</td>\n",
       "      <td>0</td>\n",
       "      <td>0.0</td>\n",
       "      <td>0.0</td>\n",
       "      <td>0.0</td>\n",
       "      <td>0.0</td>\n",
       "      <td>0.0</td>\n",
       "      <td>0.0</td>\n",
       "      <td>0.0</td>\n",
       "      <td>0.0</td>\n",
       "      <td>BFA</td>\n",
       "    </tr>\n",
       "    <tr>\n",
       "      <th>2</th>\n",
       "      <td>172.17.0.2-200.175.2.130-80-48858-6</td>\n",
       "      <td>200.175.2.130</td>\n",
       "      <td>48858</td>\n",
       "      <td>172.17.0.2</td>\n",
       "      <td>80</td>\n",
       "      <td>6</td>\n",
       "      <td>12/1/2020 1:14</td>\n",
       "      <td>4302</td>\n",
       "      <td>2</td>\n",
       "      <td>5</td>\n",
       "      <td>...</td>\n",
       "      <td>0</td>\n",
       "      <td>0.0</td>\n",
       "      <td>0.0</td>\n",
       "      <td>0.0</td>\n",
       "      <td>0.0</td>\n",
       "      <td>0.0</td>\n",
       "      <td>0.0</td>\n",
       "      <td>0.0</td>\n",
       "      <td>0.0</td>\n",
       "      <td>BFA</td>\n",
       "    </tr>\n",
       "    <tr>\n",
       "      <th>3</th>\n",
       "      <td>172.17.0.2-200.175.2.130-80-48858-6</td>\n",
       "      <td>200.175.2.130</td>\n",
       "      <td>48858</td>\n",
       "      <td>172.17.0.2</td>\n",
       "      <td>80</td>\n",
       "      <td>6</td>\n",
       "      <td>12/1/2020 1:14</td>\n",
       "      <td>83</td>\n",
       "      <td>1</td>\n",
       "      <td>1</td>\n",
       "      <td>...</td>\n",
       "      <td>0</td>\n",
       "      <td>0.0</td>\n",
       "      <td>0.0</td>\n",
       "      <td>0.0</td>\n",
       "      <td>0.0</td>\n",
       "      <td>0.0</td>\n",
       "      <td>0.0</td>\n",
       "      <td>0.0</td>\n",
       "      <td>0.0</td>\n",
       "      <td>BFA</td>\n",
       "    </tr>\n",
       "    <tr>\n",
       "      <th>4</th>\n",
       "      <td>172.17.0.2-200.175.2.130-80-48860-6</td>\n",
       "      <td>200.175.2.130</td>\n",
       "      <td>48860</td>\n",
       "      <td>172.17.0.2</td>\n",
       "      <td>80</td>\n",
       "      <td>6</td>\n",
       "      <td>12/1/2020 1:14</td>\n",
       "      <td>3760</td>\n",
       "      <td>2</td>\n",
       "      <td>5</td>\n",
       "      <td>...</td>\n",
       "      <td>0</td>\n",
       "      <td>0.0</td>\n",
       "      <td>0.0</td>\n",
       "      <td>0.0</td>\n",
       "      <td>0.0</td>\n",
       "      <td>0.0</td>\n",
       "      <td>0.0</td>\n",
       "      <td>0.0</td>\n",
       "      <td>0.0</td>\n",
       "      <td>BFA</td>\n",
       "    </tr>\n",
       "  </tbody>\n",
       "</table>\n",
       "<p>5 rows × 84 columns</p>\n",
       "</div>"
      ],
      "text/plain": [
       "                               Flow ID         Src IP  Src Port      Dst IP  \\\n",
       "0  172.17.0.2-200.175.2.130-80-48856-6  200.175.2.130     48856  172.17.0.2   \n",
       "1  172.17.0.2-200.175.2.130-80-48856-6  200.175.2.130     48856  172.17.0.2   \n",
       "2  172.17.0.2-200.175.2.130-80-48858-6  200.175.2.130     48858  172.17.0.2   \n",
       "3  172.17.0.2-200.175.2.130-80-48858-6  200.175.2.130     48858  172.17.0.2   \n",
       "4  172.17.0.2-200.175.2.130-80-48860-6  200.175.2.130     48860  172.17.0.2   \n",
       "\n",
       "   Dst Port  Protocol       Timestamp  Flow Duration  Tot Fwd Pkts  \\\n",
       "0        80         6  12/1/2020 1:14           4045             2   \n",
       "1        80         6  12/1/2020 1:14            284             1   \n",
       "2        80         6  12/1/2020 1:14           4302             2   \n",
       "3        80         6  12/1/2020 1:14             83             1   \n",
       "4        80         6  12/1/2020 1:14           3760             2   \n",
       "\n",
       "   Tot Bwd Pkts  ...  Fwd Seg Size Min  Active Mean  Active Std  Active Max  \\\n",
       "0             5  ...                 0          0.0         0.0         0.0   \n",
       "1             1  ...                 0          0.0         0.0         0.0   \n",
       "2             5  ...                 0          0.0         0.0         0.0   \n",
       "3             1  ...                 0          0.0         0.0         0.0   \n",
       "4             5  ...                 0          0.0         0.0         0.0   \n",
       "\n",
       "   Active Min  Idle Mean  Idle Std  Idle Max  Idle Min  Label  \n",
       "0         0.0        0.0       0.0       0.0       0.0    BFA  \n",
       "1         0.0        0.0       0.0       0.0       0.0    BFA  \n",
       "2         0.0        0.0       0.0       0.0       0.0    BFA  \n",
       "3         0.0        0.0       0.0       0.0       0.0    BFA  \n",
       "4         0.0        0.0       0.0       0.0       0.0    BFA  \n",
       "\n",
       "[5 rows x 84 columns]"
      ]
     },
     "execution_count": 3,
     "metadata": {},
     "output_type": "execute_result"
    }
   ],
   "source": [
    "#Reading Anomaly dataset for used for testing purpose\n",
    "df_test=pd.read_csv('../input/dataset/InSDN_DatasetCSV/OVS.csv')\n",
    "df_test.head(5)"
   ]
  },
  {
   "cell_type": "markdown",
   "id": "624b1dd4",
   "metadata": {
    "papermill": {
     "duration": 0.028406,
     "end_time": "2021-12-02T20:16:36.324131",
     "exception": false,
     "start_time": "2021-12-02T20:16:36.295725",
     "status": "completed"
    },
    "tags": []
   },
   "source": [
    "# Data Cleaning"
   ]
  },
  {
   "cell_type": "code",
   "execution_count": 4,
   "id": "9e83d32d",
   "metadata": {
    "execution": {
     "iopub.execute_input": "2021-12-02T20:16:36.382505Z",
     "iopub.status.busy": "2021-12-02T20:16:36.381934Z",
     "iopub.status.idle": "2021-12-02T20:16:36.506656Z",
     "shell.execute_reply": "2021-12-02T20:16:36.507408Z",
     "shell.execute_reply.started": "2021-12-02T18:56:32.906365Z"
    },
    "papermill": {
     "duration": 0.152782,
     "end_time": "2021-12-02T20:16:36.507663",
     "exception": false,
     "start_time": "2021-12-02T20:16:36.354881",
     "status": "completed"
    },
    "tags": []
   },
   "outputs": [
    {
     "name": "stderr",
     "output_type": "stream",
     "text": [
      "/opt/conda/lib/python3.7/site-packages/ipykernel_launcher.py:1: FutureWarning: In a future version of pandas all arguments of DataFrame.dropna will be keyword-only\n",
      "  \"\"\"Entry point for launching an IPython kernel.\n",
      "/opt/conda/lib/python3.7/site-packages/ipykernel_launcher.py:3: FutureWarning: In a future version of pandas all arguments of DataFrame.dropna will be keyword-only\n",
      "  This is separate from the ipykernel package so we can avoid doing imports until\n"
     ]
    }
   ],
   "source": [
    "df = df.dropna('columns')# drop columns with NaN\n",
    "#df = df[[col for col in df if df[col].nunique() > 1]]# keep columns where there are more than 1 unique values\n",
    "df_test=df_test.dropna('columns')"
   ]
  },
  {
   "cell_type": "code",
   "execution_count": 5,
   "id": "efa6a32d",
   "metadata": {
    "execution": {
     "iopub.execute_input": "2021-12-02T20:16:36.563906Z",
     "iopub.status.busy": "2021-12-02T20:16:36.563200Z",
     "iopub.status.idle": "2021-12-02T20:16:36.566562Z",
     "shell.execute_reply": "2021-12-02T20:16:36.567101Z",
     "shell.execute_reply.started": "2021-12-02T18:56:33.105590Z"
    },
    "papermill": {
     "duration": 0.034339,
     "end_time": "2021-12-02T20:16:36.567288",
     "exception": false,
     "start_time": "2021-12-02T20:16:36.532949",
     "status": "completed"
    },
    "tags": []
   },
   "outputs": [
    {
     "name": "stdout",
     "output_type": "stream",
     "text": [
      "Flow ID       object\n",
      "Src IP        object\n",
      "Src Port       int64\n",
      "Dst IP        object\n",
      "Dst Port       int64\n",
      "              ...   \n",
      "Idle Mean    float64\n",
      "Idle Std     float64\n",
      "Idle Max     float64\n",
      "Idle Min     float64\n",
      "Label         object\n",
      "Length: 84, dtype: object\n",
      "Index(['Flow ID', 'Src IP', 'Src Port', 'Dst IP', 'Dst Port', 'Protocol',\n",
      "       'Timestamp', 'Flow Duration', 'Tot Fwd Pkts', 'Tot Bwd Pkts',\n",
      "       'TotLen Fwd Pkts', 'TotLen Bwd Pkts', 'Fwd Pkt Len Max',\n",
      "       'Fwd Pkt Len Min', 'Fwd Pkt Len Mean', 'Fwd Pkt Len Std',\n",
      "       'Bwd Pkt Len Max', 'Bwd Pkt Len Min', 'Bwd Pkt Len Mean',\n",
      "       'Bwd Pkt Len Std', 'Flow Byts/s', 'Flow Pkts/s', 'Flow IAT Mean',\n",
      "       'Flow IAT Std', 'Flow IAT Max', 'Flow IAT Min', 'Fwd IAT Tot',\n",
      "       'Fwd IAT Mean', 'Fwd IAT Std', 'Fwd IAT Max', 'Fwd IAT Min',\n",
      "       'Bwd IAT Tot', 'Bwd IAT Mean', 'Bwd IAT Std', 'Bwd IAT Max',\n",
      "       'Bwd IAT Min', 'Fwd PSH Flags', 'Bwd PSH Flags', 'Fwd URG Flags',\n",
      "       'Bwd URG Flags', 'Fwd Header Len', 'Bwd Header Len', 'Fwd Pkts/s',\n",
      "       'Bwd Pkts/s', 'Pkt Len Min', 'Pkt Len Max', 'Pkt Len Mean',\n",
      "       'Pkt Len Std', 'Pkt Len Var', 'FIN Flag Cnt', 'SYN Flag Cnt',\n",
      "       'RST Flag Cnt', 'PSH Flag Cnt', 'ACK Flag Cnt', 'URG Flag Cnt',\n",
      "       'CWE Flag Count', 'ECE Flag Cnt', 'Down/Up Ratio', 'Pkt Size Avg',\n",
      "       'Fwd Seg Size Avg', 'Bwd Seg Size Avg', 'Fwd Byts/b Avg',\n",
      "       'Fwd Pkts/b Avg', 'Fwd Blk Rate Avg', 'Bwd Byts/b Avg',\n",
      "       'Bwd Pkts/b Avg', 'Bwd Blk Rate Avg', 'Subflow Fwd Pkts',\n",
      "       'Subflow Fwd Byts', 'Subflow Bwd Pkts', 'Subflow Bwd Byts',\n",
      "       'Init Fwd Win Byts', 'Init Bwd Win Byts', 'Fwd Act Data Pkts',\n",
      "       'Fwd Seg Size Min', 'Active Mean', 'Active Std', 'Active Max',\n",
      "       'Active Min', 'Idle Mean', 'Idle Std', 'Idle Max', 'Idle Min', 'Label'],\n",
      "      dtype='object')\n"
     ]
    }
   ],
   "source": [
    "print(df.dtypes)\n",
    "print(df.columns)"
   ]
  },
  {
   "cell_type": "code",
   "execution_count": 6,
   "id": "5628a8ef",
   "metadata": {
    "execution": {
     "iopub.execute_input": "2021-12-02T20:16:36.635698Z",
     "iopub.status.busy": "2021-12-02T20:16:36.633119Z",
     "iopub.status.idle": "2021-12-02T20:16:36.640229Z",
     "shell.execute_reply": "2021-12-02T20:16:36.639669Z",
     "shell.execute_reply.started": "2021-12-02T18:56:33.115983Z"
    },
    "papermill": {
     "duration": 0.048855,
     "end_time": "2021-12-02T20:16:36.640406",
     "exception": false,
     "start_time": "2021-12-02T20:16:36.591551",
     "status": "completed"
    },
    "tags": []
   },
   "outputs": [
    {
     "data": {
      "text/plain": [
       "(68424, 77)"
      ]
     },
     "execution_count": 6,
     "metadata": {},
     "output_type": "execute_result"
    }
   ],
   "source": [
    "df.drop(['Flow ID', 'Src IP' ,'Dst IP' ,'Timestamp','Src Port','Dst Port','Protocol'], inplace=True,axis = 1)\n",
    "df.shape\n",
    "#1.  Flow id\n",
    "# 2. Dest Id \n",
    "# 3. Src id \n",
    "# 4. Src port\n",
    "# 5. Dest port \n",
    "# 6. Time stamp \n",
    "# 7. Protocol type"
   ]
  },
  {
   "cell_type": "code",
   "execution_count": 7,
   "id": "0e21c2f0",
   "metadata": {
    "execution": {
     "iopub.execute_input": "2021-12-02T20:16:36.709501Z",
     "iopub.status.busy": "2021-12-02T20:16:36.708808Z",
     "iopub.status.idle": "2021-12-02T20:16:36.733193Z",
     "shell.execute_reply": "2021-12-02T20:16:36.732635Z",
     "shell.execute_reply.started": "2021-12-02T18:56:33.149204Z"
    },
    "papermill": {
     "duration": 0.06877,
     "end_time": "2021-12-02T20:16:36.733335",
     "exception": false,
     "start_time": "2021-12-02T20:16:36.664565",
     "status": "completed"
    },
    "tags": []
   },
   "outputs": [
    {
     "data": {
      "text/plain": [
       "(138722, 77)"
      ]
     },
     "execution_count": 7,
     "metadata": {},
     "output_type": "execute_result"
    }
   ],
   "source": [
    "df_test.drop(['Flow ID', 'Src IP' ,'Dst IP' ,'Timestamp','Src Port','Dst Port','Protocol'], inplace=True,axis = 1)\n",
    "df_test.shape"
   ]
  },
  {
   "cell_type": "code",
   "execution_count": 8,
   "id": "4dea5873",
   "metadata": {
    "execution": {
     "iopub.execute_input": "2021-12-02T20:16:36.807912Z",
     "iopub.status.busy": "2021-12-02T20:16:36.806964Z",
     "iopub.status.idle": "2021-12-02T20:16:36.811051Z",
     "shell.execute_reply": "2021-12-02T20:16:36.810562Z",
     "shell.execute_reply.started": "2021-12-02T18:56:33.207352Z"
    },
    "papermill": {
     "duration": 0.052992,
     "end_time": "2021-12-02T20:16:36.811184",
     "exception": false,
     "start_time": "2021-12-02T20:16:36.758192",
     "status": "completed"
    },
    "tags": []
   },
   "outputs": [
    {
     "data": {
      "text/html": [
       "<div>\n",
       "<style scoped>\n",
       "    .dataframe tbody tr th:only-of-type {\n",
       "        vertical-align: middle;\n",
       "    }\n",
       "\n",
       "    .dataframe tbody tr th {\n",
       "        vertical-align: top;\n",
       "    }\n",
       "\n",
       "    .dataframe thead th {\n",
       "        text-align: right;\n",
       "    }\n",
       "</style>\n",
       "<table border=\"1\" class=\"dataframe\">\n",
       "  <thead>\n",
       "    <tr style=\"text-align: right;\">\n",
       "      <th></th>\n",
       "      <th>Flow Duration</th>\n",
       "      <th>Tot Fwd Pkts</th>\n",
       "      <th>Tot Bwd Pkts</th>\n",
       "      <th>TotLen Fwd Pkts</th>\n",
       "      <th>TotLen Bwd Pkts</th>\n",
       "      <th>Fwd Pkt Len Max</th>\n",
       "      <th>Fwd Pkt Len Min</th>\n",
       "      <th>Fwd Pkt Len Mean</th>\n",
       "      <th>Fwd Pkt Len Std</th>\n",
       "      <th>Bwd Pkt Len Max</th>\n",
       "      <th>...</th>\n",
       "      <th>Fwd Seg Size Min</th>\n",
       "      <th>Active Mean</th>\n",
       "      <th>Active Std</th>\n",
       "      <th>Active Max</th>\n",
       "      <th>Active Min</th>\n",
       "      <th>Idle Mean</th>\n",
       "      <th>Idle Std</th>\n",
       "      <th>Idle Max</th>\n",
       "      <th>Idle Min</th>\n",
       "      <th>Label</th>\n",
       "    </tr>\n",
       "  </thead>\n",
       "  <tbody>\n",
       "    <tr>\n",
       "      <th>0</th>\n",
       "      <td>245230</td>\n",
       "      <td>44</td>\n",
       "      <td>40</td>\n",
       "      <td>124937.0</td>\n",
       "      <td>1071.0</td>\n",
       "      <td>9100</td>\n",
       "      <td>0</td>\n",
       "      <td>2839.477273</td>\n",
       "      <td>1839.508257</td>\n",
       "      <td>517</td>\n",
       "      <td>...</td>\n",
       "      <td>0</td>\n",
       "      <td>0.0</td>\n",
       "      <td>0.0</td>\n",
       "      <td>0.0</td>\n",
       "      <td>0.0</td>\n",
       "      <td>0.0</td>\n",
       "      <td>0.0</td>\n",
       "      <td>0.0</td>\n",
       "      <td>0.0</td>\n",
       "      <td>Normal</td>\n",
       "    </tr>\n",
       "    <tr>\n",
       "      <th>1</th>\n",
       "      <td>1605449</td>\n",
       "      <td>107</td>\n",
       "      <td>149</td>\n",
       "      <td>1071.0</td>\n",
       "      <td>439537.0</td>\n",
       "      <td>517</td>\n",
       "      <td>0</td>\n",
       "      <td>10.009346</td>\n",
       "      <td>67.496680</td>\n",
       "      <td>27300</td>\n",
       "      <td>...</td>\n",
       "      <td>0</td>\n",
       "      <td>0.0</td>\n",
       "      <td>0.0</td>\n",
       "      <td>0.0</td>\n",
       "      <td>0.0</td>\n",
       "      <td>0.0</td>\n",
       "      <td>0.0</td>\n",
       "      <td>0.0</td>\n",
       "      <td>0.0</td>\n",
       "      <td>Normal</td>\n",
       "    </tr>\n",
       "    <tr>\n",
       "      <th>2</th>\n",
       "      <td>53078</td>\n",
       "      <td>5</td>\n",
       "      <td>5</td>\n",
       "      <td>66.0</td>\n",
       "      <td>758.0</td>\n",
       "      <td>66</td>\n",
       "      <td>0</td>\n",
       "      <td>13.200000</td>\n",
       "      <td>29.516097</td>\n",
       "      <td>638</td>\n",
       "      <td>...</td>\n",
       "      <td>0</td>\n",
       "      <td>0.0</td>\n",
       "      <td>0.0</td>\n",
       "      <td>0.0</td>\n",
       "      <td>0.0</td>\n",
       "      <td>0.0</td>\n",
       "      <td>0.0</td>\n",
       "      <td>0.0</td>\n",
       "      <td>0.0</td>\n",
       "      <td>Normal</td>\n",
       "    </tr>\n",
       "    <tr>\n",
       "      <th>3</th>\n",
       "      <td>6975</td>\n",
       "      <td>1</td>\n",
       "      <td>1</td>\n",
       "      <td>0.0</td>\n",
       "      <td>0.0</td>\n",
       "      <td>0</td>\n",
       "      <td>0</td>\n",
       "      <td>0.000000</td>\n",
       "      <td>0.000000</td>\n",
       "      <td>0</td>\n",
       "      <td>...</td>\n",
       "      <td>0</td>\n",
       "      <td>0.0</td>\n",
       "      <td>0.0</td>\n",
       "      <td>0.0</td>\n",
       "      <td>0.0</td>\n",
       "      <td>0.0</td>\n",
       "      <td>0.0</td>\n",
       "      <td>0.0</td>\n",
       "      <td>0.0</td>\n",
       "      <td>Normal</td>\n",
       "    </tr>\n",
       "    <tr>\n",
       "      <th>4</th>\n",
       "      <td>190141</td>\n",
       "      <td>13</td>\n",
       "      <td>16</td>\n",
       "      <td>780.0</td>\n",
       "      <td>11085.0</td>\n",
       "      <td>427</td>\n",
       "      <td>0</td>\n",
       "      <td>60.000000</td>\n",
       "      <td>130.042942</td>\n",
       "      <td>2596</td>\n",
       "      <td>...</td>\n",
       "      <td>0</td>\n",
       "      <td>0.0</td>\n",
       "      <td>0.0</td>\n",
       "      <td>0.0</td>\n",
       "      <td>0.0</td>\n",
       "      <td>0.0</td>\n",
       "      <td>0.0</td>\n",
       "      <td>0.0</td>\n",
       "      <td>0.0</td>\n",
       "      <td>Normal</td>\n",
       "    </tr>\n",
       "  </tbody>\n",
       "</table>\n",
       "<p>5 rows × 77 columns</p>\n",
       "</div>"
      ],
      "text/plain": [
       "   Flow Duration  Tot Fwd Pkts  Tot Bwd Pkts  TotLen Fwd Pkts  \\\n",
       "0         245230            44            40         124937.0   \n",
       "1        1605449           107           149           1071.0   \n",
       "2          53078             5             5             66.0   \n",
       "3           6975             1             1              0.0   \n",
       "4         190141            13            16            780.0   \n",
       "\n",
       "   TotLen Bwd Pkts  Fwd Pkt Len Max  Fwd Pkt Len Min  Fwd Pkt Len Mean  \\\n",
       "0           1071.0             9100                0       2839.477273   \n",
       "1         439537.0              517                0         10.009346   \n",
       "2            758.0               66                0         13.200000   \n",
       "3              0.0                0                0          0.000000   \n",
       "4          11085.0              427                0         60.000000   \n",
       "\n",
       "   Fwd Pkt Len Std  Bwd Pkt Len Max  ...  Fwd Seg Size Min  Active Mean  \\\n",
       "0      1839.508257              517  ...                 0          0.0   \n",
       "1        67.496680            27300  ...                 0          0.0   \n",
       "2        29.516097              638  ...                 0          0.0   \n",
       "3         0.000000                0  ...                 0          0.0   \n",
       "4       130.042942             2596  ...                 0          0.0   \n",
       "\n",
       "   Active Std  Active Max  Active Min  Idle Mean  Idle Std  Idle Max  \\\n",
       "0         0.0         0.0         0.0        0.0       0.0       0.0   \n",
       "1         0.0         0.0         0.0        0.0       0.0       0.0   \n",
       "2         0.0         0.0         0.0        0.0       0.0       0.0   \n",
       "3         0.0         0.0         0.0        0.0       0.0       0.0   \n",
       "4         0.0         0.0         0.0        0.0       0.0       0.0   \n",
       "\n",
       "   Idle Min   Label  \n",
       "0       0.0  Normal  \n",
       "1       0.0  Normal  \n",
       "2       0.0  Normal  \n",
       "3       0.0  Normal  \n",
       "4       0.0  Normal  \n",
       "\n",
       "[5 rows x 77 columns]"
      ]
     },
     "execution_count": 8,
     "metadata": {},
     "output_type": "execute_result"
    }
   ],
   "source": [
    "df.head(5)"
   ]
  },
  {
   "cell_type": "code",
   "execution_count": 9,
   "id": "c4c33f43",
   "metadata": {
    "execution": {
     "iopub.execute_input": "2021-12-02T20:16:36.864807Z",
     "iopub.status.busy": "2021-12-02T20:16:36.864245Z",
     "iopub.status.idle": "2021-12-02T20:16:36.878931Z",
     "shell.execute_reply": "2021-12-02T20:16:36.879486Z",
     "shell.execute_reply.started": "2021-12-02T18:56:33.244552Z"
    },
    "papermill": {
     "duration": 0.042619,
     "end_time": "2021-12-02T20:16:36.879663",
     "exception": false,
     "start_time": "2021-12-02T20:16:36.837044",
     "status": "completed"
    },
    "tags": []
   },
   "outputs": [],
   "source": [
    "#Encoding categorical data i.e Label\n",
    "pmap = {'Normal':0,'Probe ':1,'DDoS':1,'DoS':1,'BFA':1,'Web-Attack':1,'BOTNET':1,'U2R':1,'DDoS':1}\n",
    "df_test['Label'] = df_test['Label'].map(pmap)\n"
   ]
  },
  {
   "cell_type": "code",
   "execution_count": 10,
   "id": "2d5f40f9",
   "metadata": {
    "execution": {
     "iopub.execute_input": "2021-12-02T20:16:36.932195Z",
     "iopub.status.busy": "2021-12-02T20:16:36.931604Z",
     "iopub.status.idle": "2021-12-02T20:16:36.952537Z",
     "shell.execute_reply": "2021-12-02T20:16:36.953095Z",
     "shell.execute_reply.started": "2021-12-02T18:56:35.545987Z"
    },
    "papermill": {
     "duration": 0.048168,
     "end_time": "2021-12-02T20:16:36.953266",
     "exception": false,
     "start_time": "2021-12-02T20:16:36.905098",
     "status": "completed"
    },
    "tags": []
   },
   "outputs": [
    {
     "data": {
      "text/html": [
       "<div>\n",
       "<style scoped>\n",
       "    .dataframe tbody tr th:only-of-type {\n",
       "        vertical-align: middle;\n",
       "    }\n",
       "\n",
       "    .dataframe tbody tr th {\n",
       "        vertical-align: top;\n",
       "    }\n",
       "\n",
       "    .dataframe thead th {\n",
       "        text-align: right;\n",
       "    }\n",
       "</style>\n",
       "<table border=\"1\" class=\"dataframe\">\n",
       "  <thead>\n",
       "    <tr style=\"text-align: right;\">\n",
       "      <th></th>\n",
       "      <th>Flow Duration</th>\n",
       "      <th>Tot Fwd Pkts</th>\n",
       "      <th>Tot Bwd Pkts</th>\n",
       "      <th>TotLen Fwd Pkts</th>\n",
       "      <th>TotLen Bwd Pkts</th>\n",
       "      <th>Fwd Pkt Len Max</th>\n",
       "      <th>Fwd Pkt Len Min</th>\n",
       "      <th>Fwd Pkt Len Mean</th>\n",
       "      <th>Fwd Pkt Len Std</th>\n",
       "      <th>Bwd Pkt Len Max</th>\n",
       "      <th>...</th>\n",
       "      <th>Fwd Seg Size Min</th>\n",
       "      <th>Active Mean</th>\n",
       "      <th>Active Std</th>\n",
       "      <th>Active Max</th>\n",
       "      <th>Active Min</th>\n",
       "      <th>Idle Mean</th>\n",
       "      <th>Idle Std</th>\n",
       "      <th>Idle Max</th>\n",
       "      <th>Idle Min</th>\n",
       "      <th>Label</th>\n",
       "    </tr>\n",
       "  </thead>\n",
       "  <tbody>\n",
       "    <tr>\n",
       "      <th>0</th>\n",
       "      <td>4045</td>\n",
       "      <td>2</td>\n",
       "      <td>5</td>\n",
       "      <td>476</td>\n",
       "      <td>1803</td>\n",
       "      <td>476</td>\n",
       "      <td>0</td>\n",
       "      <td>238.0</td>\n",
       "      <td>336.582828</td>\n",
       "      <td>1803</td>\n",
       "      <td>...</td>\n",
       "      <td>0</td>\n",
       "      <td>0.0</td>\n",
       "      <td>0.0</td>\n",
       "      <td>0.0</td>\n",
       "      <td>0.0</td>\n",
       "      <td>0.0</td>\n",
       "      <td>0.0</td>\n",
       "      <td>0.0</td>\n",
       "      <td>0.0</td>\n",
       "      <td>1.0</td>\n",
       "    </tr>\n",
       "    <tr>\n",
       "      <th>1</th>\n",
       "      <td>284</td>\n",
       "      <td>1</td>\n",
       "      <td>1</td>\n",
       "      <td>0</td>\n",
       "      <td>0</td>\n",
       "      <td>0</td>\n",
       "      <td>0</td>\n",
       "      <td>0.0</td>\n",
       "      <td>0.000000</td>\n",
       "      <td>0</td>\n",
       "      <td>...</td>\n",
       "      <td>0</td>\n",
       "      <td>0.0</td>\n",
       "      <td>0.0</td>\n",
       "      <td>0.0</td>\n",
       "      <td>0.0</td>\n",
       "      <td>0.0</td>\n",
       "      <td>0.0</td>\n",
       "      <td>0.0</td>\n",
       "      <td>0.0</td>\n",
       "      <td>1.0</td>\n",
       "    </tr>\n",
       "    <tr>\n",
       "      <th>2</th>\n",
       "      <td>4302</td>\n",
       "      <td>2</td>\n",
       "      <td>5</td>\n",
       "      <td>478</td>\n",
       "      <td>1803</td>\n",
       "      <td>478</td>\n",
       "      <td>0</td>\n",
       "      <td>239.0</td>\n",
       "      <td>337.997041</td>\n",
       "      <td>1803</td>\n",
       "      <td>...</td>\n",
       "      <td>0</td>\n",
       "      <td>0.0</td>\n",
       "      <td>0.0</td>\n",
       "      <td>0.0</td>\n",
       "      <td>0.0</td>\n",
       "      <td>0.0</td>\n",
       "      <td>0.0</td>\n",
       "      <td>0.0</td>\n",
       "      <td>0.0</td>\n",
       "      <td>1.0</td>\n",
       "    </tr>\n",
       "    <tr>\n",
       "      <th>3</th>\n",
       "      <td>83</td>\n",
       "      <td>1</td>\n",
       "      <td>1</td>\n",
       "      <td>0</td>\n",
       "      <td>0</td>\n",
       "      <td>0</td>\n",
       "      <td>0</td>\n",
       "      <td>0.0</td>\n",
       "      <td>0.000000</td>\n",
       "      <td>0</td>\n",
       "      <td>...</td>\n",
       "      <td>0</td>\n",
       "      <td>0.0</td>\n",
       "      <td>0.0</td>\n",
       "      <td>0.0</td>\n",
       "      <td>0.0</td>\n",
       "      <td>0.0</td>\n",
       "      <td>0.0</td>\n",
       "      <td>0.0</td>\n",
       "      <td>0.0</td>\n",
       "      <td>1.0</td>\n",
       "    </tr>\n",
       "    <tr>\n",
       "      <th>4</th>\n",
       "      <td>3760</td>\n",
       "      <td>2</td>\n",
       "      <td>5</td>\n",
       "      <td>477</td>\n",
       "      <td>1803</td>\n",
       "      <td>477</td>\n",
       "      <td>0</td>\n",
       "      <td>238.5</td>\n",
       "      <td>337.289935</td>\n",
       "      <td>1803</td>\n",
       "      <td>...</td>\n",
       "      <td>0</td>\n",
       "      <td>0.0</td>\n",
       "      <td>0.0</td>\n",
       "      <td>0.0</td>\n",
       "      <td>0.0</td>\n",
       "      <td>0.0</td>\n",
       "      <td>0.0</td>\n",
       "      <td>0.0</td>\n",
       "      <td>0.0</td>\n",
       "      <td>1.0</td>\n",
       "    </tr>\n",
       "  </tbody>\n",
       "</table>\n",
       "<p>5 rows × 77 columns</p>\n",
       "</div>"
      ],
      "text/plain": [
       "   Flow Duration  Tot Fwd Pkts  Tot Bwd Pkts  TotLen Fwd Pkts  \\\n",
       "0           4045             2             5              476   \n",
       "1            284             1             1                0   \n",
       "2           4302             2             5              478   \n",
       "3             83             1             1                0   \n",
       "4           3760             2             5              477   \n",
       "\n",
       "   TotLen Bwd Pkts  Fwd Pkt Len Max  Fwd Pkt Len Min  Fwd Pkt Len Mean  \\\n",
       "0             1803              476                0             238.0   \n",
       "1                0                0                0               0.0   \n",
       "2             1803              478                0             239.0   \n",
       "3                0                0                0               0.0   \n",
       "4             1803              477                0             238.5   \n",
       "\n",
       "   Fwd Pkt Len Std  Bwd Pkt Len Max  ...  Fwd Seg Size Min  Active Mean  \\\n",
       "0       336.582828             1803  ...                 0          0.0   \n",
       "1         0.000000                0  ...                 0          0.0   \n",
       "2       337.997041             1803  ...                 0          0.0   \n",
       "3         0.000000                0  ...                 0          0.0   \n",
       "4       337.289935             1803  ...                 0          0.0   \n",
       "\n",
       "   Active Std  Active Max  Active Min  Idle Mean  Idle Std  Idle Max  \\\n",
       "0         0.0         0.0         0.0        0.0       0.0       0.0   \n",
       "1         0.0         0.0         0.0        0.0       0.0       0.0   \n",
       "2         0.0         0.0         0.0        0.0       0.0       0.0   \n",
       "3         0.0         0.0         0.0        0.0       0.0       0.0   \n",
       "4         0.0         0.0         0.0        0.0       0.0       0.0   \n",
       "\n",
       "   Idle Min  Label  \n",
       "0       0.0    1.0  \n",
       "1       0.0    1.0  \n",
       "2       0.0    1.0  \n",
       "3       0.0    1.0  \n",
       "4       0.0    1.0  \n",
       "\n",
       "[5 rows x 77 columns]"
      ]
     },
     "execution_count": 10,
     "metadata": {},
     "output_type": "execute_result"
    }
   ],
   "source": [
    "df_test.head(5)"
   ]
  },
  {
   "cell_type": "code",
   "execution_count": 11,
   "id": "fc014f61",
   "metadata": {
    "execution": {
     "iopub.execute_input": "2021-12-02T20:16:37.007469Z",
     "iopub.status.busy": "2021-12-02T20:16:37.006857Z",
     "iopub.status.idle": "2021-12-02T20:16:37.015143Z",
     "shell.execute_reply": "2021-12-02T20:16:37.015577Z",
     "shell.execute_reply.started": "2021-12-02T18:56:38.334095Z"
    },
    "papermill": {
     "duration": 0.037004,
     "end_time": "2021-12-02T20:16:37.015758",
     "exception": false,
     "start_time": "2021-12-02T20:16:36.978754",
     "status": "completed"
    },
    "tags": []
   },
   "outputs": [
    {
     "data": {
      "text/plain": [
       "array([ 1., nan])"
      ]
     },
     "execution_count": 11,
     "metadata": {},
     "output_type": "execute_result"
    }
   ],
   "source": [
    "df_test.Label.unique()"
   ]
  },
  {
   "cell_type": "code",
   "execution_count": 12,
   "id": "9fcbbcd0",
   "metadata": {
    "execution": {
     "iopub.execute_input": "2021-12-02T20:16:37.072143Z",
     "iopub.status.busy": "2021-12-02T20:16:37.071543Z",
     "iopub.status.idle": "2021-12-02T20:16:37.095816Z",
     "shell.execute_reply": "2021-12-02T20:16:37.096329Z",
     "shell.execute_reply.started": "2021-12-02T18:56:39.276742Z"
    },
    "papermill": {
     "duration": 0.053676,
     "end_time": "2021-12-02T20:16:37.096514",
     "exception": false,
     "start_time": "2021-12-02T20:16:37.042838",
     "status": "completed"
    },
    "tags": []
   },
   "outputs": [
    {
     "data": {
      "text/plain": [
       "Flow Duration          0\n",
       "Tot Fwd Pkts           0\n",
       "Tot Bwd Pkts           0\n",
       "TotLen Fwd Pkts        0\n",
       "TotLen Bwd Pkts        0\n",
       "                   ...  \n",
       "Idle Mean              0\n",
       "Idle Std               0\n",
       "Idle Max               0\n",
       "Idle Min               0\n",
       "Label              84785\n",
       "Length: 77, dtype: int64"
      ]
     },
     "execution_count": 12,
     "metadata": {},
     "output_type": "execute_result"
    }
   ],
   "source": [
    "df_test.isna().sum()\n"
   ]
  },
  {
   "cell_type": "code",
   "execution_count": 13,
   "id": "0c74ecf6",
   "metadata": {
    "execution": {
     "iopub.execute_input": "2021-12-02T20:16:37.150523Z",
     "iopub.status.busy": "2021-12-02T20:16:37.149903Z",
     "iopub.status.idle": "2021-12-02T20:16:38.046700Z",
     "shell.execute_reply": "2021-12-02T20:16:38.047163Z",
     "shell.execute_reply.started": "2021-12-02T18:56:41.850855Z"
    },
    "papermill": {
     "duration": 0.925328,
     "end_time": "2021-12-02T20:16:38.047358",
     "exception": false,
     "start_time": "2021-12-02T20:16:37.122030",
     "status": "completed"
    },
    "tags": []
   },
   "outputs": [],
   "source": [
    "from sklearn.model_selection import train_test_split\n",
    "from sklearn.preprocessing import MinMaxScaler\n",
    "from sklearn.metrics import confusion_matrix, accuracy_score"
   ]
  },
  {
   "cell_type": "code",
   "execution_count": 14,
   "id": "c6d1f38e",
   "metadata": {
    "execution": {
     "iopub.execute_input": "2021-12-02T20:16:38.106771Z",
     "iopub.status.busy": "2021-12-02T20:16:38.105762Z",
     "iopub.status.idle": "2021-12-02T20:16:38.156012Z",
     "shell.execute_reply": "2021-12-02T20:16:38.155530Z",
     "shell.execute_reply.started": "2021-12-02T18:56:43.177138Z"
    },
    "papermill": {
     "duration": 0.082964,
     "end_time": "2021-12-02T20:16:38.156157",
     "exception": false,
     "start_time": "2021-12-02T20:16:38.073193",
     "status": "completed"
    },
    "tags": []
   },
   "outputs": [
    {
     "name": "stdout",
     "output_type": "stream",
     "text": [
      "         Flow Duration  Tot Fwd Pkts  Tot Bwd Pkts  TotLen Fwd Pkts  \\\n",
      "min               -154             0             1              0.0   \n",
      "max          119999993         16928         34094       31600000.0   \n",
      "balance      119999839         16928         34095       31600000.0   \n",
      "\n",
      "         TotLen Bwd Pkts  Fwd Pkt Len Max  Fwd Pkt Len Min  Fwd Pkt Len Mean  \\\n",
      "min                  0.0                0                0               0.0   \n",
      "max          107000000.0            64239             3900           32119.5   \n",
      "balance      107000000.0            64239             3900           32119.5   \n",
      "\n",
      "         Fwd Pkt Len Std  Bwd Pkt Len Max  ...  Fwd Seg Size Min  Active Mean  \\\n",
      "min              0.00000                0  ...                 0          0.0   \n",
      "max          45423.83252            64239  ...                 0  104000000.0   \n",
      "balance      45423.83252            64239  ...                 0  104000000.0   \n",
      "\n",
      "         Active Std   Active Max   Active Min    Idle Mean    Idle Std  \\\n",
      "min             0.0          0.0          0.0          0.0         0.0   \n",
      "max      68300000.0  104000000.0  104000000.0  119000000.0  73000000.0   \n",
      "balance  68300000.0  104000000.0  104000000.0  119000000.0  73000000.0   \n",
      "\n",
      "            Idle Max     Idle Min         Label  \n",
      "min              0.0          0.0        Normal  \n",
      "max      119000000.0  119000000.0        Normal  \n",
      "balance  119000000.0  119000000.0  NormalNormal  \n",
      "\n",
      "[3 rows x 77 columns]\n"
     ]
    }
   ],
   "source": [
    "min_col = {}\n",
    "max_col = {}\n",
    "balance = {}\n",
    "for col in df:\n",
    "    max_col[col]= df[col].max()\n",
    "    min_col[col]= df[col].min()\n",
    "    #plt.hist(df[col])\n",
    "    #plt.show()\n",
    "    balance[col]= max_col[col] + min_col[col]\n",
    "\n",
    "result = pd.DataFrame([min_col, max_col, balance], index=['min', 'max', 'balance'])\n",
    "print(result)    "
   ]
  },
  {
   "cell_type": "code",
   "execution_count": 15,
   "id": "3f7eefb3",
   "metadata": {
    "execution": {
     "iopub.execute_input": "2021-12-02T20:16:38.210938Z",
     "iopub.status.busy": "2021-12-02T20:16:38.210347Z",
     "iopub.status.idle": "2021-12-02T20:16:38.266468Z",
     "shell.execute_reply": "2021-12-02T20:16:38.267274Z",
     "shell.execute_reply.started": "2021-12-02T18:56:45.198208Z"
    },
    "papermill": {
     "duration": 0.085438,
     "end_time": "2021-12-02T20:16:38.267539",
     "exception": false,
     "start_time": "2021-12-02T20:16:38.182101",
     "status": "completed"
    },
    "tags": []
   },
   "outputs": [
    {
     "name": "stdout",
     "output_type": "stream",
     "text": [
      "         Flow Duration  Tot Fwd Pkts  Tot Bwd Pkts  TotLen Fwd Pkts  \\\n",
      "min                  1             0             1                0   \n",
      "max          119786058        910748          2039            77600   \n",
      "balance      119786059        910748          2040            77600   \n",
      "\n",
      "         TotLen Bwd Pkts  Fwd Pkt Len Max  Fwd Pkt Len Min  Fwd Pkt Len Mean  \\\n",
      "min                    0                0                0          0.000000   \n",
      "max                80143             1448               44       1201.181818   \n",
      "balance            80143             1448               44       1201.181818   \n",
      "\n",
      "         Fwd Pkt Len Std  Bwd Pkt Len Max  ...  Fwd Seg Size Min  Active Mean  \\\n",
      "min              0.00000                0  ...                 0          0.0   \n",
      "max            625.38812             2063  ...                 0   68100000.0   \n",
      "balance        625.38812             2063  ...                 0   68100000.0   \n",
      "\n",
      "          Active Std  Active Max  Active Min   Idle Mean    Idle Std  \\\n",
      "min            0.000         0.0         0.0         0.0         0.0   \n",
      "max      6092366.713  68100000.0  68100000.0  82200000.0  17800000.0   \n",
      "balance  6092366.713  68100000.0  68100000.0  82200000.0  17800000.0   \n",
      "\n",
      "           Idle Max    Idle Min  Label  \n",
      "min             0.0         0.0    1.0  \n",
      "max      82200000.0  82200000.0    1.0  \n",
      "balance  82200000.0  82200000.0    2.0  \n",
      "\n",
      "[3 rows x 77 columns]\n"
     ]
    }
   ],
   "source": [
    "min_col = {}\n",
    "max_col = {}\n",
    "balance = {}\n",
    "for col in df_test:\n",
    "    max_col[col]= df_test[col].max()\n",
    "    min_col[col]= df_test[col].min()\n",
    "    #plt.hist(df[col])\n",
    "    #plt.show()\n",
    "    balance[col]= max_col[col] + min_col[col]\n",
    "\n",
    "result = pd.DataFrame([min_col, max_col, balance], index=['min', 'max', 'balance'])\n",
    "print(result)    "
   ]
  },
  {
   "cell_type": "code",
   "execution_count": 16,
   "id": "6bb4d92f",
   "metadata": {
    "execution": {
     "iopub.execute_input": "2021-12-02T20:16:38.325270Z",
     "iopub.status.busy": "2021-12-02T20:16:38.323317Z",
     "iopub.status.idle": "2021-12-02T20:16:38.328327Z",
     "shell.execute_reply": "2021-12-02T20:16:38.328756Z",
     "shell.execute_reply.started": "2021-12-02T18:56:47.079704Z"
    },
    "papermill": {
     "duration": 0.034787,
     "end_time": "2021-12-02T20:16:38.328912",
     "exception": false,
     "start_time": "2021-12-02T20:16:38.294125",
     "status": "completed"
    },
    "tags": []
   },
   "outputs": [
    {
     "data": {
      "text/plain": [
       "(138722, 77)"
      ]
     },
     "execution_count": 16,
     "metadata": {},
     "output_type": "execute_result"
    }
   ],
   "source": [
    "df_test.shape"
   ]
  },
  {
   "cell_type": "code",
   "execution_count": 17,
   "id": "859ea65e",
   "metadata": {
    "execution": {
     "iopub.execute_input": "2021-12-02T20:16:38.386454Z",
     "iopub.status.busy": "2021-12-02T20:16:38.385513Z",
     "iopub.status.idle": "2021-12-02T20:16:38.462717Z",
     "shell.execute_reply": "2021-12-02T20:16:38.463469Z",
     "shell.execute_reply.started": "2021-12-02T18:56:47.483463Z"
    },
    "papermill": {
     "duration": 0.107898,
     "end_time": "2021-12-02T20:16:38.463767",
     "exception": false,
     "start_time": "2021-12-02T20:16:38.355869",
     "status": "completed"
    },
    "tags": []
   },
   "outputs": [
    {
     "name": "stdout",
     "output_type": "stream",
     "text": [
      "[[2.04486416e-03 2.59924386e-03 1.14392984e-03 ... 0.00000000e+00\n",
      "  0.00000000e+00 0.00000000e+00]\n",
      " [1.33800086e-02 6.32088847e-03 4.34106708e-03 ... 0.00000000e+00\n",
      "  0.00000000e+00 0.00000000e+00]\n",
      " [4.43599457e-04 2.95368620e-04 1.17326137e-04 ... 0.00000000e+00\n",
      "  0.00000000e+00 0.00000000e+00]\n",
      " ...\n",
      " [3.23749603e-05 5.90737240e-05 5.86630687e-05 ... 0.00000000e+00\n",
      "  0.00000000e+00 0.00000000e+00]\n",
      " [1.72874788e-04 0.00000000e+00 2.93315343e-05 ... 0.00000000e+00\n",
      "  0.00000000e+00 0.00000000e+00]\n",
      " [2.66083007e-05 5.90737240e-05 5.86630687e-05 ... 0.00000000e+00\n",
      "  0.00000000e+00 0.00000000e+00]]\n"
     ]
    }
   ],
   "source": [
    "Y = df[['Label']]\n",
    "X = df.drop(['Label',], axis=1)\n",
    "\n",
    "sc = MinMaxScaler(feature_range = (0, 1))\n",
    "X = sc.fit_transform(X)\n",
    "print(X)"
   ]
  },
  {
   "cell_type": "code",
   "execution_count": 18,
   "id": "ced205fd",
   "metadata": {
    "execution": {
     "iopub.execute_input": "2021-12-02T20:16:38.521253Z",
     "iopub.status.busy": "2021-12-02T20:16:38.520643Z",
     "iopub.status.idle": "2021-12-02T20:16:38.525580Z",
     "shell.execute_reply": "2021-12-02T20:16:38.526363Z",
     "shell.execute_reply.started": "2021-12-02T18:56:49.146050Z"
    },
    "papermill": {
     "duration": 0.034891,
     "end_time": "2021-12-02T20:16:38.526633",
     "exception": false,
     "start_time": "2021-12-02T20:16:38.491742",
     "status": "completed"
    },
    "tags": []
   },
   "outputs": [
    {
     "name": "stdout",
     "output_type": "stream",
     "text": [
      "(68424, 76)\n"
     ]
    }
   ],
   "source": [
    "print(X.shape)\n"
   ]
  },
  {
   "cell_type": "code",
   "execution_count": 19,
   "id": "d29f53e1",
   "metadata": {
    "execution": {
     "iopub.execute_input": "2021-12-02T20:16:38.584344Z",
     "iopub.status.busy": "2021-12-02T20:16:38.583704Z",
     "iopub.status.idle": "2021-12-02T20:16:38.595967Z",
     "shell.execute_reply": "2021-12-02T20:16:38.596419Z",
     "shell.execute_reply.started": "2021-12-02T18:56:49.513010Z"
    },
    "papermill": {
     "duration": 0.04207,
     "end_time": "2021-12-02T20:16:38.596599",
     "exception": false,
     "start_time": "2021-12-02T20:16:38.554529",
     "status": "completed"
    },
    "tags": []
   },
   "outputs": [],
   "source": [
    "test = np.array(X)"
   ]
  },
  {
   "cell_type": "code",
   "execution_count": 20,
   "id": "5552cb13",
   "metadata": {
    "execution": {
     "iopub.execute_input": "2021-12-02T20:16:38.653469Z",
     "iopub.status.busy": "2021-12-02T20:16:38.652860Z",
     "iopub.status.idle": "2021-12-02T20:16:38.658727Z",
     "shell.execute_reply": "2021-12-02T20:16:38.658032Z",
     "shell.execute_reply.started": "2021-12-02T18:56:50.568099Z"
    },
    "papermill": {
     "duration": 0.035459,
     "end_time": "2021-12-02T20:16:38.658911",
     "exception": false,
     "start_time": "2021-12-02T20:16:38.623452",
     "status": "completed"
    },
    "tags": []
   },
   "outputs": [
    {
     "name": "stdout",
     "output_type": "stream",
     "text": [
      "[[2.04486416e-03 2.59924386e-03 1.14392984e-03 ... 0.00000000e+00\n",
      "  0.00000000e+00 0.00000000e+00]\n",
      " [1.33800086e-02 6.32088847e-03 4.34106708e-03 ... 0.00000000e+00\n",
      "  0.00000000e+00 0.00000000e+00]\n",
      " [4.43599457e-04 2.95368620e-04 1.17326137e-04 ... 0.00000000e+00\n",
      "  0.00000000e+00 0.00000000e+00]\n",
      " ...\n",
      " [3.23749603e-05 5.90737240e-05 5.86630687e-05 ... 0.00000000e+00\n",
      "  0.00000000e+00 0.00000000e+00]\n",
      " [1.72874788e-04 0.00000000e+00 2.93315343e-05 ... 0.00000000e+00\n",
      "  0.00000000e+00 0.00000000e+00]\n",
      " [2.66083007e-05 5.90737240e-05 5.86630687e-05 ... 0.00000000e+00\n",
      "  0.00000000e+00 0.00000000e+00]]\n"
     ]
    }
   ],
   "source": [
    "print(test)"
   ]
  },
  {
   "cell_type": "code",
   "execution_count": 21,
   "id": "dd37eb71",
   "metadata": {
    "execution": {
     "iopub.execute_input": "2021-12-02T20:16:38.716873Z",
     "iopub.status.busy": "2021-12-02T20:16:38.716278Z",
     "iopub.status.idle": "2021-12-02T20:16:38.818014Z",
     "shell.execute_reply": "2021-12-02T20:16:38.818463Z",
     "shell.execute_reply.started": "2021-12-02T18:56:54.841215Z"
    },
    "papermill": {
     "duration": 0.13182,
     "end_time": "2021-12-02T20:16:38.818641",
     "exception": false,
     "start_time": "2021-12-02T20:16:38.686821",
     "status": "completed"
    },
    "tags": []
   },
   "outputs": [
    {
     "name": "stdout",
     "output_type": "stream",
     "text": [
      "(54739, 76) (13685, 76)\n",
      "(54739, 1) (13685, 1)\n"
     ]
    }
   ],
   "source": [
    "X_train, X_test, Y_train, Y_test = train_test_split(X, Y, test_size=0.20, random_state=42)\n",
    "print(X_train.shape, X_test.shape)\n",
    "print(Y_train.shape, Y_test.shape)"
   ]
  },
  {
   "cell_type": "code",
   "execution_count": 22,
   "id": "9243c377",
   "metadata": {
    "execution": {
     "iopub.execute_input": "2021-12-02T20:16:38.879761Z",
     "iopub.status.busy": "2021-12-02T20:16:38.879151Z",
     "iopub.status.idle": "2021-12-02T20:16:39.113791Z",
     "shell.execute_reply": "2021-12-02T20:16:39.113041Z",
     "shell.execute_reply.started": "2021-12-02T18:56:56.721060Z"
    },
    "papermill": {
     "duration": 0.267943,
     "end_time": "2021-12-02T20:16:39.114015",
     "exception": false,
     "start_time": "2021-12-02T20:16:38.846072",
     "status": "completed"
    },
    "tags": []
   },
   "outputs": [
    {
     "name": "stdout",
     "output_type": "stream",
     "text": [
      "[[3.37601896e-05 2.19599714e-06 1.96270854e-03 ... 0.00000000e+00\n",
      "  0.00000000e+00 0.00000000e+00]\n",
      " [2.36254542e-06 1.09799857e-06 0.00000000e+00 ... 0.00000000e+00\n",
      "  0.00000000e+00 0.00000000e+00]\n",
      " [3.59056814e-05 2.19599714e-06 1.96270854e-03 ... 0.00000000e+00\n",
      "  0.00000000e+00 0.00000000e+00]\n",
      " ...\n",
      " [3.43946541e-05 1.09799857e-06 0.00000000e+00 ... 0.00000000e+00\n",
      "  0.00000000e+00 0.00000000e+00]\n",
      " [4.91376054e-05 2.19599714e-06 1.96270854e-03 ... 0.00000000e+00\n",
      "  0.00000000e+00 0.00000000e+00]\n",
      " [1.24388434e-06 1.09799857e-06 0.00000000e+00 ... 0.00000000e+00\n",
      "  0.00000000e+00 0.00000000e+00]]\n"
     ]
    }
   ],
   "source": [
    "Yy = df_test[['Label']]\n",
    "Xx = df_test.drop(['Label',], axis=1)\n",
    "\n",
    "sc = MinMaxScaler(feature_range = (0, 1))\n",
    "Xx = sc.fit_transform(Xx)\n",
    "print(Xx)"
   ]
  },
  {
   "cell_type": "code",
   "execution_count": 23,
   "id": "b1ec7821",
   "metadata": {
    "execution": {
     "iopub.execute_input": "2021-12-02T20:16:39.174651Z",
     "iopub.status.busy": "2021-12-02T20:16:39.174074Z",
     "iopub.status.idle": "2021-12-02T20:16:39.175766Z",
     "shell.execute_reply": "2021-12-02T20:16:39.176224Z",
     "shell.execute_reply.started": "2021-11-30T08:30:29.309864Z"
    },
    "papermill": {
     "duration": 0.033623,
     "end_time": "2021-12-02T20:16:39.176389",
     "exception": false,
     "start_time": "2021-12-02T20:16:39.142766",
     "status": "completed"
    },
    "tags": []
   },
   "outputs": [],
   "source": [
    "# X_train_out, X_test_out, Y_train_out, Y_test_out = train_test_split(Xx, Yy, test_size=0.40, random_state=42)\n",
    "# print(X_train_out.shape, X_test_out.shape)\n",
    "# print(Y_train_out.shape, Y_test_out.shape)"
   ]
  },
  {
   "cell_type": "code",
   "execution_count": 24,
   "id": "999ac2a9",
   "metadata": {
    "execution": {
     "iopub.execute_input": "2021-12-02T20:16:39.234933Z",
     "iopub.status.busy": "2021-12-02T20:16:39.234326Z",
     "iopub.status.idle": "2021-12-02T20:26:36.270537Z",
     "shell.execute_reply": "2021-12-02T20:26:36.271055Z",
     "shell.execute_reply.started": "2021-12-02T19:31:02.283405Z"
    },
    "papermill": {
     "duration": 597.067265,
     "end_time": "2021-12-02T20:26:36.271281",
     "exception": false,
     "start_time": "2021-12-02T20:16:39.204016",
     "status": "completed"
    },
    "tags": []
   },
   "outputs": [
    {
     "data": {
      "text/plain": [
       "OneClassSVM(gamma=0.001, nu=0.4)"
      ]
     },
     "execution_count": 24,
     "metadata": {},
     "output_type": "execute_result"
    }
   ],
   "source": [
    "from sklearn import svm\n",
    "clf = svm.OneClassSVM(nu=0.4, kernel=\"rbf\", gamma=0.001)\n",
    "clf.fit(X_train)"
   ]
  },
  {
   "cell_type": "code",
   "execution_count": 25,
   "id": "79a0a994",
   "metadata": {
    "execution": {
     "iopub.execute_input": "2021-12-02T20:26:36.332570Z",
     "iopub.status.busy": "2021-12-02T20:26:36.331875Z",
     "iopub.status.idle": "2021-12-02T20:30:03.417536Z",
     "shell.execute_reply": "2021-12-02T20:30:03.416959Z",
     "shell.execute_reply.started": "2021-12-02T19:41:15.805625Z"
    },
    "papermill": {
     "duration": 207.117362,
     "end_time": "2021-12-02T20:30:03.417687",
     "exception": false,
     "start_time": "2021-12-02T20:26:36.300325",
     "status": "completed"
    },
    "tags": []
   },
   "outputs": [],
   "source": [
    "y_pred_train = clf.predict(X_train)\n",
    "y_pred_test = clf.predict(X_test)\n"
   ]
  },
  {
   "cell_type": "code",
   "execution_count": 26,
   "id": "adfd58bf",
   "metadata": {
    "execution": {
     "iopub.execute_input": "2021-12-02T20:30:03.477297Z",
     "iopub.status.busy": "2021-12-02T20:30:03.476450Z",
     "iopub.status.idle": "2021-12-02T20:30:03.482901Z",
     "shell.execute_reply": "2021-12-02T20:30:03.483345Z",
     "shell.execute_reply.started": "2021-12-02T19:44:53.486779Z"
    },
    "papermill": {
     "duration": 0.037251,
     "end_time": "2021-12-02T20:30:03.483510",
     "exception": false,
     "start_time": "2021-12-02T20:30:03.446259",
     "status": "completed"
    },
    "tags": []
   },
   "outputs": [
    {
     "name": "stdout",
     "output_type": "stream",
     "text": [
      "[ 1  1  1 ...  1 -1 -1]\n"
     ]
    },
    {
     "data": {
      "text/plain": [
       "(54739,)"
      ]
     },
     "execution_count": 26,
     "metadata": {},
     "output_type": "execute_result"
    }
   ],
   "source": [
    "print(y_pred_train)\n",
    "y_pred_train.shape"
   ]
  },
  {
   "cell_type": "code",
   "execution_count": 27,
   "id": "f1a959ef",
   "metadata": {
    "execution": {
     "iopub.execute_input": "2021-12-02T20:30:03.546105Z",
     "iopub.status.busy": "2021-12-02T20:30:03.545508Z",
     "iopub.status.idle": "2021-12-02T20:30:03.547973Z",
     "shell.execute_reply": "2021-12-02T20:30:03.548626Z",
     "shell.execute_reply.started": "2021-12-02T19:44:53.497436Z"
    },
    "papermill": {
     "duration": 0.036676,
     "end_time": "2021-12-02T20:30:03.548853",
     "exception": false,
     "start_time": "2021-12-02T20:30:03.512177",
     "status": "completed"
    },
    "tags": []
   },
   "outputs": [
    {
     "name": "stdout",
     "output_type": "stream",
     "text": [
      "[ 1 -1  1 ...  1  1 -1]\n"
     ]
    }
   ],
   "source": [
    "print(y_pred_test)"
   ]
  },
  {
   "cell_type": "code",
   "execution_count": 28,
   "id": "58c4609e",
   "metadata": {
    "execution": {
     "iopub.execute_input": "2021-12-02T20:30:03.613014Z",
     "iopub.status.busy": "2021-12-02T20:30:03.612418Z",
     "iopub.status.idle": "2021-12-02T20:36:59.243044Z",
     "shell.execute_reply": "2021-12-02T20:36:59.243524Z",
     "shell.execute_reply.started": "2021-12-02T19:44:53.511104Z"
    },
    "papermill": {
     "duration": 415.66374,
     "end_time": "2021-12-02T20:36:59.243696",
     "exception": false,
     "start_time": "2021-12-02T20:30:03.579956",
     "status": "completed"
    },
    "tags": []
   },
   "outputs": [
    {
     "data": {
      "text/plain": [
       "(138722,)"
      ]
     },
     "execution_count": 28,
     "metadata": {},
     "output_type": "execute_result"
    }
   ],
   "source": [
    "y_outliers = clf.predict(Xx)\n",
    "y_outliers.shape\n"
   ]
  },
  {
   "cell_type": "code",
   "execution_count": 29,
   "id": "7eb9ca8f",
   "metadata": {
    "execution": {
     "iopub.execute_input": "2021-12-02T20:36:59.303804Z",
     "iopub.status.busy": "2021-12-02T20:36:59.303267Z",
     "iopub.status.idle": "2021-12-02T20:36:59.307328Z",
     "shell.execute_reply": "2021-12-02T20:36:59.307820Z",
     "shell.execute_reply.started": "2021-12-02T19:52:17.062574Z"
    },
    "papermill": {
     "duration": 0.035505,
     "end_time": "2021-12-02T20:36:59.308001",
     "exception": false,
     "start_time": "2021-12-02T20:36:59.272496",
     "status": "completed"
    },
    "tags": []
   },
   "outputs": [
    {
     "name": "stdout",
     "output_type": "stream",
     "text": [
      "[-1  1 -1 ...  1 -1  1]\n"
     ]
    }
   ],
   "source": [
    "print(y_outliers)"
   ]
  },
  {
   "cell_type": "code",
   "execution_count": 30,
   "id": "82be9627",
   "metadata": {
    "execution": {
     "iopub.execute_input": "2021-12-02T20:36:59.368912Z",
     "iopub.status.busy": "2021-12-02T20:36:59.368379Z",
     "iopub.status.idle": "2021-12-02T20:36:59.372822Z",
     "shell.execute_reply": "2021-12-02T20:36:59.373337Z",
     "shell.execute_reply.started": "2021-12-02T19:52:17.070603Z"
    },
    "papermill": {
     "duration": 0.036177,
     "end_time": "2021-12-02T20:36:59.373490",
     "exception": false,
     "start_time": "2021-12-02T20:36:59.337313",
     "status": "completed"
    },
    "tags": []
   },
   "outputs": [],
   "source": [
    "n_error_train = y_pred_train[y_pred_train == -1].size\n",
    "n_error_test = y_pred_test[y_pred_test == -1].size\n",
    "n_error_outliers = y_outliers[y_outliers == 1].size"
   ]
  },
  {
   "cell_type": "code",
   "execution_count": 31,
   "id": "554f0ec5",
   "metadata": {
    "execution": {
     "iopub.execute_input": "2021-12-02T20:36:59.433901Z",
     "iopub.status.busy": "2021-12-02T20:36:59.433367Z",
     "iopub.status.idle": "2021-12-02T20:36:59.438070Z",
     "shell.execute_reply": "2021-12-02T20:36:59.438572Z",
     "shell.execute_reply.started": "2021-12-02T19:52:17.088731Z"
    },
    "papermill": {
     "duration": 0.036293,
     "end_time": "2021-12-02T20:36:59.438726",
     "exception": false,
     "start_time": "2021-12-02T20:36:59.402433",
     "status": "completed"
    },
    "tags": []
   },
   "outputs": [
    {
     "name": "stdout",
     "output_type": "stream",
     "text": [
      "21413\n",
      "5370\n",
      "5609\n"
     ]
    }
   ],
   "source": [
    "print(n_error_train)\n",
    "print(n_error_test)\n",
    "print(n_error_outliers)"
   ]
  },
  {
   "cell_type": "markdown",
   "id": "944d3a79",
   "metadata": {
    "papermill": {
     "duration": 0.02883,
     "end_time": "2021-12-02T20:36:59.496851",
     "exception": false,
     "start_time": "2021-12-02T20:36:59.468021",
     "status": "completed"
    },
    "tags": []
   },
   "source": [
    "# For normal "
   ]
  },
  {
   "cell_type": "code",
   "execution_count": 32,
   "id": "05241102",
   "metadata": {
    "execution": {
     "iopub.execute_input": "2021-12-02T20:36:59.558898Z",
     "iopub.status.busy": "2021-12-02T20:36:59.558325Z",
     "iopub.status.idle": "2021-12-02T20:36:59.568106Z",
     "shell.execute_reply": "2021-12-02T20:36:59.568631Z",
     "shell.execute_reply.started": "2021-12-02T19:52:17.103977Z"
    },
    "papermill": {
     "duration": 0.042044,
     "end_time": "2021-12-02T20:36:59.568801",
     "exception": false,
     "start_time": "2021-12-02T20:36:59.526757",
     "status": "completed"
    },
    "tags": []
   },
   "outputs": [
    {
     "data": {
      "text/plain": [
       "0.6088163832002776"
      ]
     },
     "execution_count": 32,
     "metadata": {},
     "output_type": "execute_result"
    }
   ],
   "source": [
    "from sklearn.metrics import accuracy_score\n",
    "y_true = np.ones((54739,1), dtype=np.int)\n",
    "accuracy_score(y_true, y_pred_train)"
   ]
  },
  {
   "cell_type": "markdown",
   "id": "ad369600",
   "metadata": {
    "papermill": {
     "duration": 0.030614,
     "end_time": "2021-12-02T20:36:59.630212",
     "exception": false,
     "start_time": "2021-12-02T20:36:59.599598",
     "status": "completed"
    },
    "tags": []
   },
   "source": [
    "# For anomaly"
   ]
  },
  {
   "cell_type": "code",
   "execution_count": 33,
   "id": "e9050195",
   "metadata": {
    "execution": {
     "iopub.execute_input": "2021-12-02T20:36:59.694338Z",
     "iopub.status.busy": "2021-12-02T20:36:59.693786Z",
     "iopub.status.idle": "2021-12-02T20:36:59.715256Z",
     "shell.execute_reply": "2021-12-02T20:36:59.715764Z",
     "shell.execute_reply.started": "2021-12-02T19:52:17.129570Z"
    },
    "papermill": {
     "duration": 0.054493,
     "end_time": "2021-12-02T20:36:59.715920",
     "exception": false,
     "start_time": "2021-12-02T20:36:59.661427",
     "status": "completed"
    },
    "tags": []
   },
   "outputs": [
    {
     "data": {
      "text/plain": [
       "0.9595666152448783"
      ]
     },
     "execution_count": 33,
     "metadata": {},
     "output_type": "execute_result"
    }
   ],
   "source": [
    "from sklearn.metrics import accuracy_score\n",
    "y_true = np.ones((138722,1), dtype=np.int)\n",
    "accuracy_score(y_true, y_outliers)\n",
    "1-accuracy_score(y_true, y_outliers)"
   ]
  },
  {
   "cell_type": "code",
   "execution_count": 34,
   "id": "98e8cdca",
   "metadata": {
    "execution": {
     "iopub.execute_input": "2021-12-02T20:36:59.778720Z",
     "iopub.status.busy": "2021-12-02T20:36:59.778176Z",
     "iopub.status.idle": "2021-12-02T20:36:59.942213Z",
     "shell.execute_reply": "2021-12-02T20:36:59.941609Z",
     "shell.execute_reply.started": "2021-12-02T19:52:17.158444Z"
    },
    "papermill": {
     "duration": 0.196638,
     "end_time": "2021-12-02T20:36:59.942362",
     "exception": false,
     "start_time": "2021-12-02T20:36:59.745724",
     "status": "completed"
    },
    "tags": []
   },
   "outputs": [
    {
     "name": "stdout",
     "output_type": "stream",
     "text": [
      "              precision    recall  f1-score   support\n",
      "\n",
      "          -1       0.00      0.00      0.00         0\n",
      "           1       1.00      0.04      0.08    138722\n",
      "\n",
      "    accuracy                           0.04    138722\n",
      "   macro avg       0.50      0.02      0.04    138722\n",
      "weighted avg       1.00      0.04      0.08    138722\n",
      "\n"
     ]
    },
    {
     "name": "stderr",
     "output_type": "stream",
     "text": [
      "/opt/conda/lib/python3.7/site-packages/sklearn/metrics/_classification.py:1221: UndefinedMetricWarning: Recall and F-score are ill-defined and being set to 0.0 in labels with no true samples. Use `zero_division` parameter to control this behavior.\n",
      "  _warn_prf(average, modifier, msg_start, len(result))\n"
     ]
    }
   ],
   "source": [
    "from sklearn.metrics import classification_report\n",
    "print(classification_report(y_true,y_outliers))"
   ]
  }
 ],
 "metadata": {
  "kernelspec": {
   "display_name": "Python 3",
   "language": "python",
   "name": "python3"
  },
  "language_info": {
   "codemirror_mode": {
    "name": "ipython",
    "version": 3
   },
   "file_extension": ".py",
   "mimetype": "text/x-python",
   "name": "python",
   "nbconvert_exporter": "python",
   "pygments_lexer": "ipython3",
   "version": "3.7.10"
  },
  "papermill": {
   "default_parameters": {},
   "duration": 1235.255088,
   "end_time": "2021-12-02T20:37:01.523877",
   "environment_variables": {},
   "exception": null,
   "input_path": "__notebook__.ipynb",
   "output_path": "__notebook__.ipynb",
   "parameters": {},
   "start_time": "2021-12-02T20:16:26.268789",
   "version": "2.3.3"
  }
 },
 "nbformat": 4,
 "nbformat_minor": 5
}
